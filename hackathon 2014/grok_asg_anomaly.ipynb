{
 "cells": [
  {
   "cell_type": "code",
   "execution_count": 6,
   "id": "ed0d308f-9e2e-47b3-b8f6-3983c3d4f8c2",
   "metadata": {},
   "outputs": [],
   "source": [
    "import pandas as pd\n",
    "import numpy as np\n",
    "import matplotlib.pyplot as plt\n",
    "import seaborn as sns\n",
    "#here we load library"
   ]
  },
  {
   "cell_type": "code",
   "execution_count": 7,
   "id": "78ea882a-57cb-4746-90e9-0a8ec41626b8",
   "metadata": {},
   "outputs": [],
   "source": [
    "## loading the data\n",
    "data=pd.read_csv(\"grok_asg_anomaly.csv\") "
   ]
  },
  {
   "cell_type": "code",
   "execution_count": 8,
   "id": "08872660-3c5e-47e3-97c0-788ec3c3c3ce",
   "metadata": {},
   "outputs": [
    {
     "data": {
      "text/html": [
       "<div>\n",
       "<style scoped>\n",
       "    .dataframe tbody tr th:only-of-type {\n",
       "        vertical-align: middle;\n",
       "    }\n",
       "\n",
       "    .dataframe tbody tr th {\n",
       "        vertical-align: top;\n",
       "    }\n",
       "\n",
       "    .dataframe thead th {\n",
       "        text-align: right;\n",
       "    }\n",
       "</style>\n",
       "<table border=\"1\" class=\"dataframe\">\n",
       "  <thead>\n",
       "    <tr style=\"text-align: right;\">\n",
       "      <th></th>\n",
       "      <th>timestamp</th>\n",
       "      <th>value</th>\n",
       "    </tr>\n",
       "  </thead>\n",
       "  <tbody>\n",
       "    <tr>\n",
       "      <th>0</th>\n",
       "      <td>2014-01-16 00:00:00</td>\n",
       "      <td>33.5573</td>\n",
       "    </tr>\n",
       "    <tr>\n",
       "      <th>1</th>\n",
       "      <td>2014-01-16 00:05:00</td>\n",
       "      <td>33.4460</td>\n",
       "    </tr>\n",
       "    <tr>\n",
       "      <th>2</th>\n",
       "      <td>2014-01-16 00:10:00</td>\n",
       "      <td>33.4447</td>\n",
       "    </tr>\n",
       "    <tr>\n",
       "      <th>3</th>\n",
       "      <td>2014-01-16 00:15:00</td>\n",
       "      <td>33.3333</td>\n",
       "    </tr>\n",
       "    <tr>\n",
       "      <th>4</th>\n",
       "      <td>2014-01-16 00:20:00</td>\n",
       "      <td>33.4447</td>\n",
       "    </tr>\n",
       "    <tr>\n",
       "      <th>...</th>\n",
       "      <td>...</td>\n",
       "      <td>...</td>\n",
       "    </tr>\n",
       "    <tr>\n",
       "      <th>4616</th>\n",
       "      <td>2014-02-01 00:40:00</td>\n",
       "      <td>0.3380</td>\n",
       "    </tr>\n",
       "    <tr>\n",
       "      <th>4617</th>\n",
       "      <td>2014-02-01 00:45:00</td>\n",
       "      <td>0.0000</td>\n",
       "    </tr>\n",
       "    <tr>\n",
       "      <th>4618</th>\n",
       "      <td>2014-02-01 00:50:00</td>\n",
       "      <td>0.0000</td>\n",
       "    </tr>\n",
       "    <tr>\n",
       "      <th>4619</th>\n",
       "      <td>2014-02-01 00:55:00</td>\n",
       "      <td>0.0000</td>\n",
       "    </tr>\n",
       "    <tr>\n",
       "      <th>4620</th>\n",
       "      <td>2014-02-01 01:00:00</td>\n",
       "      <td>0.3340</td>\n",
       "    </tr>\n",
       "  </tbody>\n",
       "</table>\n",
       "<p>4621 rows × 2 columns</p>\n",
       "</div>"
      ],
      "text/plain": [
       "                timestamp    value\n",
       "0     2014-01-16 00:00:00  33.5573\n",
       "1     2014-01-16 00:05:00  33.4460\n",
       "2     2014-01-16 00:10:00  33.4447\n",
       "3     2014-01-16 00:15:00  33.3333\n",
       "4     2014-01-16 00:20:00  33.4447\n",
       "...                   ...      ...\n",
       "4616  2014-02-01 00:40:00   0.3380\n",
       "4617  2014-02-01 00:45:00   0.0000\n",
       "4618  2014-02-01 00:50:00   0.0000\n",
       "4619  2014-02-01 00:55:00   0.0000\n",
       "4620  2014-02-01 01:00:00   0.3340\n",
       "\n",
       "[4621 rows x 2 columns]"
      ]
     },
     "execution_count": 8,
     "metadata": {},
     "output_type": "execute_result"
    }
   ],
   "source": [
    "data"
   ]
  },
  {
   "cell_type": "code",
   "execution_count": 9,
   "id": "719fe3c3-17c5-42c6-846e-d2a6c39def99",
   "metadata": {},
   "outputs": [
    {
     "data": {
      "text/html": [
       "<div>\n",
       "<style scoped>\n",
       "    .dataframe tbody tr th:only-of-type {\n",
       "        vertical-align: middle;\n",
       "    }\n",
       "\n",
       "    .dataframe tbody tr th {\n",
       "        vertical-align: top;\n",
       "    }\n",
       "\n",
       "    .dataframe thead th {\n",
       "        text-align: right;\n",
       "    }\n",
       "</style>\n",
       "<table border=\"1\" class=\"dataframe\">\n",
       "  <thead>\n",
       "    <tr style=\"text-align: right;\">\n",
       "      <th></th>\n",
       "      <th>timestamp</th>\n",
       "      <th>value</th>\n",
       "    </tr>\n",
       "  </thead>\n",
       "  <tbody>\n",
       "    <tr>\n",
       "      <th>0</th>\n",
       "      <td>2014-01-16 00:00:00</td>\n",
       "      <td>33.5573</td>\n",
       "    </tr>\n",
       "    <tr>\n",
       "      <th>1</th>\n",
       "      <td>2014-01-16 00:05:00</td>\n",
       "      <td>33.4460</td>\n",
       "    </tr>\n",
       "    <tr>\n",
       "      <th>2</th>\n",
       "      <td>2014-01-16 00:10:00</td>\n",
       "      <td>33.4447</td>\n",
       "    </tr>\n",
       "    <tr>\n",
       "      <th>3</th>\n",
       "      <td>2014-01-16 00:15:00</td>\n",
       "      <td>33.3333</td>\n",
       "    </tr>\n",
       "    <tr>\n",
       "      <th>4</th>\n",
       "      <td>2014-01-16 00:20:00</td>\n",
       "      <td>33.4447</td>\n",
       "    </tr>\n",
       "  </tbody>\n",
       "</table>\n",
       "</div>"
      ],
      "text/plain": [
       "             timestamp    value\n",
       "0  2014-01-16 00:00:00  33.5573\n",
       "1  2014-01-16 00:05:00  33.4460\n",
       "2  2014-01-16 00:10:00  33.4447\n",
       "3  2014-01-16 00:15:00  33.3333\n",
       "4  2014-01-16 00:20:00  33.4447"
      ]
     },
     "execution_count": 9,
     "metadata": {},
     "output_type": "execute_result"
    }
   ],
   "source": [
    "data.head()#first five rows"
   ]
  },
  {
   "cell_type": "code",
   "execution_count": 10,
   "id": "fe06736f-a44e-4634-bedf-dc6c4ab2bbd3",
   "metadata": {},
   "outputs": [
    {
     "data": {
      "text/html": [
       "<div>\n",
       "<style scoped>\n",
       "    .dataframe tbody tr th:only-of-type {\n",
       "        vertical-align: middle;\n",
       "    }\n",
       "\n",
       "    .dataframe tbody tr th {\n",
       "        vertical-align: top;\n",
       "    }\n",
       "\n",
       "    .dataframe thead th {\n",
       "        text-align: right;\n",
       "    }\n",
       "</style>\n",
       "<table border=\"1\" class=\"dataframe\">\n",
       "  <thead>\n",
       "    <tr style=\"text-align: right;\">\n",
       "      <th></th>\n",
       "      <th>timestamp</th>\n",
       "      <th>value</th>\n",
       "    </tr>\n",
       "  </thead>\n",
       "  <tbody>\n",
       "    <tr>\n",
       "      <th>4616</th>\n",
       "      <td>2014-02-01 00:40:00</td>\n",
       "      <td>0.338</td>\n",
       "    </tr>\n",
       "    <tr>\n",
       "      <th>4617</th>\n",
       "      <td>2014-02-01 00:45:00</td>\n",
       "      <td>0.000</td>\n",
       "    </tr>\n",
       "    <tr>\n",
       "      <th>4618</th>\n",
       "      <td>2014-02-01 00:50:00</td>\n",
       "      <td>0.000</td>\n",
       "    </tr>\n",
       "    <tr>\n",
       "      <th>4619</th>\n",
       "      <td>2014-02-01 00:55:00</td>\n",
       "      <td>0.000</td>\n",
       "    </tr>\n",
       "    <tr>\n",
       "      <th>4620</th>\n",
       "      <td>2014-02-01 01:00:00</td>\n",
       "      <td>0.334</td>\n",
       "    </tr>\n",
       "  </tbody>\n",
       "</table>\n",
       "</div>"
      ],
      "text/plain": [
       "                timestamp  value\n",
       "4616  2014-02-01 00:40:00  0.338\n",
       "4617  2014-02-01 00:45:00  0.000\n",
       "4618  2014-02-01 00:50:00  0.000\n",
       "4619  2014-02-01 00:55:00  0.000\n",
       "4620  2014-02-01 01:00:00  0.334"
      ]
     },
     "execution_count": 10,
     "metadata": {},
     "output_type": "execute_result"
    }
   ],
   "source": [
    "data.tail() #last five rows"
   ]
  },
  {
   "cell_type": "code",
   "execution_count": 11,
   "id": "8c98d6c6-90a3-4a98-bc9e-c27a2decafbf",
   "metadata": {},
   "outputs": [
    {
     "name": "stdout",
     "output_type": "stream",
     "text": [
      "<class 'pandas.core.frame.DataFrame'>\n",
      "RangeIndex: 4621 entries, 0 to 4620\n",
      "Data columns (total 2 columns):\n",
      " #   Column     Non-Null Count  Dtype  \n",
      "---  ------     --------------  -----  \n",
      " 0   timestamp  4621 non-null   object \n",
      " 1   value      4621 non-null   float64\n",
      "dtypes: float64(1), object(1)\n",
      "memory usage: 72.3+ KB\n"
     ]
    }
   ],
   "source": [
    "data.info() #infomation of data its object or float"
   ]
  },
  {
   "cell_type": "code",
   "execution_count": 12,
   "id": "1e0a798d-decf-4a1d-b81e-c70dfa65e332",
   "metadata": {},
   "outputs": [
    {
     "data": {
      "text/html": [
       "<div>\n",
       "<style scoped>\n",
       "    .dataframe tbody tr th:only-of-type {\n",
       "        vertical-align: middle;\n",
       "    }\n",
       "\n",
       "    .dataframe tbody tr th {\n",
       "        vertical-align: top;\n",
       "    }\n",
       "\n",
       "    .dataframe thead th {\n",
       "        text-align: right;\n",
       "    }\n",
       "</style>\n",
       "<table border=\"1\" class=\"dataframe\">\n",
       "  <thead>\n",
       "    <tr style=\"text-align: right;\">\n",
       "      <th></th>\n",
       "      <th>value</th>\n",
       "    </tr>\n",
       "  </thead>\n",
       "  <tbody>\n",
       "    <tr>\n",
       "      <th>count</th>\n",
       "      <td>4621.000000</td>\n",
       "    </tr>\n",
       "    <tr>\n",
       "      <th>mean</th>\n",
       "      <td>27.684723</td>\n",
       "    </tr>\n",
       "    <tr>\n",
       "      <th>std</th>\n",
       "      <td>13.144795</td>\n",
       "    </tr>\n",
       "    <tr>\n",
       "      <th>min</th>\n",
       "      <td>0.000000</td>\n",
       "    </tr>\n",
       "    <tr>\n",
       "      <th>25%</th>\n",
       "      <td>33.333300</td>\n",
       "    </tr>\n",
       "    <tr>\n",
       "      <th>50%</th>\n",
       "      <td>33.444700</td>\n",
       "    </tr>\n",
       "    <tr>\n",
       "      <th>75%</th>\n",
       "      <td>33.557300</td>\n",
       "    </tr>\n",
       "    <tr>\n",
       "      <th>max</th>\n",
       "      <td>45.622900</td>\n",
       "    </tr>\n",
       "  </tbody>\n",
       "</table>\n",
       "</div>"
      ],
      "text/plain": [
       "             value\n",
       "count  4621.000000\n",
       "mean     27.684723\n",
       "std      13.144795\n",
       "min       0.000000\n",
       "25%      33.333300\n",
       "50%      33.444700\n",
       "75%      33.557300\n",
       "max      45.622900"
      ]
     },
     "execution_count": 12,
     "metadata": {},
     "output_type": "execute_result"
    }
   ],
   "source": [
    "data.describe()\n",
    "#here we get min ,max ,mean value"
   ]
  },
  {
   "cell_type": "code",
   "execution_count": 13,
   "id": "74bf392a-4c68-47c1-96db-b3d062180775",
   "metadata": {},
   "outputs": [
    {
     "data": {
      "text/plain": [
       "timestamp    0\n",
       "value        0\n",
       "dtype: int64"
      ]
     },
     "execution_count": 13,
     "metadata": {},
     "output_type": "execute_result"
    }
   ],
   "source": [
    "data.isnull().sum()\n",
    "#no data is null"
   ]
  },
  {
   "cell_type": "markdown",
   "id": "2cf453ff-17e0-4be5-943b-7f9be01c270c",
   "metadata": {},
   "source": [
    "# Basic checks"
   ]
  },
  {
   "cell_type": "code",
   "execution_count": 14,
   "id": "e7209688-50a6-453c-ab48-8ef92135c1c2",
   "metadata": {},
   "outputs": [
    {
     "data": {
      "text/html": [
       "<div>\n",
       "<style scoped>\n",
       "    .dataframe tbody tr th:only-of-type {\n",
       "        vertical-align: middle;\n",
       "    }\n",
       "\n",
       "    .dataframe tbody tr th {\n",
       "        vertical-align: top;\n",
       "    }\n",
       "\n",
       "    .dataframe thead th {\n",
       "        text-align: right;\n",
       "    }\n",
       "</style>\n",
       "<table border=\"1\" class=\"dataframe\">\n",
       "  <thead>\n",
       "    <tr style=\"text-align: right;\">\n",
       "      <th></th>\n",
       "      <th>timestamp</th>\n",
       "      <th>value</th>\n",
       "    </tr>\n",
       "  </thead>\n",
       "  <tbody>\n",
       "    <tr>\n",
       "      <th>0</th>\n",
       "      <td>2014-01-16 00:00:00</td>\n",
       "      <td>33.5573</td>\n",
       "    </tr>\n",
       "    <tr>\n",
       "      <th>1</th>\n",
       "      <td>2014-01-16 00:05:00</td>\n",
       "      <td>33.4460</td>\n",
       "    </tr>\n",
       "    <tr>\n",
       "      <th>2</th>\n",
       "      <td>2014-01-16 00:10:00</td>\n",
       "      <td>33.4447</td>\n",
       "    </tr>\n",
       "    <tr>\n",
       "      <th>3</th>\n",
       "      <td>2014-01-16 00:15:00</td>\n",
       "      <td>33.3333</td>\n",
       "    </tr>\n",
       "    <tr>\n",
       "      <th>4</th>\n",
       "      <td>2014-01-16 00:20:00</td>\n",
       "      <td>33.4447</td>\n",
       "    </tr>\n",
       "  </tbody>\n",
       "</table>\n",
       "</div>"
      ],
      "text/plain": [
       "             timestamp    value\n",
       "0  2014-01-16 00:00:00  33.5573\n",
       "1  2014-01-16 00:05:00  33.4460\n",
       "2  2014-01-16 00:10:00  33.4447\n",
       "3  2014-01-16 00:15:00  33.3333\n",
       "4  2014-01-16 00:20:00  33.4447"
      ]
     },
     "execution_count": 14,
     "metadata": {},
     "output_type": "execute_result"
    }
   ],
   "source": [
    "data.head()#first five rows"
   ]
  },
  {
   "cell_type": "code",
   "execution_count": 15,
   "id": "c3b01aa1-2dae-4f33-ac3c-beaf7b1eab67",
   "metadata": {},
   "outputs": [],
   "source": [
    "data=pd.read_csv('grok_asg_anomaly.csv',parse_dates=[0],index_col='timestamp')"
   ]
  },
  {
   "cell_type": "markdown",
   "id": "16ca845c-fc47-4cc5-b411-8c51afaa2e7a",
   "metadata": {},
   "source": [
    "# EDA"
   ]
  },
  {
   "cell_type": "markdown",
   "id": "1d2141d8-7685-4a89-8b9e-76b6dcaa1c41",
   "metadata": {},
   "source": [
    "import matplotlib.pyplot as plt\n",
    "plt.figure(figsize=(25,15),facecolor='white')#canvas  size\n",
    "plt.plot(data)#line plot \n",
    "plt.tight_layout()"
   ]
  },
  {
   "cell_type": "code",
   "execution_count": 16,
   "id": "9e58893a-152e-4c2b-b7c8-a45552e92338",
   "metadata": {},
   "outputs": [
    {
     "data": {
      "image/png": "[encoded data removed]",
      "text/plain": [
       "<Figure size 640x480 with 1 Axes>"
      ]
     },
     "execution_count": 16,
     "metadata": {},
     "output_type": "execute_result"
    },
    {
     "data": {
      "image/png": "[encoded data removed]",
      "text/plain": [
       "<Figure size 640x480 with 1 Axes>"
      ]
     },
     "metadata": {},
     "output_type": "display_data"
    }
   ],
   "source": [
    "from statsmodels.graphics.tsaplots import plot_acf\n",
    "plot_acf(data)"
   ]
  },
  {
   "cell_type": "code",
   "execution_count": 17,
   "id": "0812598d-ea6d-4207-93c6-da92a157e908",
   "metadata": {},
   "outputs": [
    {
     "name": "stdout",
     "output_type": "stream",
     "text": [
      "1. ADF :  -0.6872306404260772\n",
      "2. P-Value :  0.8500294226198694\n",
      "3. Num Of Lags :  27\n",
      "4. Num Of Observations Used For ADF Regression and Critical Values Calculation : 4593\n",
      "5. Critical Values :\n",
      "\t 1% :  -3.4317745500669052\n",
      "\t 5% :  -2.862169484810712\n",
      "\t 10% :  -2.5671050776361515\n"
     ]
    }
   ],
   "source": [
    "# ADfuller Test to check stationarity \n",
    "\n",
    "from statsmodels.tsa.stattools import adfuller\n",
    "dftest = adfuller(data.value, autolag = 'AIC')\n",
    "print(\"1. ADF : \",dftest[0])\n",
    "print(\"2. P-Value : \", dftest[1])\n",
    "print(\"3. Num Of Lags : \", dftest[2])\n",
    "print(\"4. Num Of Observations Used For ADF Regression and Critical Values Calculation :\", dftest[3])\n",
    "print(\"5. Critical Values :\")\n",
    "for key, val in dftest[4].items():print(\"\\t\",key, \": \", val)"
   ]
  },
  {
   "cell_type": "code",
   "execution_count": 18,
   "id": "0979d29b-b6aa-4d40-b9ed-7d2573d538ce",
   "metadata": {},
   "outputs": [],
   "source": [
    "data1=data.diff(periods=1)"
   ]
  },
  {
   "cell_type": "code",
   "execution_count": 19,
   "id": "b15fa3da-b687-46e3-9d55-acfee2d03207",
   "metadata": {},
   "outputs": [
    {
     "data": {
      "text/html": [
       "<div>\n",
       "<style scoped>\n",
       "    .dataframe tbody tr th:only-of-type {\n",
       "        vertical-align: middle;\n",
       "    }\n",
       "\n",
       "    .dataframe tbody tr th {\n",
       "        vertical-align: top;\n",
       "    }\n",
       "\n",
       "    .dataframe thead th {\n",
       "        text-align: right;\n",
       "    }\n",
       "</style>\n",
       "<table border=\"1\" class=\"dataframe\">\n",
       "  <thead>\n",
       "    <tr style=\"text-align: right;\">\n",
       "      <th></th>\n",
       "      <th>value</th>\n",
       "    </tr>\n",
       "    <tr>\n",
       "      <th>timestamp</th>\n",
       "      <th></th>\n",
       "    </tr>\n",
       "  </thead>\n",
       "  <tbody>\n",
       "    <tr>\n",
       "      <th>2014-01-16 00:05:00</th>\n",
       "      <td>-0.1113</td>\n",
       "    </tr>\n",
       "    <tr>\n",
       "      <th>2014-01-16 00:10:00</th>\n",
       "      <td>-0.0013</td>\n",
       "    </tr>\n",
       "    <tr>\n",
       "      <th>2014-01-16 00:15:00</th>\n",
       "      <td>-0.1114</td>\n",
       "    </tr>\n",
       "    <tr>\n",
       "      <th>2014-01-16 00:20:00</th>\n",
       "      <td>0.1114</td>\n",
       "    </tr>\n",
       "    <tr>\n",
       "      <th>2014-01-16 00:25:00</th>\n",
       "      <td>0.0000</td>\n",
       "    </tr>\n",
       "    <tr>\n",
       "      <th>...</th>\n",
       "      <td>...</td>\n",
       "    </tr>\n",
       "    <tr>\n",
       "      <th>2014-02-01 00:40:00</th>\n",
       "      <td>0.3380</td>\n",
       "    </tr>\n",
       "    <tr>\n",
       "      <th>2014-02-01 00:45:00</th>\n",
       "      <td>-0.3380</td>\n",
       "    </tr>\n",
       "    <tr>\n",
       "      <th>2014-02-01 00:50:00</th>\n",
       "      <td>0.0000</td>\n",
       "    </tr>\n",
       "    <tr>\n",
       "      <th>2014-02-01 00:55:00</th>\n",
       "      <td>0.0000</td>\n",
       "    </tr>\n",
       "    <tr>\n",
       "      <th>2014-02-01 01:00:00</th>\n",
       "      <td>0.3340</td>\n",
       "    </tr>\n",
       "  </tbody>\n",
       "</table>\n",
       "<p>4620 rows × 1 columns</p>\n",
       "</div>"
      ],
      "text/plain": [
       "                      value\n",
       "timestamp                  \n",
       "2014-01-16 00:05:00 -0.1113\n",
       "2014-01-16 00:10:00 -0.0013\n",
       "2014-01-16 00:15:00 -0.1114\n",
       "2014-01-16 00:20:00  0.1114\n",
       "2014-01-16 00:25:00  0.0000\n",
       "...                     ...\n",
       "2014-02-01 00:40:00  0.3380\n",
       "2014-02-01 00:45:00 -0.3380\n",
       "2014-02-01 00:50:00  0.0000\n",
       "2014-02-01 00:55:00  0.0000\n",
       "2014-02-01 01:00:00  0.3340\n",
       "\n",
       "[4620 rows x 1 columns]"
      ]
     },
     "execution_count": 19,
     "metadata": {},
     "output_type": "execute_result"
    }
   ],
   "source": [
    "data1=data1.iloc[1:] #null value discarded\n",
    "data1"
   ]
  },
  {
   "cell_type": "code",
   "execution_count": 20,
   "id": "2ea74e82-ebbf-43f9-9a7c-11f83c5d8d6b",
   "metadata": {},
   "outputs": [
    {
     "data": {
      "image/png": "[encoded data removed]",
      "text/plain": [
       "<Figure size 640x480 with 1 Axes>"
      ]
     },
     "metadata": {},
     "output_type": "display_data"
    }
   ],
   "source": [
    "plot_acf(data1); # autocorrelation plot "
   ]
  },
  {
   "cell_type": "code",
   "execution_count": 21,
   "id": "1685901e-bfa0-4a97-842d-718519b0da71",
   "metadata": {},
   "outputs": [],
   "source": [
    "data2=data1.diff(periods=1) # differencing applied to data1"
   ]
  },
  {
   "cell_type": "code",
   "execution_count": 22,
   "id": "7c547c4a-0ff2-44af-9a27-7c23ad8cc7e0",
   "metadata": {},
   "outputs": [],
   "source": [
    "data2=data2.iloc[1:] # integrated to the order of 2"
   ]
  },
  {
   "cell_type": "code",
   "execution_count": 23,
   "id": "38f70192-c43c-47c6-9c11-4e5b2eb9aa38",
   "metadata": {},
   "outputs": [
    {
     "data": {
      "image/png": "[encoded data removed]",
      "text/plain": [
       "<Figure size 640x480 with 1 Axes>"
      ]
     },
     "metadata": {},
     "output_type": "display_data"
    }
   ],
   "source": [
    "plot_acf(data2);"
   ]
  },
  {
   "cell_type": "code",
   "execution_count": 24,
   "id": "6c1efffc-059b-410c-871e-ee66f5df4056",
   "metadata": {},
   "outputs": [
    {
     "data": {
      "text/plain": [
       "(4619, 1)"
      ]
     },
     "execution_count": 24,
     "metadata": {},
     "output_type": "execute_result"
    }
   ],
   "source": [
    "data2.shape#shape of the data rows and columns"
   ]
  },
  {
   "cell_type": "code",
   "execution_count": 25,
   "id": "ddf004c0-a701-4b10-9833-ec3c897666d8",
   "metadata": {},
   "outputs": [],
   "source": [
    "## Creating training and test sets\n",
    "train=data2[:100] #from 0th row to 99th row - traning data\n",
    "test=data2[100:] #from 100th row to end - testing data"
   ]
  },
  {
   "cell_type": "code",
   "execution_count": 26,
   "id": "08662cf2-be45-4ea6-ade1-3af882062aae",
   "metadata": {},
   "outputs": [
    {
     "name": "stdout",
     "output_type": "stream",
     "text": [
      "<class 'pandas.core.frame.DataFrame'>\n",
      "DatetimeIndex: 4519 entries, 2014-01-16 08:30:00 to 2014-02-01 01:00:00\n",
      "Data columns (total 1 columns):\n",
      " #   Column  Non-Null Count  Dtype  \n",
      "---  ------  --------------  -----  \n",
      " 0   value   4519 non-null   float64\n",
      "dtypes: float64(1)\n",
      "memory usage: 70.6 KB\n"
     ]
    }
   ],
   "source": [
    "test.info()#info about datatype and null value"
   ]
  },
  {
   "cell_type": "code",
   "execution_count": 27,
   "id": "2be49d15-cf40-4212-a4bd-c2683e69a20e",
   "metadata": {},
   "outputs": [],
   "source": [
    "## Applying autoregressive model\n",
    "#from statsmodels.tsa.ar_model import AR\n",
    "##from statsmodels.tsa.ar_model import AutoReg\n",
    "\n",
    "from statsmodels.tsa.ar_model import AutoReg\n",
    "import warnings\n",
    "warnings.filterwarnings('ignore')"
   ]
  },
  {
   "cell_type": "code",
   "execution_count": 28,
   "id": "bfe4f032-e3b7-4d56-993c-1585da9cb667",
   "metadata": {},
   "outputs": [
    {
     "data": {
      "text/plain": [
       "[1, 2, 3, 4, 5, 6, 7]"
      ]
     },
     "execution_count": 28,
     "metadata": {},
     "output_type": "execute_result"
    }
   ],
   "source": [
    "\n",
    "#ar_select_order : gives the best lags ordered as an array\n",
    "\n",
    "# to select the optimal values for lags\n",
    "from statsmodels.tsa.ar_model import ar_select_order\n",
    "mod = ar_select_order(data1,maxlag=15,glob=True)\n",
    "mod.ar_lags\n",
    "\n",
    "# select_order: selects the best number of lags\n",
    "# maxlag: The maximum lag to consider\n",
    "# glob: global search across all combinations of lags"
   ]
  },
  {
   "cell_type": "code",
   "execution_count": 29,
   "id": "9273a4f2-4fe2-4fd1-8ee0-d335d8b29d5b",
   "metadata": {},
   "outputs": [],
   "source": [
    "## model creation\n",
    "ar_model=AutoReg(train,lags=[1, 2, 3, 4, 5, 6, 7, 9, 12, 14]) ## object creation with lags specified\n",
    "ar_model_fit=ar_model.fit() #training the model"
   ]
  },
  {
   "cell_type": "code",
   "execution_count": 30,
   "id": "41c85319-b11d-4d22-afee-3da3d6f599f8",
   "metadata": {},
   "outputs": [],
   "source": [
    "##making prediction\n",
    "prediction=ar_model_fit.predict(start=1,end=142)"
   ]
  },
  {
   "cell_type": "code",
   "execution_count": 31,
   "id": "1a191bb3-e2d7-4488-bafc-f4ecebd0a07d",
   "metadata": {},
   "outputs": [
    {
     "data": {
      "text/plain": [
       "[<matplotlib.lines.Line2D at 0x2abfea25610>]"
      ]
     },
     "execution_count": 31,
     "metadata": {},
     "output_type": "execute_result"
    },
    {
     "data": {
      "image/png": "[encoded data removed]",
      "text/plain": [
       "<Figure size 640x480 with 1 Axes>"
      ]
     },
     "metadata": {},
     "output_type": "display_data"
    }
   ],
   "source": [
    "plt.plot(test)\n",
    "plt.plot(prediction,color='green') #graph of test vs prediction"
   ]
  },
  {
   "cell_type": "code",
   "execution_count": 32,
   "id": "67afbe2c-351c-419a-8f06-e3d7c22f04c1",
   "metadata": {},
   "outputs": [],
   "source": [
    "## ARIMA Model"
   ]
  },
  {
   "cell_type": "code",
   "execution_count": 33,
   "id": "5a8933b2-5719-462a-8ab4-2d1cf432c281",
   "metadata": {},
   "outputs": [],
   "source": [
    "## importing the library\n",
    "from statsmodels.tsa.arima.model import ARIMA"
   ]
  },
  {
   "cell_type": "code",
   "execution_count": 34,
   "id": "4df77dd9-ac10-4300-9387-2ce45819a3b8",
   "metadata": {},
   "outputs": [],
   "source": [
    "##Model object creation and fitting the model\n",
    "model_arima = ARIMA(train, order=(1,1,0))#order= p,d,q\n",
    "\n",
    "model_arima_fit = model_arima.fit()#training"
   ]
  },
  {
   "cell_type": "code",
   "execution_count": 35,
   "id": "b79acdb2-3053-4f87-85e7-65250566cd41",
   "metadata": {},
   "outputs": [
    {
     "name": "stdout",
     "output_type": "stream",
     "text": [
      "249.08993945580212\n"
     ]
    }
   ],
   "source": [
    "## evaluate the model\n",
    "print(model_arima_fit.aic)"
   ]
  },
  {
   "cell_type": "code",
   "execution_count": 36,
   "id": "1425cd0a-ecc6-485d-b472-3a6d225833eb",
   "metadata": {},
   "outputs": [],
   "source": [
    "# predicting the output of sample points\n",
    "# predictions = model_arima_fit.forecast(steps=9)\n",
    "prediction=model_arima_fit.predict(start=1,end=142)"
   ]
  },
  {
   "cell_type": "code",
   "execution_count": 37,
   "id": "2a60ea48-5360-4497-9b63-8b012f411fc8",
   "metadata": {},
   "outputs": [
    {
     "data": {
      "text/plain": [
       "2014-01-16 00:15:00    0.110000\n",
       "2014-01-16 00:20:00    0.056720\n",
       "2014-01-16 00:25:00   -0.029514\n",
       "2014-01-16 00:30:00    0.141899\n",
       "2014-01-16 00:35:00   -0.084118\n",
       "                         ...   \n",
       "2014-01-16 11:40:00    0.080103\n",
       "2014-01-16 11:45:00    0.080096\n",
       "2014-01-16 11:50:00    0.080101\n",
       "2014-01-16 11:55:00    0.080097\n",
       "2014-01-16 12:00:00    0.080100\n",
       "Freq: 5T, Name: predicted_mean, Length: 142, dtype: float64"
      ]
     },
     "execution_count": 37,
     "metadata": {},
     "output_type": "execute_result"
    }
   ],
   "source": [
    "prediction"
   ]
  },
  {
   "cell_type": "code",
   "execution_count": 38,
   "id": "8b489295-6a63-4363-8476-8683552d539e",
   "metadata": {},
   "outputs": [
    {
     "data": {
      "text/plain": [
       "[<matplotlib.lines.Line2D at 0x2abfe9f3b90>]"
      ]
     },
     "execution_count": 38,
     "metadata": {},
     "output_type": "execute_result"
    },
    {
     "data": {
      "image/png": "[encoded data removed]",
      "text/plain": [
       "<Figure size 640x480 with 1 Axes>"
      ]
     },
     "metadata": {},
     "output_type": "display_data"
    }
   ],
   "source": [
    "import matplotlib.pyplot as plt\n",
    "\n",
    "plt.plot(test)\n",
    "plt.plot(prediction,color='green') #graph of test vs prediction"
   ]
  },
  {
   "cell_type": "code",
   "execution_count": 39,
   "id": "ff4efc36-6e72-4547-aac8-7ff1ff8689db",
   "metadata": {},
   "outputs": [
    {
     "data": {
      "text/plain": [
       "[(0, 0, 0),\n",
       " (0, 0, 1),\n",
       " (0, 0, 2),\n",
       " (0, 0, 3),\n",
       " (0, 0, 4),\n",
       " (0, 1, 0),\n",
       " (0, 1, 1),\n",
       " (0, 1, 2),\n",
       " (0, 1, 3),\n",
       " (0, 1, 4),\n",
       " (0, 2, 0),\n",
       " (0, 2, 1),\n",
       " (0, 2, 2),\n",
       " (0, 2, 3),\n",
       " (0, 2, 4),\n",
       " (0, 3, 0),\n",
       " (0, 3, 1),\n",
       " (0, 3, 2),\n",
       " (0, 3, 3),\n",
       " (0, 3, 4),\n",
       " (0, 4, 0),\n",
       " (0, 4, 1),\n",
       " (0, 4, 2),\n",
       " (0, 4, 3),\n",
       " (0, 4, 4),\n",
       " (1, 0, 0),\n",
       " (1, 0, 1),\n",
       " (1, 0, 2),\n",
       " (1, 0, 3),\n",
       " (1, 0, 4),\n",
       " (1, 1, 0),\n",
       " (1, 1, 1),\n",
       " (1, 1, 2),\n",
       " (1, 1, 3),\n",
       " (1, 1, 4),\n",
       " (1, 2, 0),\n",
       " (1, 2, 1),\n",
       " (1, 2, 2),\n",
       " (1, 2, 3),\n",
       " (1, 2, 4),\n",
       " (1, 3, 0),\n",
       " (1, 3, 1),\n",
       " (1, 3, 2),\n",
       " (1, 3, 3),\n",
       " (1, 3, 4),\n",
       " (1, 4, 0),\n",
       " (1, 4, 1),\n",
       " (1, 4, 2),\n",
       " (1, 4, 3),\n",
       " (1, 4, 4),\n",
       " (2, 0, 0),\n",
       " (2, 0, 1),\n",
       " (2, 0, 2),\n",
       " (2, 0, 3),\n",
       " (2, 0, 4),\n",
       " (2, 1, 0),\n",
       " (2, 1, 1),\n",
       " (2, 1, 2),\n",
       " (2, 1, 3),\n",
       " (2, 1, 4),\n",
       " (2, 2, 0),\n",
       " (2, 2, 1),\n",
       " (2, 2, 2),\n",
       " (2, 2, 3),\n",
       " (2, 2, 4),\n",
       " (2, 3, 0),\n",
       " (2, 3, 1),\n",
       " (2, 3, 2),\n",
       " (2, 3, 3),\n",
       " (2, 3, 4),\n",
       " (2, 4, 0),\n",
       " (2, 4, 1),\n",
       " (2, 4, 2),\n",
       " (2, 4, 3),\n",
       " (2, 4, 4),\n",
       " (3, 0, 0),\n",
       " (3, 0, 1),\n",
       " (3, 0, 2),\n",
       " (3, 0, 3),\n",
       " (3, 0, 4),\n",
       " (3, 1, 0),\n",
       " (3, 1, 1),\n",
       " (3, 1, 2),\n",
       " (3, 1, 3),\n",
       " (3, 1, 4),\n",
       " (3, 2, 0),\n",
       " (3, 2, 1),\n",
       " (3, 2, 2),\n",
       " (3, 2, 3),\n",
       " (3, 2, 4),\n",
       " (3, 3, 0),\n",
       " (3, 3, 1),\n",
       " (3, 3, 2),\n",
       " (3, 3, 3),\n",
       " (3, 3, 4),\n",
       " (3, 4, 0),\n",
       " (3, 4, 1),\n",
       " (3, 4, 2),\n",
       " (3, 4, 3),\n",
       " (3, 4, 4),\n",
       " (4, 0, 0),\n",
       " (4, 0, 1),\n",
       " (4, 0, 2),\n",
       " (4, 0, 3),\n",
       " (4, 0, 4),\n",
       " (4, 1, 0),\n",
       " (4, 1, 1),\n",
       " (4, 1, 2),\n",
       " (4, 1, 3),\n",
       " (4, 1, 4),\n",
       " (4, 2, 0),\n",
       " (4, 2, 1),\n",
       " (4, 2, 2),\n",
       " (4, 2, 3),\n",
       " (4, 2, 4),\n",
       " (4, 3, 0),\n",
       " (4, 3, 1),\n",
       " (4, 3, 2),\n",
       " (4, 3, 3),\n",
       " (4, 3, 4),\n",
       " (4, 4, 0),\n",
       " (4, 4, 1),\n",
       " (4, 4, 2),\n",
       " (4, 4, 3),\n",
       " (4, 4, 4)]"
      ]
     },
     "execution_count": 39,
     "metadata": {},
     "output_type": "execute_result"
    }
   ],
   "source": [
    "## Geeting the optimal values of p,q an d\n",
    "import itertools\n",
    "\n",
    "p =d= q=range(0,5)#values of p,d,q range from 0 to 4\n",
    "\n",
    "pdq = list(itertools.product(p,d,q))\n",
    "# is used to find the cartesian product from the given iterator, output is lexicographic ordered.\n",
    "pdq #number of combinaton of pdq"
   ]
  },
  {
   "cell_type": "code",
   "execution_count": 40,
   "id": "0a81597e-b717-4b68-a89f-03c223df92c8",
   "metadata": {},
   "outputs": [
    {
     "name": "stdout",
     "output_type": "stream",
     "text": [
      "(0, 0, 0) 215.78281071789112\n",
      "(0, 0, 1) 109.70566614124233\n",
      "(0, 0, 2) 41.25675728740126\n",
      "(0, 0, 3) 41.18377455007486\n",
      "(0, 0, 4) 40.54420340919451\n",
      "(0, 1, 0) 333.2774267710131\n",
      "(0, 1, 1) 219.26762452812244\n",
      "(0, 1, 2) 118.48261685680971\n",
      "(0, 1, 3) 58.29966377049934\n",
      "(0, 1, 4) 59.56232730247214\n",
      "(0, 2, 0) 454.44873704370593\n",
      "(0, 2, 1) 337.52114904612137\n",
      "(0, 2, 2) 228.50935157367263\n",
      "(0, 2, 3) 132.9865402350951\n",
      "(0, 2, 4) 94.228729598124\n",
      "(0, 3, 0) 575.1322020785399\n",
      "(0, 3, 1) 457.411786788788\n",
      "(0, 3, 2) 345.4236893894723\n",
      "(0, 3, 3) 240.99654976502967\n",
      "(0, 3, 4) 151.49274360711567\n",
      "(0, 4, 0) 694.3977126188574\n",
      "(0, 4, 1) 576.7914916196138\n",
      "(0, 4, 2) 463.97881675053867\n",
      "(0, 4, 3) 356.4392168538144\n",
      "(0, 4, 4) 256.42928689442084\n",
      "(1, 0, 0) 153.44871800054395\n",
      "(1, 0, 1) 77.86804139056713\n",
      "(1, 0, 2) 41.92027597153485\n",
      "(1, 0, 3) 45.18121042414993\n",
      "(1, 0, 4) 48.514239182973014\n",
      "(1, 1, 0) 249.08993945580212\n",
      "(1, 1, 1) 158.61411034718148\n",
      "(1, 1, 2) 88.35598286865653\n",
      "(1, 1, 3) 122.44134617594273\n",
      "(1, 1, 4) 62.291253072918266\n",
      "(1, 2, 0) 355.83569116019544\n",
      "(1, 2, 1) 255.3310090212694\n",
      "(1, 2, 2) 169.8494787768956\n",
      "(1, 2, 3) 104.91492831868561\n",
      "(1, 2, 4) 136.98485825909253\n",
      "(1, 3, 0) 467.1012755043248\n",
      "(1, 3, 1) 360.9974720807871\n",
      "(1, 3, 2) 265.45234268620226\n",
      "(1, 3, 3) 184.68133212688576\n",
      "(1, 3, 4) 244.84918836566385\n",
      "(1, 4, 0) 579.8040501898952\n",
      "(1, 4, 1) 471.0958184312011\n",
      "(1, 4, 2) 369.91317003806296\n",
      "(1, 4, 3) 278.93862163107895\n",
      "(1, 4, 4) 236.5669657711406\n",
      "(2, 0, 0) 123.94243685919757\n",
      "(2, 0, 1) 67.34787047711237\n",
      "(2, 0, 2) 72.40791247386176\n",
      "(2, 0, 3) 45.322572518672516\n",
      "(2, 0, 4) 47.155074217522255\n",
      "(2, 1, 0) 193.05722552322928\n",
      "(2, 1, 1) 130.254746007204\n",
      "(2, 1, 2) 78.89378528490371\n",
      "(2, 1, 3) 83.15999170999346\n",
      "(2, 1, 4) 58.86666077814025\n",
      "(2, 2, 0) 271.7724579955962\n",
      "(2, 2, 1) 200.90439416082623\n",
      "(2, 2, 2) 142.88722579946165\n",
      "(2, 2, 3) 96.77887645110056\n",
      "(2, 2, 4) 107.6562044667943\n",
      "(2, 3, 0) 360.020066240064\n",
      "(2, 3, 1) 278.9518689967601\n",
      "(2, 3, 2) 212.9538694610254\n",
      "(2, 3, 3) 159.35215579172586\n",
      "(2, 3, 4) 120.6002846180715\n",
      "(2, 4, 0) 456.77064663432793\n",
      "(2, 4, 1) 366.34508568986485\n",
      "(2, 4, 2) 290.19996927117757\n",
      "(2, 4, 3) 228.6537559592623\n",
      "(2, 4, 4) 179.5854082372574\n",
      "(3, 0, 0) 121.10564069078639\n",
      "(3, 0, 1) 63.75945087009358\n",
      "(3, 0, 2) 69.87182587162172\n",
      "(3, 0, 3) 78.6163104858154\n",
      "(3, 0, 4) 48.10745632992446\n",
      "(3, 1, 0) 188.13927669985128\n",
      "(3, 1, 1) 127.85167438660572\n",
      "(3, 1, 2) 133.34804011129916\n",
      "(3, 1, 3) 82.84425227409862\n",
      "(3, 1, 4) 90.47599173418591\n",
      "(3, 2, 0) 259.31146235944493\n",
      "(3, 2, 1) 196.51133126037203\n",
      "(3, 2, 2) 204.78663568906836\n",
      "(3, 2, 3) 146.87830295074352\n",
      "(3, 2, 4) 100.69657604958878\n",
      "(3, 3, 0) 333.542769553066\n",
      "(3, 3, 1) 267.2635474149754\n",
      "(3, 3, 2) 209.14802781206413\n",
      "(3, 3, 3) 216.9460212658207\n",
      "(3, 3, 4) 163.34077813270784\n",
      "(3, 4, 0) 411.96861244265125\n",
      "(3, 4, 1) 340.9789151735209\n",
      "(3, 4, 2) 279.38894796746064\n",
      "(3, 4, 3) 294.0318474399293\n",
      "(3, 4, 4) 232.65450053184344\n",
      "(4, 0, 0) 83.88453373562373\n",
      "(4, 0, 1) 31.460835090282114\n",
      "(4, 0, 2) 39.235968737476966\n",
      "(4, 0, 3) 30.604554728209635\n",
      "(4, 0, 4) 30.445183034573446\n",
      "(4, 1, 0) 162.57929773399383\n",
      "(4, 1, 1) 91.92935733301924\n",
      "(4, 1, 2) 42.307936517973715\n",
      "(4, 1, 3) 41.521208755762146\n",
      "(4, 1, 4) 71.31598459254064\n",
      "(4, 2, 0) 241.9705210965848\n",
      "(4, 2, 1) 172.03259641097753\n",
      "(4, 2, 2) 106.35224954078109\n",
      "(4, 2, 3) 64.22974196777557\n",
      "(4, 2, 4) 141.36580434810463\n",
      "(4, 3, 0) 318.508643578191\n",
      "(4, 3, 1) 250.82687665922612\n",
      "(4, 3, 2) 185.65361679833185\n",
      "(4, 3, 3) 212.71960547687453\n",
      "(4, 3, 4) 216.22459105596374\n",
      "(4, 4, 0) 393.54207340823325\n",
      "(4, 4, 1) 326.7950821830545\n",
      "(4, 4, 2) 263.8185273272053\n",
      "(4, 4, 3) 283.3526470289687\n",
      "(4, 4, 4) 290.7564860560575\n"
     ]
    }
   ],
   "source": [
    "#The Python try… except statement catches an exception. It is used to test code for an error which is written in the “try” statement.\n",
    "#If an error is encountered, the contents of the “except” block are run.\n",
    "list1=[]\n",
    "list2=[]\n",
    "for params in pdq: #iterating params over pdq\n",
    "        model_arima = ARIMA(train, order=params)#training model on various pdq values\n",
    "        model_arima_fit = model_arima.fit()#training\n",
    "        print(params, model_arima_fit.aic)#printing parameter and aic values\n",
    "        list1.append(params)\n",
    "        list2.append(model_arima_fit.aic)"
   ]
  },
  {
   "cell_type": "code",
   "execution_count": 41,
   "id": "834aa8a6-1b61-4b78-8815-bb530fe322ab",
   "metadata": {},
   "outputs": [
    {
     "data": {
      "text/plain": [
       "30.445183034573446"
      ]
     },
     "execution_count": 41,
     "metadata": {},
     "output_type": "execute_result"
    }
   ],
   "source": [
    "min(list2)  # lowest aic score"
   ]
  },
  {
   "cell_type": "code",
   "execution_count": 42,
   "id": "04c89ab3-a71d-425a-85b5-14f20137c91b",
   "metadata": {},
   "outputs": [
    {
     "data": {
      "text/plain": [
       "104"
      ]
     },
     "execution_count": 42,
     "metadata": {},
     "output_type": "execute_result"
    }
   ],
   "source": [
    "loc=list2.index(min(list2))\n",
    "loc"
   ]
  },
  {
   "cell_type": "code",
   "execution_count": 43,
   "id": "440c2f22-c34e-481c-bee2-e6f520feac91",
   "metadata": {},
   "outputs": [
    {
     "data": {
      "text/plain": [
       "(4, 0, 4)"
      ]
     },
     "execution_count": 43,
     "metadata": {},
     "output_type": "execute_result"
    }
   ],
   "source": [
    "# pdq corresponding to lowest aic\n",
    "list1[loc]"
   ]
  },
  {
   "cell_type": "code",
   "execution_count": 44,
   "id": "01b9906d-9329-4103-b080-32bee1c1ff4d",
   "metadata": {},
   "outputs": [],
   "source": [
    "## create the final model with lowest aic score parameter\n",
    "model_arima = ARIMA(train, order=(4, 0, 3))\n",
    "\n",
    "model_arima_fit = model_arima.fit() #training"
   ]
  },
  {
   "cell_type": "code",
   "execution_count": 45,
   "id": "62a0a01b-0018-4415-8b41-b6920aa1a65a",
   "metadata": {},
   "outputs": [
    {
     "name": "stdout",
     "output_type": "stream",
     "text": [
      "30.604554728209635\n"
     ]
    }
   ],
   "source": [
    "print(model_arima_fit.aic) # confirm aic score"
   ]
  },
  {
   "cell_type": "code",
   "execution_count": 46,
   "id": "98367650-cca5-474c-b7a1-7f651c5d01dd",
   "metadata": {},
   "outputs": [
    {
     "data": {
      "text/plain": [
       "2014-01-16 08:30:00    0.028858\n",
       "2014-01-16 08:35:00   -0.014929\n",
       "2014-01-16 08:40:00   -0.090803\n",
       "2014-01-16 08:45:00    0.105432\n",
       "2014-01-16 08:50:00   -0.014337\n",
       "2014-01-16 08:55:00    0.002171\n",
       "2014-01-16 09:00:00   -0.014640\n",
       "2014-01-16 09:05:00   -0.031982\n",
       "2014-01-16 09:10:00    0.036320\n",
       "Freq: 5T, Name: predicted_mean, dtype: float64"
      ]
     },
     "execution_count": 46,
     "metadata": {},
     "output_type": "execute_result"
    }
   ],
   "source": [
    "forecast = model_arima_fit.forecast(steps=9)\n",
    "forecast"
   ]
  },
  {
   "cell_type": "code",
   "execution_count": 47,
   "id": "fb2b15c6-3068-414b-94d6-1e9ad381a1b9",
   "metadata": {},
   "outputs": [],
   "source": [
    "prediction=model_arima_fit.predict(start=100,end=142)"
   ]
  },
  {
   "cell_type": "code",
   "execution_count": 48,
   "id": "e6f7060c-bc64-4b4a-9cac-262831436f16",
   "metadata": {},
   "outputs": [
    {
     "data": {
      "text/plain": [
       "[<matplotlib.lines.Line2D at 0x2abfefb1310>]"
      ]
     },
     "execution_count": 48,
     "metadata": {},
     "output_type": "execute_result"
    },
    {
     "data": {
      "image/png": "[encoded data removed]",
      "text/plain": [
       "<Figure size 640x480 with 1 Axes>"
      ]
     },
     "metadata": {},
     "output_type": "display_data"
    }
   ],
   "source": [
    "plt.plot(test)\n",
    "plt.plot(prediction,color='green') "
   ]
  },
  {
   "cell_type": "code",
   "execution_count": 49,
   "id": "4f57ecc6-8d16-4882-871d-fa212bc26bca",
   "metadata": {},
   "outputs": [
    {
     "data": {
      "text/plain": [
       "[<matplotlib.lines.Line2D at 0x2abfefcc410>]"
      ]
     },
     "execution_count": 49,
     "metadata": {},
     "output_type": "execute_result"
    },
    {
     "data": {
      "image/png": "[encoded data removed]",
      "text/plain": [
       "<Figure size 640x480 with 1 Axes>"
      ]
     },
     "metadata": {},
     "output_type": "display_data"
    }
   ],
   "source": [
    "# Comparision of actual vs predicted for 9 values\n",
    "plt.plot(test[:9])\n",
    "plt.plot(forecast,color='green')#line plot for prediction"
   ]
  },
  {
   "cell_type": "code",
   "execution_count": 50,
   "id": "3f97366a-7b73-4ef7-9a69-ab5975eb2a48",
   "metadata": {},
   "outputs": [
    {
     "data": {
      "text/plain": [
       "array([-0.1074,  0.3321, -0.4454,  0.3354, -0.1127, -0.1127,  0.3367,\n",
       "       -0.3353,  0.108 , -0.1061,  0.3348, -0.4508,  0.4481, -0.4454,\n",
       "        0.2227,  0.224 , -0.448 ,  0.4447, -0.4414,  0.4434, -0.4454,\n",
       "        0.4434, -0.4414,  0.2207,  0.2254])"
      ]
     },
     "execution_count": 50,
     "metadata": {},
     "output_type": "execute_result"
    }
   ],
   "source": [
    "forecast25 = model_arima_fit.forecast(steps=25)\n",
    "test1 = test[0:25].values.flatten()\n",
    "test1"
   ]
  },
  {
   "cell_type": "code",
   "execution_count": 51,
   "id": "953559e4-b7b3-45c6-9fc8-fc2d8474c034",
   "metadata": {},
   "outputs": [
    {
     "data": {
      "text/plain": [
       "[<matplotlib.lines.Line2D at 0x2abff08d610>]"
      ]
     },
     "execution_count": 51,
     "metadata": {},
     "output_type": "execute_result"
    },
    {
     "data": {
      "image/png": "[encoded data removed]",
      "text/plain": [
       "<Figure size 640x480 with 1 Axes>"
      ]
     },
     "metadata": {},
     "output_type": "display_data"
    }
   ],
   "source": [
    "# Comparision of actual vs predicted for 25 values\n",
    "plt.plot(test[:25])\n",
    "plt.plot(forecast25,color='green') #line plot for prediction"
   ]
  },
  {
   "cell_type": "code",
   "execution_count": 52,
   "id": "9bc7a326-4b15-41e2-a6ff-17e248a6455c",
   "metadata": {},
   "outputs": [
    {
     "data": {
      "text/plain": [
       "{'mse': 0.11514951255016809,\n",
       " 'mae': 0.3122405004126632,\n",
       " 'rmse': 0.33933687178107846}"
      ]
     },
     "execution_count": 52,
     "metadata": {},
     "output_type": "execute_result"
    }
   ],
   "source": [
    "def forecast_accuracy(forecast, actual):\n",
    "    mse = np.mean((forecast - actual)**2)        # MSE\n",
    "    mae = np.mean(np.abs(forecast - actual))    # MAE\n",
    "    rmse = np.mean((forecast - actual)**2)**.5  # RMSE\n",
    "    \n",
    " \n",
    "    return({'mse':mse, 'mae': mae, 'rmse':rmse})\n",
    "\n",
    "forecast_accuracy(forecast25, test1)"
   ]
  },
  {
   "cell_type": "code",
   "execution_count": 53,
   "id": "5e73bcb4-6016-480e-a7a9-45544784d92a",
   "metadata": {},
   "outputs": [
    {
     "name": "stdout",
     "output_type": "stream",
     "text": [
      "0.33933687178107846\n"
     ]
    },
    {
     "data": {
      "text/plain": [
       "0.11514951255016809"
      ]
     },
     "execution_count": 53,
     "metadata": {},
     "output_type": "execute_result"
    }
   ],
   "source": [
    "from sklearn.metrics import mean_squared_error\n",
    "from statsmodels.tools.eval_measures import rmse\n",
    "\n",
    "# Calculate root mean squared error\n",
    "print(rmse(test1, forecast25))\n",
    "  \n",
    "# Calculate mean squared error\n",
    "mean_squared_error(test1, forecast25)"
   ]
  },
  {
   "cell_type": "markdown",
   "id": "54cc6749-d219-4fbd-9c2b-1cba9b912ea0",
   "metadata": {},
   "source": [
    "# Conclusion"
   ]
  },
  {
   "cell_type": "raw",
   "id": "1bf608e2-9fdd-4ebf-b47d-602c7fca340a",
   "metadata": {},
   "source": [
    "1.In the dataset the value of  'mse': 0.11514951255016809,\n",
    " 'mae': 0.3122405004126632,\n",
    " 'rmse': 0.33933687178107846\n",
    " is shows which means model has high accuracy and which is properly trained.\n",
    "2.less error is generated.\n",
    "3.This is time seris model in which i used ARIMA to train model."
   ]
  },
  {
   "cell_type": "code",
   "execution_count": null,
   "id": "68e54284-1a74-44c9-a818-93a9bcf3814b",
   "metadata": {},
   "outputs": [],
   "source": []
  },
  {
   "cell_type": "code",
   "execution_count": null,
   "id": "8fe650ef-48e3-424b-9c0c-a03a80f89cbe",
   "metadata": {},
   "outputs": [],
   "source": []
  },
  {
   "cell_type": "code",
   "execution_count": null,
   "id": "3d996324-0679-43bc-9bb0-1209430334c7",
   "metadata": {},
   "outputs": [],
   "source": []
  },
  {
   "cell_type": "code",
   "execution_count": null,
   "id": "3965f7ab-7fbe-4c9b-9d00-c9449f5cabc4",
   "metadata": {},
   "outputs": [],
   "source": []
  },
  {
   "cell_type": "code",
   "execution_count": null,
   "id": "602e0697-6de0-47a6-8380-ad8e5484c30a",
   "metadata": {},
   "outputs": [],
   "source": []
  },
  {
   "cell_type": "code",
   "execution_count": null,
   "id": "478e95e0-df2d-4bc5-97eb-6b553639056c",
   "metadata": {},
   "outputs": [],
   "source": []
  }
 ],
 "metadata": {
  "kernelspec": {
   "display_name": "Python 3 (ipykernel)",
   "language": "python",
   "name": "python3"
  },
  "language_info": {
   "codemirror_mode": {
    "name": "ipython",
    "version": 3
   },
   "file_extension": ".py",
   "mimetype": "text/x-python",
   "name": "python",
   "nbconvert_exporter": "python",
   "pygments_lexer": "ipython3",
   "version": "3.12.4"
  }
 },
 "nbformat": 4,
 "nbformat_minor": 5
}

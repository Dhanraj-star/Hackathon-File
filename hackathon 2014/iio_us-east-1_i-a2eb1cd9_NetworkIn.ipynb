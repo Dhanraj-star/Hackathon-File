{
 "cells": [
  {
   "cell_type": "code",
   "execution_count": 1,
   "id": "5a7ffd8c-83a9-43a2-b18f-d116079cbda8",
   "metadata": {},
   "outputs": [],
   "source": [
    "import pandas as pd\n",
    "import numpy as np\n",
    "import matplotlib.pyplot as plt\n",
    "import seaborn as sns\n",
    "#here we load library "
   ]
  },
  {
   "cell_type": "code",
   "execution_count": 2,
   "id": "0d75644e-3ef1-45f1-8bda-cbde44b38654",
   "metadata": {},
   "outputs": [],
   "source": [
    "data=pd.read_csv(\"iio_us-east-1_i-a2eb1cd9_NetworkIn.csv\")"
   ]
  },
  {
   "cell_type": "code",
   "execution_count": 3,
   "id": "f85ea1c8-5e90-4144-9c55-486f578261b5",
   "metadata": {},
   "outputs": [
    {
     "data": {
      "text/html": [
       "<div>\n",
       "<style scoped>\n",
       "    .dataframe tbody tr th:only-of-type {\n",
       "        vertical-align: middle;\n",
       "    }\n",
       "\n",
       "    .dataframe tbody tr th {\n",
       "        vertical-align: top;\n",
       "    }\n",
       "\n",
       "    .dataframe thead th {\n",
       "        text-align: right;\n",
       "    }\n",
       "</style>\n",
       "<table border=\"1\" class=\"dataframe\">\n",
       "  <thead>\n",
       "    <tr style=\"text-align: right;\">\n",
       "      <th></th>\n",
       "      <th>timestamp</th>\n",
       "      <th>value</th>\n",
       "    </tr>\n",
       "  </thead>\n",
       "  <tbody>\n",
       "    <tr>\n",
       "      <th>0</th>\n",
       "      <td>2013-10-09 16:25:00</td>\n",
       "      <td>9926554.0</td>\n",
       "    </tr>\n",
       "    <tr>\n",
       "      <th>1</th>\n",
       "      <td>2013-10-09 16:30:00</td>\n",
       "      <td>50745578.0</td>\n",
       "    </tr>\n",
       "    <tr>\n",
       "      <th>2</th>\n",
       "      <td>2013-10-09 16:35:00</td>\n",
       "      <td>61519397.0</td>\n",
       "    </tr>\n",
       "    <tr>\n",
       "      <th>3</th>\n",
       "      <td>2013-10-09 16:40:00</td>\n",
       "      <td>55996401.0</td>\n",
       "    </tr>\n",
       "    <tr>\n",
       "      <th>4</th>\n",
       "      <td>2013-10-09 16:45:00</td>\n",
       "      <td>40876988.0</td>\n",
       "    </tr>\n",
       "    <tr>\n",
       "      <th>...</th>\n",
       "      <td>...</td>\n",
       "      <td>...</td>\n",
       "    </tr>\n",
       "    <tr>\n",
       "      <th>1238</th>\n",
       "      <td>2013-10-13 23:35:00</td>\n",
       "      <td>7198625.2</td>\n",
       "    </tr>\n",
       "    <tr>\n",
       "      <th>1239</th>\n",
       "      <td>2013-10-13 23:40:00</td>\n",
       "      <td>7964260.4</td>\n",
       "    </tr>\n",
       "    <tr>\n",
       "      <th>1240</th>\n",
       "      <td>2013-10-13 23:45:00</td>\n",
       "      <td>7547664.0</td>\n",
       "    </tr>\n",
       "    <tr>\n",
       "      <th>1241</th>\n",
       "      <td>2013-10-13 23:50:00</td>\n",
       "      <td>7988676.2</td>\n",
       "    </tr>\n",
       "    <tr>\n",
       "      <th>1242</th>\n",
       "      <td>2013-10-13 23:55:00</td>\n",
       "      <td>7788122.6</td>\n",
       "    </tr>\n",
       "  </tbody>\n",
       "</table>\n",
       "<p>1243 rows × 2 columns</p>\n",
       "</div>"
      ],
      "text/plain": [
       "                timestamp       value\n",
       "0     2013-10-09 16:25:00   9926554.0\n",
       "1     2013-10-09 16:30:00  50745578.0\n",
       "2     2013-10-09 16:35:00  61519397.0\n",
       "3     2013-10-09 16:40:00  55996401.0\n",
       "4     2013-10-09 16:45:00  40876988.0\n",
       "...                   ...         ...\n",
       "1238  2013-10-13 23:35:00   7198625.2\n",
       "1239  2013-10-13 23:40:00   7964260.4\n",
       "1240  2013-10-13 23:45:00   7547664.0\n",
       "1241  2013-10-13 23:50:00   7988676.2\n",
       "1242  2013-10-13 23:55:00   7788122.6\n",
       "\n",
       "[1243 rows x 2 columns]"
      ]
     },
     "execution_count": 3,
     "metadata": {},
     "output_type": "execute_result"
    }
   ],
   "source": [
    "data"
   ]
  },
  {
   "cell_type": "code",
   "execution_count": 4,
   "id": "d3b732f0-f80f-4abb-b96a-70552ac817fc",
   "metadata": {},
   "outputs": [
    {
     "data": {
      "text/html": [
       "<div>\n",
       "<style scoped>\n",
       "    .dataframe tbody tr th:only-of-type {\n",
       "        vertical-align: middle;\n",
       "    }\n",
       "\n",
       "    .dataframe tbody tr th {\n",
       "        vertical-align: top;\n",
       "    }\n",
       "\n",
       "    .dataframe thead th {\n",
       "        text-align: right;\n",
       "    }\n",
       "</style>\n",
       "<table border=\"1\" class=\"dataframe\">\n",
       "  <thead>\n",
       "    <tr style=\"text-align: right;\">\n",
       "      <th></th>\n",
       "      <th>timestamp</th>\n",
       "      <th>value</th>\n",
       "    </tr>\n",
       "  </thead>\n",
       "  <tbody>\n",
       "    <tr>\n",
       "      <th>0</th>\n",
       "      <td>2013-10-09 16:25:00</td>\n",
       "      <td>9926554.0</td>\n",
       "    </tr>\n",
       "    <tr>\n",
       "      <th>1</th>\n",
       "      <td>2013-10-09 16:30:00</td>\n",
       "      <td>50745578.0</td>\n",
       "    </tr>\n",
       "    <tr>\n",
       "      <th>2</th>\n",
       "      <td>2013-10-09 16:35:00</td>\n",
       "      <td>61519397.0</td>\n",
       "    </tr>\n",
       "    <tr>\n",
       "      <th>3</th>\n",
       "      <td>2013-10-09 16:40:00</td>\n",
       "      <td>55996401.0</td>\n",
       "    </tr>\n",
       "    <tr>\n",
       "      <th>4</th>\n",
       "      <td>2013-10-09 16:45:00</td>\n",
       "      <td>40876988.0</td>\n",
       "    </tr>\n",
       "  </tbody>\n",
       "</table>\n",
       "</div>"
      ],
      "text/plain": [
       "             timestamp       value\n",
       "0  2013-10-09 16:25:00   9926554.0\n",
       "1  2013-10-09 16:30:00  50745578.0\n",
       "2  2013-10-09 16:35:00  61519397.0\n",
       "3  2013-10-09 16:40:00  55996401.0\n",
       "4  2013-10-09 16:45:00  40876988.0"
      ]
     },
     "execution_count": 4,
     "metadata": {},
     "output_type": "execute_result"
    }
   ],
   "source": [
    "data.head()#first five rows"
   ]
  },
  {
   "cell_type": "code",
   "execution_count": 5,
   "id": "4ae2a61f-45dd-4df6-bbc0-fdc50ba18c40",
   "metadata": {},
   "outputs": [
    {
     "data": {
      "text/html": [
       "<div>\n",
       "<style scoped>\n",
       "    .dataframe tbody tr th:only-of-type {\n",
       "        vertical-align: middle;\n",
       "    }\n",
       "\n",
       "    .dataframe tbody tr th {\n",
       "        vertical-align: top;\n",
       "    }\n",
       "\n",
       "    .dataframe thead th {\n",
       "        text-align: right;\n",
       "    }\n",
       "</style>\n",
       "<table border=\"1\" class=\"dataframe\">\n",
       "  <thead>\n",
       "    <tr style=\"text-align: right;\">\n",
       "      <th></th>\n",
       "      <th>timestamp</th>\n",
       "      <th>value</th>\n",
       "    </tr>\n",
       "  </thead>\n",
       "  <tbody>\n",
       "    <tr>\n",
       "      <th>1238</th>\n",
       "      <td>2013-10-13 23:35:00</td>\n",
       "      <td>7198625.2</td>\n",
       "    </tr>\n",
       "    <tr>\n",
       "      <th>1239</th>\n",
       "      <td>2013-10-13 23:40:00</td>\n",
       "      <td>7964260.4</td>\n",
       "    </tr>\n",
       "    <tr>\n",
       "      <th>1240</th>\n",
       "      <td>2013-10-13 23:45:00</td>\n",
       "      <td>7547664.0</td>\n",
       "    </tr>\n",
       "    <tr>\n",
       "      <th>1241</th>\n",
       "      <td>2013-10-13 23:50:00</td>\n",
       "      <td>7988676.2</td>\n",
       "    </tr>\n",
       "    <tr>\n",
       "      <th>1242</th>\n",
       "      <td>2013-10-13 23:55:00</td>\n",
       "      <td>7788122.6</td>\n",
       "    </tr>\n",
       "  </tbody>\n",
       "</table>\n",
       "</div>"
      ],
      "text/plain": [
       "                timestamp      value\n",
       "1238  2013-10-13 23:35:00  7198625.2\n",
       "1239  2013-10-13 23:40:00  7964260.4\n",
       "1240  2013-10-13 23:45:00  7547664.0\n",
       "1241  2013-10-13 23:50:00  7988676.2\n",
       "1242  2013-10-13 23:55:00  7788122.6"
      ]
     },
     "execution_count": 5,
     "metadata": {},
     "output_type": "execute_result"
    }
   ],
   "source": [
    "data.tail() #last five rows"
   ]
  },
  {
   "cell_type": "code",
   "execution_count": 6,
   "id": "9e492d9c-3b17-41d3-bd28-94532f382d3a",
   "metadata": {},
   "outputs": [
    {
     "data": {
      "text/html": [
       "<div>\n",
       "<style scoped>\n",
       "    .dataframe tbody tr th:only-of-type {\n",
       "        vertical-align: middle;\n",
       "    }\n",
       "\n",
       "    .dataframe tbody tr th {\n",
       "        vertical-align: top;\n",
       "    }\n",
       "\n",
       "    .dataframe thead th {\n",
       "        text-align: right;\n",
       "    }\n",
       "</style>\n",
       "<table border=\"1\" class=\"dataframe\">\n",
       "  <thead>\n",
       "    <tr style=\"text-align: right;\">\n",
       "      <th></th>\n",
       "      <th>timestamp</th>\n",
       "      <th>value</th>\n",
       "    </tr>\n",
       "  </thead>\n",
       "  <tbody>\n",
       "    <tr>\n",
       "      <th>409</th>\n",
       "      <td>2013-10-11 02:30:00</td>\n",
       "      <td>2234826.6</td>\n",
       "    </tr>\n",
       "    <tr>\n",
       "      <th>36</th>\n",
       "      <td>2013-10-09 19:25:00</td>\n",
       "      <td>12193640.4</td>\n",
       "    </tr>\n",
       "    <tr>\n",
       "      <th>442</th>\n",
       "      <td>2013-10-11 05:15:00</td>\n",
       "      <td>2105559.2</td>\n",
       "    </tr>\n",
       "    <tr>\n",
       "      <th>999</th>\n",
       "      <td>2013-10-13 03:40:00</td>\n",
       "      <td>4501812.4</td>\n",
       "    </tr>\n",
       "    <tr>\n",
       "      <th>491</th>\n",
       "      <td>2013-10-11 09:20:00</td>\n",
       "      <td>1716114.6</td>\n",
       "    </tr>\n",
       "  </tbody>\n",
       "</table>\n",
       "</div>"
      ],
      "text/plain": [
       "               timestamp       value\n",
       "409  2013-10-11 02:30:00   2234826.6\n",
       "36   2013-10-09 19:25:00  12193640.4\n",
       "442  2013-10-11 05:15:00   2105559.2\n",
       "999  2013-10-13 03:40:00   4501812.4\n",
       "491  2013-10-11 09:20:00   1716114.6"
      ]
     },
     "execution_count": 6,
     "metadata": {},
     "output_type": "execute_result"
    }
   ],
   "source": [
    "data.sample(5) #random data used"
   ]
  },
  {
   "cell_type": "code",
   "execution_count": 7,
   "id": "356d4921-6919-45ef-a07e-696d42f10143",
   "metadata": {},
   "outputs": [
    {
     "name": "stdout",
     "output_type": "stream",
     "text": [
      "<class 'pandas.core.frame.DataFrame'>\n",
      "RangeIndex: 1243 entries, 0 to 1242\n",
      "Data columns (total 2 columns):\n",
      " #   Column     Non-Null Count  Dtype  \n",
      "---  ------     --------------  -----  \n",
      " 0   timestamp  1243 non-null   object \n",
      " 1   value      1243 non-null   float64\n",
      "dtypes: float64(1), object(1)\n",
      "memory usage: 19.6+ KB\n"
     ]
    }
   ],
   "source": [
    "data.info() #infomation of data its object or float"
   ]
  },
  {
   "cell_type": "code",
   "execution_count": 8,
   "id": "4e98ebff-79ea-432b-be5f-6a4eef50fd33",
   "metadata": {},
   "outputs": [
    {
     "data": {
      "text/html": [
       "<div>\n",
       "<style scoped>\n",
       "    .dataframe tbody tr th:only-of-type {\n",
       "        vertical-align: middle;\n",
       "    }\n",
       "\n",
       "    .dataframe tbody tr th {\n",
       "        vertical-align: top;\n",
       "    }\n",
       "\n",
       "    .dataframe thead th {\n",
       "        text-align: right;\n",
       "    }\n",
       "</style>\n",
       "<table border=\"1\" class=\"dataframe\">\n",
       "  <thead>\n",
       "    <tr style=\"text-align: right;\">\n",
       "      <th></th>\n",
       "      <th>value</th>\n",
       "    </tr>\n",
       "  </thead>\n",
       "  <tbody>\n",
       "    <tr>\n",
       "      <th>count</th>\n",
       "      <td>1.243000e+03</td>\n",
       "    </tr>\n",
       "    <tr>\n",
       "      <th>mean</th>\n",
       "      <td>4.615222e+06</td>\n",
       "    </tr>\n",
       "    <tr>\n",
       "      <th>std</th>\n",
       "      <td>4.534242e+06</td>\n",
       "    </tr>\n",
       "    <tr>\n",
       "      <th>min</th>\n",
       "      <td>7.897810e+05</td>\n",
       "    </tr>\n",
       "    <tr>\n",
       "      <th>25%</th>\n",
       "      <td>2.576004e+06</td>\n",
       "    </tr>\n",
       "    <tr>\n",
       "      <th>50%</th>\n",
       "      <td>3.795176e+06</td>\n",
       "    </tr>\n",
       "    <tr>\n",
       "      <th>75%</th>\n",
       "      <td>5.152489e+06</td>\n",
       "    </tr>\n",
       "    <tr>\n",
       "      <th>max</th>\n",
       "      <td>6.151940e+07</td>\n",
       "    </tr>\n",
       "  </tbody>\n",
       "</table>\n",
       "</div>"
      ],
      "text/plain": [
       "              value\n",
       "count  1.243000e+03\n",
       "mean   4.615222e+06\n",
       "std    4.534242e+06\n",
       "min    7.897810e+05\n",
       "25%    2.576004e+06\n",
       "50%    3.795176e+06\n",
       "75%    5.152489e+06\n",
       "max    6.151940e+07"
      ]
     },
     "execution_count": 8,
     "metadata": {},
     "output_type": "execute_result"
    }
   ],
   "source": [
    "data.describe()\n",
    "#here we get min ,max ,mean value"
   ]
  },
  {
   "cell_type": "code",
   "execution_count": 17,
   "id": "4a0ed682-b9ba-48bc-be72-756b29f87825",
   "metadata": {},
   "outputs": [
    {
     "data": {
      "text/plain": [
       "timestamp    0\n",
       "value        0\n",
       "dtype: int64"
      ]
     },
     "execution_count": 17,
     "metadata": {},
     "output_type": "execute_result"
    }
   ],
   "source": [
    "data.isnull().sum()\n",
    "#no data is null"
   ]
  },
  {
   "cell_type": "markdown",
   "id": "b9472166-cfd5-42f0-ae3e-ff98f1a48159",
   "metadata": {},
   "source": [
    "# Basic checks"
   ]
  },
  {
   "cell_type": "code",
   "execution_count": 20,
   "id": "f1df276f-c314-4140-b1a5-8825c9c5b5ac",
   "metadata": {},
   "outputs": [
    {
     "data": {
      "text/html": [
       "<div>\n",
       "<style scoped>\n",
       "    .dataframe tbody tr th:only-of-type {\n",
       "        vertical-align: middle;\n",
       "    }\n",
       "\n",
       "    .dataframe tbody tr th {\n",
       "        vertical-align: top;\n",
       "    }\n",
       "\n",
       "    .dataframe thead th {\n",
       "        text-align: right;\n",
       "    }\n",
       "</style>\n",
       "<table border=\"1\" class=\"dataframe\">\n",
       "  <thead>\n",
       "    <tr style=\"text-align: right;\">\n",
       "      <th></th>\n",
       "      <th>timestamp</th>\n",
       "      <th>value</th>\n",
       "    </tr>\n",
       "  </thead>\n",
       "  <tbody>\n",
       "    <tr>\n",
       "      <th>0</th>\n",
       "      <td>2013-10-09 16:25:00</td>\n",
       "      <td>9926554.0</td>\n",
       "    </tr>\n",
       "    <tr>\n",
       "      <th>1</th>\n",
       "      <td>2013-10-09 16:30:00</td>\n",
       "      <td>50745578.0</td>\n",
       "    </tr>\n",
       "    <tr>\n",
       "      <th>2</th>\n",
       "      <td>2013-10-09 16:35:00</td>\n",
       "      <td>61519397.0</td>\n",
       "    </tr>\n",
       "    <tr>\n",
       "      <th>3</th>\n",
       "      <td>2013-10-09 16:40:00</td>\n",
       "      <td>55996401.0</td>\n",
       "    </tr>\n",
       "    <tr>\n",
       "      <th>4</th>\n",
       "      <td>2013-10-09 16:45:00</td>\n",
       "      <td>40876988.0</td>\n",
       "    </tr>\n",
       "  </tbody>\n",
       "</table>\n",
       "</div>"
      ],
      "text/plain": [
       "             timestamp       value\n",
       "0  2013-10-09 16:25:00   9926554.0\n",
       "1  2013-10-09 16:30:00  50745578.0\n",
       "2  2013-10-09 16:35:00  61519397.0\n",
       "3  2013-10-09 16:40:00  55996401.0\n",
       "4  2013-10-09 16:45:00  40876988.0"
      ]
     },
     "execution_count": 20,
     "metadata": {},
     "output_type": "execute_result"
    }
   ],
   "source": [
    "data.head()#first five rows"
   ]
  },
  {
   "cell_type": "code",
   "execution_count": 22,
   "id": "64253943-6cfa-4b65-9cca-ebe20c2f9958",
   "metadata": {},
   "outputs": [],
   "source": [
    "data=pd.read_csv('iio_us-east-1_i-a2eb1cd9_NetworkIn.csv',parse_dates=[0],index_col='timestamp')"
   ]
  },
  {
   "cell_type": "code",
   "execution_count": 24,
   "id": "5dcc7e79-1b91-4e88-8fb2-55d4a658d364",
   "metadata": {},
   "outputs": [],
   "source": [
    "# EDA"
   ]
  },
  {
   "cell_type": "code",
   "execution_count": 26,
   "id": "ec69a4a8-e2de-49e3-a023-aa43c0bd5cfc",
   "metadata": {},
   "outputs": [
    {
     "data": {
      "image/png": "[encoded data removed]",
      "text/plain": [
       "<Figure size 2500x1500 with 1 Axes>"
      ]
     },
     "metadata": {},
     "output_type": "display_data"
    }
   ],
   "source": [
    "import matplotlib.pyplot as plt\n",
    "plt.figure(figsize=(25,15),facecolor='white')#canvas  size\n",
    "plt.plot(data)#line plot \n",
    "plt.tight_layout()"
   ]
  },
  {
   "cell_type": "code",
   "execution_count": 27,
   "id": "f7938819-699b-4e22-bb32-1ff1a0972428",
   "metadata": {},
   "outputs": [
    {
     "data": {
      "image/png": "[encoded data removed]",
      "text/plain": [
       "<Figure size 640x480 with 1 Axes>"
      ]
     },
     "execution_count": 27,
     "metadata": {},
     "output_type": "execute_result"
    },
    {
     "data": {
      "image/png": "[encoded data removed]",
      "text/plain": [
       "<Figure size 640x480 with 1 Axes>"
      ]
     },
     "metadata": {},
     "output_type": "display_data"
    }
   ],
   "source": [
    "from statsmodels.graphics.tsaplots import plot_acf\n",
    "plot_acf(data)"
   ]
  },
  {
   "cell_type": "code",
   "execution_count": 29,
   "id": "1074fa6d-5074-4a65-bc64-7f7dc6ac80c7",
   "metadata": {},
   "outputs": [],
   "source": [
    "#From the autocorrelation plot, it is clear that given series is not stationary."
   ]
  },
  {
   "cell_type": "code",
   "execution_count": 30,
   "id": "04706053-f637-42a1-849f-7b9402b2ffaa",
   "metadata": {},
   "outputs": [],
   "source": [
    "#We can perform the ADfuller test, a test based on hypothesis, where if the p-value is\n",
    "#less than 0.05, then we can consider the time series is stationary, and if the P-value is\n",
    "#greater than 0.05, then the time series is non-stationary."
   ]
  },
  {
   "cell_type": "code",
   "execution_count": 34,
   "id": "4443f339-4ba7-475e-9c11-6d705d3d4a07",
   "metadata": {},
   "outputs": [
    {
     "name": "stdout",
     "output_type": "stream",
     "text": [
      "1. ADF :  -5.90238880728728\n",
      "2. P-Value :  2.7585110884823967e-07\n",
      "3. Num Of Lags :  13\n",
      "4. Num Of Observations Used For ADF Regression and Critical Values Calculation : 1229\n",
      "5. Critical Values :\n",
      "\t 1% :  -3.4356819860439574\n",
      "\t 5% :  -2.863894574114006\n",
      "\t 10% :  -2.568023609111511\n"
     ]
    }
   ],
   "source": [
    "# ADfuller Test to check stationarity \n",
    "\n",
    "from statsmodels.tsa.stattools import adfuller\n",
    "dftest = adfuller(data.value, autolag = 'AIC')\n",
    "print(\"1. ADF : \",dftest[0])\n",
    "print(\"2. P-Value : \", dftest[1])\n",
    "print(\"3. Num Of Lags : \", dftest[2])\n",
    "print(\"4. Num Of Observations Used For ADF Regression and Critical Values Calculation :\", dftest[3])\n",
    "print(\"5. Critical Values :\")\n",
    "for key, val in dftest[4].items():print(\"\\t\",key, \": \", val)"
   ]
  },
  {
   "cell_type": "code",
   "execution_count": 36,
   "id": "a8cdb1d6-01f6-410f-bc73-f3d5d10a1d82",
   "metadata": {},
   "outputs": [],
   "source": [
    "#P-value is higher for our dataset, and we can say that the evidence of rejecting the null\n",
    "#hypothesis is low; hence the time series is non-stationary."
   ]
  },
  {
   "cell_type": "code",
   "execution_count": 38,
   "id": "feab0eee-d12c-4a17-b38e-08bc86be69df",
   "metadata": {},
   "outputs": [
    {
     "data": {
      "text/html": [
       "<div>\n",
       "<style scoped>\n",
       "    .dataframe tbody tr th:only-of-type {\n",
       "        vertical-align: middle;\n",
       "    }\n",
       "\n",
       "    .dataframe tbody tr th {\n",
       "        vertical-align: top;\n",
       "    }\n",
       "\n",
       "    .dataframe thead th {\n",
       "        text-align: right;\n",
       "    }\n",
       "</style>\n",
       "<table border=\"1\" class=\"dataframe\">\n",
       "  <thead>\n",
       "    <tr style=\"text-align: right;\">\n",
       "      <th></th>\n",
       "      <th>value</th>\n",
       "    </tr>\n",
       "    <tr>\n",
       "      <th>timestamp</th>\n",
       "      <th></th>\n",
       "    </tr>\n",
       "  </thead>\n",
       "  <tbody>\n",
       "    <tr>\n",
       "      <th>2013-10-09 16:25:00</th>\n",
       "      <td>9926554.0</td>\n",
       "    </tr>\n",
       "    <tr>\n",
       "      <th>2013-10-09 16:30:00</th>\n",
       "      <td>50745578.0</td>\n",
       "    </tr>\n",
       "    <tr>\n",
       "      <th>2013-10-09 16:35:00</th>\n",
       "      <td>61519397.0</td>\n",
       "    </tr>\n",
       "    <tr>\n",
       "      <th>2013-10-09 16:40:00</th>\n",
       "      <td>55996401.0</td>\n",
       "    </tr>\n",
       "    <tr>\n",
       "      <th>2013-10-09 16:45:00</th>\n",
       "      <td>40876988.0</td>\n",
       "    </tr>\n",
       "    <tr>\n",
       "      <th>...</th>\n",
       "      <td>...</td>\n",
       "    </tr>\n",
       "    <tr>\n",
       "      <th>2013-10-13 23:35:00</th>\n",
       "      <td>7198625.2</td>\n",
       "    </tr>\n",
       "    <tr>\n",
       "      <th>2013-10-13 23:40:00</th>\n",
       "      <td>7964260.4</td>\n",
       "    </tr>\n",
       "    <tr>\n",
       "      <th>2013-10-13 23:45:00</th>\n",
       "      <td>7547664.0</td>\n",
       "    </tr>\n",
       "    <tr>\n",
       "      <th>2013-10-13 23:50:00</th>\n",
       "      <td>7988676.2</td>\n",
       "    </tr>\n",
       "    <tr>\n",
       "      <th>2013-10-13 23:55:00</th>\n",
       "      <td>7788122.6</td>\n",
       "    </tr>\n",
       "  </tbody>\n",
       "</table>\n",
       "<p>1243 rows × 1 columns</p>\n",
       "</div>"
      ],
      "text/plain": [
       "                          value\n",
       "timestamp                      \n",
       "2013-10-09 16:25:00   9926554.0\n",
       "2013-10-09 16:30:00  50745578.0\n",
       "2013-10-09 16:35:00  61519397.0\n",
       "2013-10-09 16:40:00  55996401.0\n",
       "2013-10-09 16:45:00  40876988.0\n",
       "...                         ...\n",
       "2013-10-13 23:35:00   7198625.2\n",
       "2013-10-13 23:40:00   7964260.4\n",
       "2013-10-13 23:45:00   7547664.0\n",
       "2013-10-13 23:50:00   7988676.2\n",
       "2013-10-13 23:55:00   7788122.6\n",
       "\n",
       "[1243 rows x 1 columns]"
      ]
     },
     "execution_count": 38,
     "metadata": {},
     "output_type": "execute_result"
    }
   ],
   "source": [
    "data"
   ]
  },
  {
   "cell_type": "code",
   "execution_count": 40,
   "id": "fd5dfc94-79c5-4d44-8780-4e71d8c08d4e",
   "metadata": {},
   "outputs": [],
   "source": [
    "## making it stationary by taking difference of 1\n",
    "data1=data.diff(periods=1) #This means calculating the change in your row(s)/column(s) over a set number of periods. Or simply, \n",
    "#pandas diff will subtract 1 cell value from another cell value within the same index."
   ]
  },
  {
   "cell_type": "code",
   "execution_count": 42,
   "id": "dd4c00f3-0bc0-466e-83af-414f9a9fd449",
   "metadata": {},
   "outputs": [
    {
     "data": {
      "text/html": [
       "<div>\n",
       "<style scoped>\n",
       "    .dataframe tbody tr th:only-of-type {\n",
       "        vertical-align: middle;\n",
       "    }\n",
       "\n",
       "    .dataframe tbody tr th {\n",
       "        vertical-align: top;\n",
       "    }\n",
       "\n",
       "    .dataframe thead th {\n",
       "        text-align: right;\n",
       "    }\n",
       "</style>\n",
       "<table border=\"1\" class=\"dataframe\">\n",
       "  <thead>\n",
       "    <tr style=\"text-align: right;\">\n",
       "      <th></th>\n",
       "      <th>value</th>\n",
       "    </tr>\n",
       "    <tr>\n",
       "      <th>timestamp</th>\n",
       "      <th></th>\n",
       "    </tr>\n",
       "  </thead>\n",
       "  <tbody>\n",
       "    <tr>\n",
       "      <th>2013-10-09 16:25:00</th>\n",
       "      <td>NaN</td>\n",
       "    </tr>\n",
       "    <tr>\n",
       "      <th>2013-10-09 16:30:00</th>\n",
       "      <td>40819024.0</td>\n",
       "    </tr>\n",
       "    <tr>\n",
       "      <th>2013-10-09 16:35:00</th>\n",
       "      <td>10773819.0</td>\n",
       "    </tr>\n",
       "    <tr>\n",
       "      <th>2013-10-09 16:40:00</th>\n",
       "      <td>-5522996.0</td>\n",
       "    </tr>\n",
       "    <tr>\n",
       "      <th>2013-10-09 16:45:00</th>\n",
       "      <td>-15119413.0</td>\n",
       "    </tr>\n",
       "    <tr>\n",
       "      <th>...</th>\n",
       "      <td>...</td>\n",
       "    </tr>\n",
       "    <tr>\n",
       "      <th>2013-10-13 23:35:00</th>\n",
       "      <td>-377033.2</td>\n",
       "    </tr>\n",
       "    <tr>\n",
       "      <th>2013-10-13 23:40:00</th>\n",
       "      <td>765635.2</td>\n",
       "    </tr>\n",
       "    <tr>\n",
       "      <th>2013-10-13 23:45:00</th>\n",
       "      <td>-416596.4</td>\n",
       "    </tr>\n",
       "    <tr>\n",
       "      <th>2013-10-13 23:50:00</th>\n",
       "      <td>441012.2</td>\n",
       "    </tr>\n",
       "    <tr>\n",
       "      <th>2013-10-13 23:55:00</th>\n",
       "      <td>-200553.6</td>\n",
       "    </tr>\n",
       "  </tbody>\n",
       "</table>\n",
       "<p>1243 rows × 1 columns</p>\n",
       "</div>"
      ],
      "text/plain": [
       "                          value\n",
       "timestamp                      \n",
       "2013-10-09 16:25:00         NaN\n",
       "2013-10-09 16:30:00  40819024.0\n",
       "2013-10-09 16:35:00  10773819.0\n",
       "2013-10-09 16:40:00  -5522996.0\n",
       "2013-10-09 16:45:00 -15119413.0\n",
       "...                         ...\n",
       "2013-10-13 23:35:00   -377033.2\n",
       "2013-10-13 23:40:00    765635.2\n",
       "2013-10-13 23:45:00   -416596.4\n",
       "2013-10-13 23:50:00    441012.2\n",
       "2013-10-13 23:55:00   -200553.6\n",
       "\n",
       "[1243 rows x 1 columns]"
      ]
     },
     "execution_count": 42,
     "metadata": {},
     "output_type": "execute_result"
    }
   ],
   "source": [
    "data1 # Series integrated to the order of 1"
   ]
  },
  {
   "cell_type": "code",
   "execution_count": 44,
   "id": "805c30bf-6151-4576-8438-ad8796e6784a",
   "metadata": {},
   "outputs": [
    {
     "data": {
      "text/html": [
       "<div>\n",
       "<style scoped>\n",
       "    .dataframe tbody tr th:only-of-type {\n",
       "        vertical-align: middle;\n",
       "    }\n",
       "\n",
       "    .dataframe tbody tr th {\n",
       "        vertical-align: top;\n",
       "    }\n",
       "\n",
       "    .dataframe thead th {\n",
       "        text-align: right;\n",
       "    }\n",
       "</style>\n",
       "<table border=\"1\" class=\"dataframe\">\n",
       "  <thead>\n",
       "    <tr style=\"text-align: right;\">\n",
       "      <th></th>\n",
       "      <th>value</th>\n",
       "    </tr>\n",
       "    <tr>\n",
       "      <th>timestamp</th>\n",
       "      <th></th>\n",
       "    </tr>\n",
       "  </thead>\n",
       "  <tbody>\n",
       "    <tr>\n",
       "      <th>2013-10-09 16:30:00</th>\n",
       "      <td>40819024.0</td>\n",
       "    </tr>\n",
       "    <tr>\n",
       "      <th>2013-10-09 16:35:00</th>\n",
       "      <td>10773819.0</td>\n",
       "    </tr>\n",
       "    <tr>\n",
       "      <th>2013-10-09 16:40:00</th>\n",
       "      <td>-5522996.0</td>\n",
       "    </tr>\n",
       "    <tr>\n",
       "      <th>2013-10-09 16:45:00</th>\n",
       "      <td>-15119413.0</td>\n",
       "    </tr>\n",
       "    <tr>\n",
       "      <th>2013-10-09 16:50:00</th>\n",
       "      <td>-13298049.0</td>\n",
       "    </tr>\n",
       "    <tr>\n",
       "      <th>...</th>\n",
       "      <td>...</td>\n",
       "    </tr>\n",
       "    <tr>\n",
       "      <th>2013-10-13 23:35:00</th>\n",
       "      <td>-377033.2</td>\n",
       "    </tr>\n",
       "    <tr>\n",
       "      <th>2013-10-13 23:40:00</th>\n",
       "      <td>765635.2</td>\n",
       "    </tr>\n",
       "    <tr>\n",
       "      <th>2013-10-13 23:45:00</th>\n",
       "      <td>-416596.4</td>\n",
       "    </tr>\n",
       "    <tr>\n",
       "      <th>2013-10-13 23:50:00</th>\n",
       "      <td>441012.2</td>\n",
       "    </tr>\n",
       "    <tr>\n",
       "      <th>2013-10-13 23:55:00</th>\n",
       "      <td>-200553.6</td>\n",
       "    </tr>\n",
       "  </tbody>\n",
       "</table>\n",
       "<p>1242 rows × 1 columns</p>\n",
       "</div>"
      ],
      "text/plain": [
       "                          value\n",
       "timestamp                      \n",
       "2013-10-09 16:30:00  40819024.0\n",
       "2013-10-09 16:35:00  10773819.0\n",
       "2013-10-09 16:40:00  -5522996.0\n",
       "2013-10-09 16:45:00 -15119413.0\n",
       "2013-10-09 16:50:00 -13298049.0\n",
       "...                         ...\n",
       "2013-10-13 23:35:00   -377033.2\n",
       "2013-10-13 23:40:00    765635.2\n",
       "2013-10-13 23:45:00   -416596.4\n",
       "2013-10-13 23:50:00    441012.2\n",
       "2013-10-13 23:55:00   -200553.6\n",
       "\n",
       "[1242 rows x 1 columns]"
      ]
     },
     "execution_count": 44,
     "metadata": {},
     "output_type": "execute_result"
    }
   ],
   "source": [
    "data1=data1.iloc[1:] #null value discarded\n",
    "data1"
   ]
  },
  {
   "cell_type": "code",
   "execution_count": 46,
   "id": "7568ebae-441d-4a22-adc0-7cf455d7d048",
   "metadata": {},
   "outputs": [
    {
     "data": {
      "image/png": "[encoded data removed]",
      "text/plain": [
       "<Figure size 640x480 with 1 Axes>"
      ]
     },
     "metadata": {},
     "output_type": "display_data"
    }
   ],
   "source": [
    "plot_acf(data1); # autocorrelation plot "
   ]
  },
  {
   "cell_type": "code",
   "execution_count": 48,
   "id": "3dc03f7d-ef9e-4c3a-8292-c35027555fd8",
   "metadata": {},
   "outputs": [],
   "source": [
    "data2=data1.diff(periods=1) # differencing applied to data1"
   ]
  },
  {
   "cell_type": "code",
   "execution_count": 50,
   "id": "3d1e10b0-d582-40fa-8c77-2f3bf305f32e",
   "metadata": {},
   "outputs": [],
   "source": [
    "data2=data2.iloc[1:] # integrated to the order of 2"
   ]
  },
  {
   "cell_type": "code",
   "execution_count": 52,
   "id": "4bbccc00-6c27-406b-9ecd-37ee3a80e3e0",
   "metadata": {},
   "outputs": [
    {
     "data": {
      "image/png": "[encoded data removed]",
      "text/plain": [
       "<Figure size 640x480 with 1 Axes>"
      ]
     },
     "metadata": {},
     "output_type": "display_data"
    }
   ],
   "source": [
    "plot_acf(data2);"
   ]
  },
  {
   "cell_type": "code",
   "execution_count": 54,
   "id": "184fbceb-fabe-4356-afbc-4df15b530048",
   "metadata": {},
   "outputs": [
    {
     "data": {
      "text/plain": [
       "(1241, 1)"
      ]
     },
     "execution_count": 54,
     "metadata": {},
     "output_type": "execute_result"
    }
   ],
   "source": [
    "data2.shape#shape of the data rows and columns"
   ]
  },
  {
   "cell_type": "code",
   "execution_count": 56,
   "id": "38a097f1-96af-4f15-b48e-aee93cf8a1c2",
   "metadata": {},
   "outputs": [],
   "source": [
    "## Creating training and test sets\n",
    "train=data2[:100] #from 0th row to 99th row - traning data\n",
    "test=data2[100:] #from 100th row to end - testing data"
   ]
  },
  {
   "cell_type": "code",
   "execution_count": 58,
   "id": "7284cd5a-46a4-4c2e-b1a6-bff458587506",
   "metadata": {},
   "outputs": [
    {
     "name": "stdout",
     "output_type": "stream",
     "text": [
      "<class 'pandas.core.frame.DataFrame'>\n",
      "DatetimeIndex: 1141 entries, 2013-10-10 00:55:00 to 2013-10-13 23:55:00\n",
      "Data columns (total 1 columns):\n",
      " #   Column  Non-Null Count  Dtype  \n",
      "---  ------  --------------  -----  \n",
      " 0   value   1141 non-null   float64\n",
      "dtypes: float64(1)\n",
      "memory usage: 17.8 KB\n"
     ]
    }
   ],
   "source": [
    "test.info()#info about datatype and null value"
   ]
  },
  {
   "cell_type": "code",
   "execution_count": 60,
   "id": "78c5dda4-d212-4c92-a94d-34261fe9c1e7",
   "metadata": {},
   "outputs": [],
   "source": [
    "## Applying autoregressive model\n",
    "#from statsmodels.tsa.ar_model import AR\n",
    "##from statsmodels.tsa.ar_model import AutoReg\n",
    "\n",
    "from statsmodels.tsa.ar_model import AutoReg\n",
    "import warnings\n",
    "warnings.filterwarnings('ignore')"
   ]
  },
  {
   "cell_type": "code",
   "execution_count": 62,
   "id": "041e3451-079c-4ffd-8538-c67793fe75c4",
   "metadata": {},
   "outputs": [
    {
     "data": {
      "text/plain": [
       "[1, 2, 5, 6, 11]"
      ]
     },
     "execution_count": 62,
     "metadata": {},
     "output_type": "execute_result"
    }
   ],
   "source": [
    "\n",
    "#ar_select_order : gives the best lags ordered as an array\n",
    "\n",
    "# to select the optimal values for lags\n",
    "from statsmodels.tsa.ar_model import ar_select_order\n",
    "mod = ar_select_order(data1,maxlag=15,glob=True)\n",
    "mod.ar_lags\n",
    "\n",
    "# select_order: selects the best number of lags\n",
    "# maxlag: The maximum lag to consider\n",
    "# glob: global search across all combinations of lags"
   ]
  },
  {
   "cell_type": "code",
   "execution_count": 63,
   "id": "b9866114-19ad-46bf-94ff-a219cedd234c",
   "metadata": {},
   "outputs": [
    {
     "ename": "NameError",
     "evalue": "name 'ar_model_fit' is not defined",
     "output_type": "error",
     "traceback": [
      "\u001b[1;31m---------------------------------------------------------------------------\u001b[0m",
      "\u001b[1;31mNameError\u001b[0m                                 Traceback (most recent call last)",
      "Cell \u001b[1;32mIn[63], line 2\u001b[0m\n\u001b[0;32m      1\u001b[0m \u001b[38;5;66;03m##making prediction\u001b[39;00m\n\u001b[1;32m----> 2\u001b[0m prediction\u001b[38;5;241m=\u001b[39mar_model_fit\u001b[38;5;241m.\u001b[39mpredict(start\u001b[38;5;241m=\u001b[39m\u001b[38;5;241m100\u001b[39m,end\u001b[38;5;241m=\u001b[39m\u001b[38;5;241m142\u001b[39m)\n",
      "\u001b[1;31mNameError\u001b[0m: name 'ar_model_fit' is not defined"
     ]
    }
   ],
   "source": [
    "##making prediction\n",
    "prediction=ar_model_fit.predict(start=100,end=142)"
   ]
  },
  {
   "cell_type": "code",
   "execution_count": null,
   "id": "3684a830-d950-4e82-af42-6df796187c6e",
   "metadata": {},
   "outputs": [],
   "source": [
    "## model creation\n",
    "ar_model=AutoReg(train,lags=[1, 2, 5, 6, 11]) ## object creation with lags specified\n",
    "ar_model_fit=ar_model.fit() #training the model"
   ]
  },
  {
   "cell_type": "code",
   "execution_count": null,
   "id": "a75358d3-ddf6-4e10-8898-297847cc1d9c",
   "metadata": {},
   "outputs": [],
   "source": [
    "plt.plot(test)\n",
    "plt.plot(prediction,color='green') #graph of test vs prediction"
   ]
  },
  {
   "cell_type": "code",
   "execution_count": null,
   "id": "4cfe6c01-0cc5-4980-aa7c-5eec42f07e1b",
   "metadata": {},
   "outputs": [],
   "source": [
    "## ARIMA Model"
   ]
  },
  {
   "cell_type": "code",
   "execution_count": null,
   "id": "317edda4-ee45-4d62-b94b-287096dea7ed",
   "metadata": {},
   "outputs": [],
   "source": [
    "## importing the library\n",
    "from statsmodels.tsa.arima.model import ARIMA"
   ]
  },
  {
   "cell_type": "code",
   "execution_count": null,
   "id": "897424ef-e2ee-4535-a9a5-174363973fb9",
   "metadata": {},
   "outputs": [],
   "source": [
    "##Model object creation and fitting the model\n",
    "model_arima = ARIMA(train, order=(1,1,0))#order= p,d,q\n",
    "\n",
    "model_arima_fit = model_arima.fit()#training"
   ]
  },
  {
   "cell_type": "code",
   "execution_count": null,
   "id": "f9a1ddb2-623e-4df3-82b1-e59f8ee7227f",
   "metadata": {},
   "outputs": [],
   "source": [
    "## evaluate the model\n",
    "print(model_arima_fit.aic)"
   ]
  },
  {
   "cell_type": "code",
   "execution_count": null,
   "id": "4112142a-818e-4162-870a-067f4996cf6c",
   "metadata": {},
   "outputs": [],
   "source": [
    "## predicting the output of sample points\n",
    "# predictions = model_arima_fit.forecast(steps=9)\n",
    "prediction=model_arima_fit.predict(start=1,end=142)"
   ]
  },
  {
   "cell_type": "code",
   "execution_count": null,
   "id": "bbdadaf6-98ed-4348-9d20-7da68a5cdbbc",
   "metadata": {},
   "outputs": [],
   "source": [
    "prediction"
   ]
  },
  {
   "cell_type": "code",
   "execution_count": null,
   "id": "cdbbd2cc-da63-4d98-95c7-d9a864bb77af",
   "metadata": {},
   "outputs": [],
   "source": [
    "plt.plot(test)\n",
    "plt.plot(prediction,color='green') #graph of test vs prediction"
   ]
  },
  {
   "cell_type": "code",
   "execution_count": null,
   "id": "f457f527-6600-40ce-88a1-ad6b5cc19915",
   "metadata": {},
   "outputs": [],
   "source": [
    "## Geeting the optimal values of p,q an d\n",
    "import itertools\n",
    "\n",
    "p =d= q=range(0,5)#values of p,d,q range from 0 to 4\n",
    "\n",
    "pdq = list(itertools.product(p,d,q))\n",
    "# is used to find the cartesian product from the given iterator, output is lexicographic ordered.\n",
    "pdq #number of combinaton of pdq"
   ]
  },
  {
   "cell_type": "code",
   "execution_count": null,
   "id": "1c6d80b9-b4eb-413d-90be-2382f825d6ab",
   "metadata": {},
   "outputs": [],
   "source": [
    "#The Python try… except statement catches an exception. It is used to test code for an error which is written in the “try” statement.\n",
    "#If an error is encountered, the contents of the “except” block are run.\n",
    "list1=[]\n",
    "list2=[]\n",
    "for params in pdq: #iterating params over pdq\n",
    "        model_arima = ARIMA(train, order=params)#training model on various pdq values\n",
    "        model_arima_fit = model_arima.fit()#training\n",
    "        print(params, model_arima_fit.aic)#printing parameter and aic values\n",
    "        list1.append(params)\n",
    "        list2.append(model_arima_fit.aic)"
   ]
  },
  {
   "cell_type": "code",
   "execution_count": null,
   "id": "17a33556-b34c-4dfb-a673-d8b8f255a208",
   "metadata": {},
   "outputs": [],
   "source": [
    "min(list2)  # lowest aic score"
   ]
  },
  {
   "cell_type": "code",
   "execution_count": null,
   "id": "9bce8af1-aebe-40c9-a184-2b65dc94b959",
   "metadata": {},
   "outputs": [],
   "source": [
    "loc=list2.index(min(list2))\n",
    "loc"
   ]
  },
  {
   "cell_type": "code",
   "execution_count": null,
   "id": "06a5d307-a63a-4de4-b02e-d2d51c9fd91d",
   "metadata": {},
   "outputs": [],
   "source": [
    "# pdq corresponding to lowest aic\n",
    "list1[loc]"
   ]
  },
  {
   "cell_type": "code",
   "execution_count": null,
   "id": "8d185e05-19a0-4780-bdf4-330f6aad32f3",
   "metadata": {},
   "outputs": [],
   "source": [
    "## create the final model with lowest aic score parameter\n",
    "model_arima = ARIMA(train, order=(4, 0, 3))\n",
    "\n",
    "model_arima_fit = model_arima.fit() #training"
   ]
  },
  {
   "cell_type": "code",
   "execution_count": null,
   "id": "8f7d34f0-ad2b-4a6b-9198-e5bea1574cf1",
   "metadata": {},
   "outputs": [],
   "source": [
    "print(model_arima_fit.aic) # confirm aic score"
   ]
  },
  {
   "cell_type": "code",
   "execution_count": null,
   "id": "ec2ba060-ed03-4a4b-bc35-9fd6813bd858",
   "metadata": {},
   "outputs": [],
   "source": [
    "forecast = model_arima_fit.forecast(steps=9)\n",
    "forecast"
   ]
  },
  {
   "cell_type": "code",
   "execution_count": null,
   "id": "a20c1c2b-3096-4221-8388-a8cccc87d3f9",
   "metadata": {},
   "outputs": [],
   "source": [
    "prediction=model_arima_fit.predict(start=1,end=142)"
   ]
  },
  {
   "cell_type": "code",
   "execution_count": null,
   "id": "4342ccdc-9b99-4464-9d80-c91f31a97136",
   "metadata": {},
   "outputs": [],
   "source": [
    "plt.plot(test)\n",
    "plt.plot(prediction,color='green')"
   ]
  },
  {
   "cell_type": "code",
   "execution_count": null,
   "id": "79110205-0007-47b6-9e35-ca81d112a22d",
   "metadata": {},
   "outputs": [],
   "source": [
    "# Comparision of actual vs predicted for 9 values\n",
    "plt.plot(test[:9])\n",
    "plt.plot(forecast,color='green')#line plot for prediction"
   ]
  },
  {
   "cell_type": "code",
   "execution_count": null,
   "id": "2e242b07-2197-4063-bc6c-4d84ad43d142",
   "metadata": {},
   "outputs": [],
   "source": [
    "forecast25 = model_arima_fit.forecast(steps=25)\n",
    "test1 = test[0:25].values.flatten()\n",
    "test1"
   ]
  },
  {
   "cell_type": "code",
   "execution_count": null,
   "id": "fd38a596-cefa-47ab-817c-5628d7ba95a2",
   "metadata": {},
   "outputs": [],
   "source": [
    "# Comparision of actual vs predicted for 25 values\n",
    "plt.plot(test[:25])\n",
    "plt.plot(forecast25,color='green') #line plot for prediction"
   ]
  },
  {
   "cell_type": "code",
   "execution_count": null,
   "id": "89f98f31-644f-417d-9134-ebcf5cc4594d",
   "metadata": {},
   "outputs": [],
   "source": [
    "def forecast_accuracy(forecast, actual):\n",
    "    mse = np.mean((forecast - actual)**2)        # MSE\n",
    "    mae = np.mean(np.abs(forecast - actual))    # MAE\n",
    "    rmse = np.mean((forecast - actual)**2)**.5  # RMSE\n",
    "    \n",
    " \n",
    "    return({'mse':mse, 'mae': mae, 'rmse':rmse})\n",
    "\n",
    "forecast_accuracy(forecast25, test1)"
   ]
  },
  {
   "cell_type": "code",
   "execution_count": null,
   "id": "d461a439-5a2d-40db-a42d-fc900238a70a",
   "metadata": {},
   "outputs": [],
   "source": [
    "from sklearn.metrics import mean_squared_error\n",
    "from statsmodels.tools.eval_measures import rmse\n",
    "\n",
    "# Calculate root mean squared error\n",
    "print(rmse(test1, forecast25))\n",
    "  \n",
    "# Calculate mean squared error\n",
    "mean_squared_error(test1, forecast25)"
   ]
  },
  {
   "cell_type": "markdown",
   "id": "8094d58f-dfa9-45c2-bcc6-ac0c8989527e",
   "metadata": {},
   "source": [
    "# Conclusion"
   ]
  },
  {
   "cell_type": "raw",
   "id": "a9617ae2-bee2-4912-9ed8-27559661c019",
   "metadata": {},
   "source": [
    "1.In the dataset the value is too good.\n",
    " is shows which means model has high accuracy and which is properly trained.\n",
    "2.less error is generated.\n",
    "3.This is time seris model in which i used ARIMA to train model."
   ]
  },
  {
   "cell_type": "code",
   "execution_count": null,
   "id": "7bbcbc51-4849-47df-b059-355a22833730",
   "metadata": {},
   "outputs": [],
   "source": []
  },
  {
   "cell_type": "code",
   "execution_count": null,
   "id": "1ebb3180-8c37-4edf-b9e2-61a9c476de2a",
   "metadata": {},
   "outputs": [],
   "source": []
  }
 ],
 "metadata": {
  "kernelspec": {
   "display_name": "Python 3 (ipykernel)",
   "language": "python",
   "name": "python3"
  },
  "language_info": {
   "codemirror_mode": {
    "name": "ipython",
    "version": 3
   },
   "file_extension": ".py",
   "mimetype": "text/x-python",
   "name": "python",
   "nbconvert_exporter": "python",
   "pygments_lexer": "ipython3",
   "version": "3.12.4"
  }
 },
 "nbformat": 4,
 "nbformat_minor": 5
}

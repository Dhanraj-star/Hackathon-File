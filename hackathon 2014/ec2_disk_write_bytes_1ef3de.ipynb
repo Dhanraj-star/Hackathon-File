{
 "cells": [
  {
   "cell_type": "code",
   "execution_count": 4,
   "id": "de90222f-8473-4658-9145-2e4b8d15e4b7",
   "metadata": {},
   "outputs": [],
   "source": [
    "## Importing librries\n",
    "import pandas as pd\n",
    "import warnings\n",
    "warnings.filterwarnings('ignore')"
   ]
  },
  {
   "cell_type": "code",
   "execution_count": 6,
   "id": "7c406143-c4bb-46fa-807e-3313f059bcdb",
   "metadata": {},
   "outputs": [],
   "source": [
    "## loading the data\n",
    "data=pd.read_csv('ec2_disk_write_bytes_1ef3de.csv')"
   ]
  },
  {
   "cell_type": "code",
   "execution_count": 8,
   "id": "6df87c98-a8d6-46bb-b9cd-ef19016a161e",
   "metadata": {},
   "outputs": [
    {
     "data": {
      "text/html": [
       "<div>\n",
       "<style scoped>\n",
       "    .dataframe tbody tr th:only-of-type {\n",
       "        vertical-align: middle;\n",
       "    }\n",
       "\n",
       "    .dataframe tbody tr th {\n",
       "        vertical-align: top;\n",
       "    }\n",
       "\n",
       "    .dataframe thead th {\n",
       "        text-align: right;\n",
       "    }\n",
       "</style>\n",
       "<table border=\"1\" class=\"dataframe\">\n",
       "  <thead>\n",
       "    <tr style=\"text-align: right;\">\n",
       "      <th></th>\n",
       "      <th>timestamp</th>\n",
       "      <th>value</th>\n",
       "    </tr>\n",
       "  </thead>\n",
       "  <tbody>\n",
       "    <tr>\n",
       "      <th>0</th>\n",
       "      <td>2014-03-01 17:34:00</td>\n",
       "      <td>0.0</td>\n",
       "    </tr>\n",
       "    <tr>\n",
       "      <th>1</th>\n",
       "      <td>2014-03-01 17:39:00</td>\n",
       "      <td>0.0</td>\n",
       "    </tr>\n",
       "    <tr>\n",
       "      <th>2</th>\n",
       "      <td>2014-03-01 17:44:00</td>\n",
       "      <td>0.0</td>\n",
       "    </tr>\n",
       "    <tr>\n",
       "      <th>3</th>\n",
       "      <td>2014-03-01 17:49:00</td>\n",
       "      <td>0.0</td>\n",
       "    </tr>\n",
       "    <tr>\n",
       "      <th>4</th>\n",
       "      <td>2014-03-01 17:54:00</td>\n",
       "      <td>0.0</td>\n",
       "    </tr>\n",
       "    <tr>\n",
       "      <th>...</th>\n",
       "      <td>...</td>\n",
       "      <td>...</td>\n",
       "    </tr>\n",
       "    <tr>\n",
       "      <th>4725</th>\n",
       "      <td>2014-03-18 03:19:00</td>\n",
       "      <td>0.0</td>\n",
       "    </tr>\n",
       "    <tr>\n",
       "      <th>4726</th>\n",
       "      <td>2014-03-18 03:24:00</td>\n",
       "      <td>0.0</td>\n",
       "    </tr>\n",
       "    <tr>\n",
       "      <th>4727</th>\n",
       "      <td>2014-03-18 03:29:00</td>\n",
       "      <td>0.0</td>\n",
       "    </tr>\n",
       "    <tr>\n",
       "      <th>4728</th>\n",
       "      <td>2014-03-18 03:34:00</td>\n",
       "      <td>0.0</td>\n",
       "    </tr>\n",
       "    <tr>\n",
       "      <th>4729</th>\n",
       "      <td>2014-03-18 03:39:00</td>\n",
       "      <td>0.0</td>\n",
       "    </tr>\n",
       "  </tbody>\n",
       "</table>\n",
       "<p>4730 rows × 2 columns</p>\n",
       "</div>"
      ],
      "text/plain": [
       "                timestamp  value\n",
       "0     2014-03-01 17:34:00    0.0\n",
       "1     2014-03-01 17:39:00    0.0\n",
       "2     2014-03-01 17:44:00    0.0\n",
       "3     2014-03-01 17:49:00    0.0\n",
       "4     2014-03-01 17:54:00    0.0\n",
       "...                   ...    ...\n",
       "4725  2014-03-18 03:19:00    0.0\n",
       "4726  2014-03-18 03:24:00    0.0\n",
       "4727  2014-03-18 03:29:00    0.0\n",
       "4728  2014-03-18 03:34:00    0.0\n",
       "4729  2014-03-18 03:39:00    0.0\n",
       "\n",
       "[4730 rows x 2 columns]"
      ]
     },
     "execution_count": 8,
     "metadata": {},
     "output_type": "execute_result"
    }
   ],
   "source": [
    "data"
   ]
  },
  {
   "cell_type": "markdown",
   "id": "e1978e26-52f8-49a7-a1ae-714aea940080",
   "metadata": {},
   "source": [
    "# Basic checks"
   ]
  },
  {
   "cell_type": "code",
   "execution_count": 3,
   "id": "62e0583b-d648-4d5d-a433-ed300d85af18",
   "metadata": {},
   "outputs": [
    {
     "data": {
      "text/html": [
       "<div>\n",
       "<style scoped>\n",
       "    .dataframe tbody tr th:only-of-type {\n",
       "        vertical-align: middle;\n",
       "    }\n",
       "\n",
       "    .dataframe tbody tr th {\n",
       "        vertical-align: top;\n",
       "    }\n",
       "\n",
       "    .dataframe thead th {\n",
       "        text-align: right;\n",
       "    }\n",
       "</style>\n",
       "<table border=\"1\" class=\"dataframe\">\n",
       "  <thead>\n",
       "    <tr style=\"text-align: right;\">\n",
       "      <th></th>\n",
       "      <th>timestamp</th>\n",
       "      <th>value</th>\n",
       "    </tr>\n",
       "  </thead>\n",
       "  <tbody>\n",
       "    <tr>\n",
       "      <th>0</th>\n",
       "      <td>2014-03-01 17:34:00</td>\n",
       "      <td>0.0</td>\n",
       "    </tr>\n",
       "    <tr>\n",
       "      <th>1</th>\n",
       "      <td>2014-03-01 17:39:00</td>\n",
       "      <td>0.0</td>\n",
       "    </tr>\n",
       "    <tr>\n",
       "      <th>2</th>\n",
       "      <td>2014-03-01 17:44:00</td>\n",
       "      <td>0.0</td>\n",
       "    </tr>\n",
       "    <tr>\n",
       "      <th>3</th>\n",
       "      <td>2014-03-01 17:49:00</td>\n",
       "      <td>0.0</td>\n",
       "    </tr>\n",
       "    <tr>\n",
       "      <th>4</th>\n",
       "      <td>2014-03-01 17:54:00</td>\n",
       "      <td>0.0</td>\n",
       "    </tr>\n",
       "  </tbody>\n",
       "</table>\n",
       "</div>"
      ],
      "text/plain": [
       "             timestamp  value\n",
       "0  2014-03-01 17:34:00    0.0\n",
       "1  2014-03-01 17:39:00    0.0\n",
       "2  2014-03-01 17:44:00    0.0\n",
       "3  2014-03-01 17:49:00    0.0\n",
       "4  2014-03-01 17:54:00    0.0"
      ]
     },
     "execution_count": 3,
     "metadata": {},
     "output_type": "execute_result"
    }
   ],
   "source": [
    "data.head()#first five rows"
   ]
  },
  {
   "cell_type": "code",
   "execution_count": 4,
   "id": "42d76c4d-99fd-4eb4-992d-0e6bda964082",
   "metadata": {},
   "outputs": [
    {
     "data": {
      "text/html": [
       "<div>\n",
       "<style scoped>\n",
       "    .dataframe tbody tr th:only-of-type {\n",
       "        vertical-align: middle;\n",
       "    }\n",
       "\n",
       "    .dataframe tbody tr th {\n",
       "        vertical-align: top;\n",
       "    }\n",
       "\n",
       "    .dataframe thead th {\n",
       "        text-align: right;\n",
       "    }\n",
       "</style>\n",
       "<table border=\"1\" class=\"dataframe\">\n",
       "  <thead>\n",
       "    <tr style=\"text-align: right;\">\n",
       "      <th></th>\n",
       "      <th>timestamp</th>\n",
       "      <th>value</th>\n",
       "    </tr>\n",
       "  </thead>\n",
       "  <tbody>\n",
       "    <tr>\n",
       "      <th>4725</th>\n",
       "      <td>2014-03-18 03:19:00</td>\n",
       "      <td>0.0</td>\n",
       "    </tr>\n",
       "    <tr>\n",
       "      <th>4726</th>\n",
       "      <td>2014-03-18 03:24:00</td>\n",
       "      <td>0.0</td>\n",
       "    </tr>\n",
       "    <tr>\n",
       "      <th>4727</th>\n",
       "      <td>2014-03-18 03:29:00</td>\n",
       "      <td>0.0</td>\n",
       "    </tr>\n",
       "    <tr>\n",
       "      <th>4728</th>\n",
       "      <td>2014-03-18 03:34:00</td>\n",
       "      <td>0.0</td>\n",
       "    </tr>\n",
       "    <tr>\n",
       "      <th>4729</th>\n",
       "      <td>2014-03-18 03:39:00</td>\n",
       "      <td>0.0</td>\n",
       "    </tr>\n",
       "  </tbody>\n",
       "</table>\n",
       "</div>"
      ],
      "text/plain": [
       "                timestamp  value\n",
       "4725  2014-03-18 03:19:00    0.0\n",
       "4726  2014-03-18 03:24:00    0.0\n",
       "4727  2014-03-18 03:29:00    0.0\n",
       "4728  2014-03-18 03:34:00    0.0\n",
       "4729  2014-03-18 03:39:00    0.0"
      ]
     },
     "execution_count": 4,
     "metadata": {},
     "output_type": "execute_result"
    }
   ],
   "source": [
    "data.tail()#last 5 rows"
   ]
  },
  {
   "cell_type": "code",
   "execution_count": 5,
   "id": "609916eb-3b3b-4884-ad9f-dd34762618e7",
   "metadata": {},
   "outputs": [
    {
     "name": "stdout",
     "output_type": "stream",
     "text": [
      "<class 'pandas.core.frame.DataFrame'>\n",
      "RangeIndex: 4730 entries, 0 to 4729\n",
      "Data columns (total 2 columns):\n",
      " #   Column     Non-Null Count  Dtype  \n",
      "---  ------     --------------  -----  \n",
      " 0   timestamp  4730 non-null   object \n",
      " 1   value      4730 non-null   float64\n",
      "dtypes: float64(1), object(1)\n",
      "memory usage: 74.0+ KB\n"
     ]
    }
   ],
   "source": [
    "data.info()#info about datatype and null value"
   ]
  },
  {
   "cell_type": "code",
   "execution_count": 6,
   "id": "8c7ede61-931c-42b9-8193-66c46390f2e0",
   "metadata": {},
   "outputs": [
    {
     "data": {
      "text/html": [
       "<div>\n",
       "<style scoped>\n",
       "    .dataframe tbody tr th:only-of-type {\n",
       "        vertical-align: middle;\n",
       "    }\n",
       "\n",
       "    .dataframe tbody tr th {\n",
       "        vertical-align: top;\n",
       "    }\n",
       "\n",
       "    .dataframe thead th {\n",
       "        text-align: right;\n",
       "    }\n",
       "</style>\n",
       "<table border=\"1\" class=\"dataframe\">\n",
       "  <thead>\n",
       "    <tr style=\"text-align: right;\">\n",
       "      <th></th>\n",
       "      <th>timestamp</th>\n",
       "      <th>value</th>\n",
       "    </tr>\n",
       "  </thead>\n",
       "  <tbody>\n",
       "    <tr>\n",
       "      <th>0</th>\n",
       "      <td>2014-03-01 17:34:00</td>\n",
       "      <td>0.0</td>\n",
       "    </tr>\n",
       "    <tr>\n",
       "      <th>1</th>\n",
       "      <td>2014-03-01 17:39:00</td>\n",
       "      <td>0.0</td>\n",
       "    </tr>\n",
       "    <tr>\n",
       "      <th>2</th>\n",
       "      <td>2014-03-01 17:44:00</td>\n",
       "      <td>0.0</td>\n",
       "    </tr>\n",
       "    <tr>\n",
       "      <th>3</th>\n",
       "      <td>2014-03-01 17:49:00</td>\n",
       "      <td>0.0</td>\n",
       "    </tr>\n",
       "    <tr>\n",
       "      <th>4</th>\n",
       "      <td>2014-03-01 17:54:00</td>\n",
       "      <td>0.0</td>\n",
       "    </tr>\n",
       "    <tr>\n",
       "      <th>...</th>\n",
       "      <td>...</td>\n",
       "      <td>...</td>\n",
       "    </tr>\n",
       "    <tr>\n",
       "      <th>4725</th>\n",
       "      <td>2014-03-18 03:19:00</td>\n",
       "      <td>0.0</td>\n",
       "    </tr>\n",
       "    <tr>\n",
       "      <th>4726</th>\n",
       "      <td>2014-03-18 03:24:00</td>\n",
       "      <td>0.0</td>\n",
       "    </tr>\n",
       "    <tr>\n",
       "      <th>4727</th>\n",
       "      <td>2014-03-18 03:29:00</td>\n",
       "      <td>0.0</td>\n",
       "    </tr>\n",
       "    <tr>\n",
       "      <th>4728</th>\n",
       "      <td>2014-03-18 03:34:00</td>\n",
       "      <td>0.0</td>\n",
       "    </tr>\n",
       "    <tr>\n",
       "      <th>4729</th>\n",
       "      <td>2014-03-18 03:39:00</td>\n",
       "      <td>0.0</td>\n",
       "    </tr>\n",
       "  </tbody>\n",
       "</table>\n",
       "<p>4730 rows × 2 columns</p>\n",
       "</div>"
      ],
      "text/plain": [
       "                timestamp  value\n",
       "0     2014-03-01 17:34:00    0.0\n",
       "1     2014-03-01 17:39:00    0.0\n",
       "2     2014-03-01 17:44:00    0.0\n",
       "3     2014-03-01 17:49:00    0.0\n",
       "4     2014-03-01 17:54:00    0.0\n",
       "...                   ...    ...\n",
       "4725  2014-03-18 03:19:00    0.0\n",
       "4726  2014-03-18 03:24:00    0.0\n",
       "4727  2014-03-18 03:29:00    0.0\n",
       "4728  2014-03-18 03:34:00    0.0\n",
       "4729  2014-03-18 03:39:00    0.0\n",
       "\n",
       "[4730 rows x 2 columns]"
      ]
     },
     "execution_count": 6,
     "metadata": {},
     "output_type": "execute_result"
    }
   ],
   "source": [
    "data"
   ]
  },
  {
   "cell_type": "code",
   "execution_count": 7,
   "id": "3b90f3e2-0617-4f55-8742-342c47cff0d5",
   "metadata": {},
   "outputs": [],
   "source": [
    "data=pd.read_csv('ec2_disk_write_bytes_1ef3de.csv',parse_dates=[0],index_col='timestamp')"
   ]
  },
  {
   "cell_type": "code",
   "execution_count": 8,
   "id": "13c6019d-46bf-49b3-b51e-9e9ec7c69d72",
   "metadata": {},
   "outputs": [
    {
     "data": {
      "text/html": [
       "<div>\n",
       "<style scoped>\n",
       "    .dataframe tbody tr th:only-of-type {\n",
       "        vertical-align: middle;\n",
       "    }\n",
       "\n",
       "    .dataframe tbody tr th {\n",
       "        vertical-align: top;\n",
       "    }\n",
       "\n",
       "    .dataframe thead th {\n",
       "        text-align: right;\n",
       "    }\n",
       "</style>\n",
       "<table border=\"1\" class=\"dataframe\">\n",
       "  <thead>\n",
       "    <tr style=\"text-align: right;\">\n",
       "      <th></th>\n",
       "      <th>value</th>\n",
       "    </tr>\n",
       "    <tr>\n",
       "      <th>timestamp</th>\n",
       "      <th></th>\n",
       "    </tr>\n",
       "  </thead>\n",
       "  <tbody>\n",
       "    <tr>\n",
       "      <th>2014-03-01 17:34:00</th>\n",
       "      <td>0.0</td>\n",
       "    </tr>\n",
       "    <tr>\n",
       "      <th>2014-03-01 17:39:00</th>\n",
       "      <td>0.0</td>\n",
       "    </tr>\n",
       "    <tr>\n",
       "      <th>2014-03-01 17:44:00</th>\n",
       "      <td>0.0</td>\n",
       "    </tr>\n",
       "    <tr>\n",
       "      <th>2014-03-01 17:49:00</th>\n",
       "      <td>0.0</td>\n",
       "    </tr>\n",
       "    <tr>\n",
       "      <th>2014-03-01 17:54:00</th>\n",
       "      <td>0.0</td>\n",
       "    </tr>\n",
       "  </tbody>\n",
       "</table>\n",
       "</div>"
      ],
      "text/plain": [
       "                     value\n",
       "timestamp                 \n",
       "2014-03-01 17:34:00    0.0\n",
       "2014-03-01 17:39:00    0.0\n",
       "2014-03-01 17:44:00    0.0\n",
       "2014-03-01 17:49:00    0.0\n",
       "2014-03-01 17:54:00    0.0"
      ]
     },
     "execution_count": 8,
     "metadata": {},
     "output_type": "execute_result"
    }
   ],
   "source": [
    "data.head()#first five rows"
   ]
  },
  {
   "cell_type": "code",
   "execution_count": 9,
   "id": "b82886b4-8018-486c-9eaf-ea6b98fe34bd",
   "metadata": {},
   "outputs": [],
   "source": [
    "data.rename(columns = {'#value': 'value'}, inplace = True)"
   ]
  },
  {
   "cell_type": "code",
   "execution_count": 10,
   "id": "08580dc8-e6a3-45e5-93a1-ecf05e82785c",
   "metadata": {},
   "outputs": [
    {
     "data": {
      "text/plain": [
       "timestamp\n",
       "2014-03-01 17:34:00    0.0\n",
       "2014-03-01 17:39:00    0.0\n",
       "2014-03-01 17:44:00    0.0\n",
       "2014-03-01 17:49:00    0.0\n",
       "2014-03-01 17:54:00    0.0\n",
       "                      ... \n",
       "2014-03-18 03:19:00    0.0\n",
       "2014-03-18 03:24:00    0.0\n",
       "2014-03-18 03:29:00    0.0\n",
       "2014-03-18 03:34:00    0.0\n",
       "2014-03-18 03:39:00    0.0\n",
       "Name: value, Length: 4730, dtype: float64"
      ]
     },
     "execution_count": 10,
     "metadata": {},
     "output_type": "execute_result"
    }
   ],
   "source": [
    "data['value']"
   ]
  },
  {
   "cell_type": "code",
   "execution_count": 11,
   "id": "4ce3ce9c-1470-42f9-a2cc-2fef5dc0f4e2",
   "metadata": {},
   "outputs": [
    {
     "data": {
      "text/html": [
       "<div>\n",
       "<style scoped>\n",
       "    .dataframe tbody tr th:only-of-type {\n",
       "        vertical-align: middle;\n",
       "    }\n",
       "\n",
       "    .dataframe tbody tr th {\n",
       "        vertical-align: top;\n",
       "    }\n",
       "\n",
       "    .dataframe thead th {\n",
       "        text-align: right;\n",
       "    }\n",
       "</style>\n",
       "<table border=\"1\" class=\"dataframe\">\n",
       "  <thead>\n",
       "    <tr style=\"text-align: right;\">\n",
       "      <th></th>\n",
       "      <th>value</th>\n",
       "    </tr>\n",
       "  </thead>\n",
       "  <tbody>\n",
       "    <tr>\n",
       "      <th>count</th>\n",
       "      <td>4.730000e+03</td>\n",
       "    </tr>\n",
       "    <tr>\n",
       "      <th>mean</th>\n",
       "      <td>6.581561e+06</td>\n",
       "    </tr>\n",
       "    <tr>\n",
       "      <th>std</th>\n",
       "      <td>4.038568e+07</td>\n",
       "    </tr>\n",
       "    <tr>\n",
       "      <th>min</th>\n",
       "      <td>0.000000e+00</td>\n",
       "    </tr>\n",
       "    <tr>\n",
       "      <th>25%</th>\n",
       "      <td>0.000000e+00</td>\n",
       "    </tr>\n",
       "    <tr>\n",
       "      <th>50%</th>\n",
       "      <td>0.000000e+00</td>\n",
       "    </tr>\n",
       "    <tr>\n",
       "      <th>75%</th>\n",
       "      <td>0.000000e+00</td>\n",
       "    </tr>\n",
       "    <tr>\n",
       "      <th>max</th>\n",
       "      <td>5.474570e+08</td>\n",
       "    </tr>\n",
       "  </tbody>\n",
       "</table>\n",
       "</div>"
      ],
      "text/plain": [
       "              value\n",
       "count  4.730000e+03\n",
       "mean   6.581561e+06\n",
       "std    4.038568e+07\n",
       "min    0.000000e+00\n",
       "25%    0.000000e+00\n",
       "50%    0.000000e+00\n",
       "75%    0.000000e+00\n",
       "max    5.474570e+08"
      ]
     },
     "execution_count": 11,
     "metadata": {},
     "output_type": "execute_result"
    }
   ],
   "source": [
    "data.describe()##used to view some basic statistical details like percentile, mean, std etc. "
   ]
  },
  {
   "cell_type": "markdown",
   "id": "dea144e1-9c88-4afe-b826-89ecb9b65923",
   "metadata": {},
   "source": [
    "# EDA"
   ]
  },
  {
   "cell_type": "code",
   "execution_count": 12,
   "id": "1ad1b83c-1356-41e6-a84c-71df222178c0",
   "metadata": {},
   "outputs": [
    {
     "data": {
      "image/png": "[encoded data removed]",
      "text/plain": [
       "<Figure size 2500x1500 with 1 Axes>"
      ]
     },
     "metadata": {},
     "output_type": "display_data"
    }
   ],
   "source": [
    "import matplotlib.pyplot as plt\n",
    "plt.figure(figsize=(25,15),facecolor='white')#canvas  size\n",
    "plt.plot(data)#line plot \n",
    "plt.tight_layout()\n",
    "## from plot we can see the series given is not stationary"
   ]
  },
  {
   "cell_type": "code",
   "execution_count": 13,
   "id": "b728e2cd-8c9b-4dcf-ac37-71f78bcd0707",
   "metadata": {},
   "outputs": [
    {
     "data": {
      "image/png": "[encoded data removed]",
      "text/plain": [
       "<Figure size 640x480 with 1 Axes>"
      ]
     },
     "execution_count": 13,
     "metadata": {},
     "output_type": "execute_result"
    },
    {
     "data": {
      "image/png": "[encoded data removed]",
      "text/plain": [
       "<Figure size 640x480 with 1 Axes>"
      ]
     },
     "metadata": {},
     "output_type": "display_data"
    }
   ],
   "source": [
    "## Plotting the autocorrelation function\n",
    "from statsmodels.graphics.tsaplots import plot_acf\n",
    "plot_acf(data)"
   ]
  },
  {
   "cell_type": "code",
   "execution_count": 15,
   "id": "1bfbb9ab-f42d-49a6-8807-73a778496202",
   "metadata": {},
   "outputs": [
    {
     "name": "stdout",
     "output_type": "stream",
     "text": [
      "1. ADF :  -8.892912741858705\n",
      "2. P-Value :  1.2286741976236198e-14\n",
      "3. Num Of Lags :  27\n",
      "4. Num Of Observations Used For ADF Regression and Critical Values Calculation : 4702\n",
      "5. Critical Values :\n",
      "\t 1% :  -3.4317415086267644\n",
      "\t 5% :  -2.86215488776668\n",
      "\t 10% :  -2.567097306976895\n"
     ]
    }
   ],
   "source": [
    "# ADfuller Test to check stationarity \n",
    "\n",
    "from statsmodels.tsa.stattools import adfuller\n",
    "dftest = adfuller(data.value, autolag = 'AIC')\n",
    "print(\"1. ADF : \",dftest[0])\n",
    "print(\"2. P-Value : \", dftest[1])\n",
    "print(\"3. Num Of Lags : \", dftest[2])\n",
    "print(\"4. Num Of Observations Used For ADF Regression and Critical Values Calculation :\", dftest[3])\n",
    "print(\"5. Critical Values :\")\n",
    "for key, val in dftest[4].items():print(\"\\t\",key, \": \", val)"
   ]
  },
  {
   "cell_type": "code",
   "execution_count": 16,
   "id": "76eae980-3e09-4672-aa69-4e8fa29ed131",
   "metadata": {},
   "outputs": [
    {
     "data": {
      "text/html": [
       "<div>\n",
       "<style scoped>\n",
       "    .dataframe tbody tr th:only-of-type {\n",
       "        vertical-align: middle;\n",
       "    }\n",
       "\n",
       "    .dataframe tbody tr th {\n",
       "        vertical-align: top;\n",
       "    }\n",
       "\n",
       "    .dataframe thead th {\n",
       "        text-align: right;\n",
       "    }\n",
       "</style>\n",
       "<table border=\"1\" class=\"dataframe\">\n",
       "  <thead>\n",
       "    <tr style=\"text-align: right;\">\n",
       "      <th></th>\n",
       "      <th>value</th>\n",
       "    </tr>\n",
       "    <tr>\n",
       "      <th>timestamp</th>\n",
       "      <th></th>\n",
       "    </tr>\n",
       "  </thead>\n",
       "  <tbody>\n",
       "    <tr>\n",
       "      <th>2014-03-01 17:34:00</th>\n",
       "      <td>0.0</td>\n",
       "    </tr>\n",
       "    <tr>\n",
       "      <th>2014-03-01 17:39:00</th>\n",
       "      <td>0.0</td>\n",
       "    </tr>\n",
       "    <tr>\n",
       "      <th>2014-03-01 17:44:00</th>\n",
       "      <td>0.0</td>\n",
       "    </tr>\n",
       "    <tr>\n",
       "      <th>2014-03-01 17:49:00</th>\n",
       "      <td>0.0</td>\n",
       "    </tr>\n",
       "    <tr>\n",
       "      <th>2014-03-01 17:54:00</th>\n",
       "      <td>0.0</td>\n",
       "    </tr>\n",
       "    <tr>\n",
       "      <th>...</th>\n",
       "      <td>...</td>\n",
       "    </tr>\n",
       "    <tr>\n",
       "      <th>2014-03-18 03:19:00</th>\n",
       "      <td>0.0</td>\n",
       "    </tr>\n",
       "    <tr>\n",
       "      <th>2014-03-18 03:24:00</th>\n",
       "      <td>0.0</td>\n",
       "    </tr>\n",
       "    <tr>\n",
       "      <th>2014-03-18 03:29:00</th>\n",
       "      <td>0.0</td>\n",
       "    </tr>\n",
       "    <tr>\n",
       "      <th>2014-03-18 03:34:00</th>\n",
       "      <td>0.0</td>\n",
       "    </tr>\n",
       "    <tr>\n",
       "      <th>2014-03-18 03:39:00</th>\n",
       "      <td>0.0</td>\n",
       "    </tr>\n",
       "  </tbody>\n",
       "</table>\n",
       "<p>4730 rows × 1 columns</p>\n",
       "</div>"
      ],
      "text/plain": [
       "                     value\n",
       "timestamp                 \n",
       "2014-03-01 17:34:00    0.0\n",
       "2014-03-01 17:39:00    0.0\n",
       "2014-03-01 17:44:00    0.0\n",
       "2014-03-01 17:49:00    0.0\n",
       "2014-03-01 17:54:00    0.0\n",
       "...                    ...\n",
       "2014-03-18 03:19:00    0.0\n",
       "2014-03-18 03:24:00    0.0\n",
       "2014-03-18 03:29:00    0.0\n",
       "2014-03-18 03:34:00    0.0\n",
       "2014-03-18 03:39:00    0.0\n",
       "\n",
       "[4730 rows x 1 columns]"
      ]
     },
     "execution_count": 16,
     "metadata": {},
     "output_type": "execute_result"
    }
   ],
   "source": [
    "data\n"
   ]
  },
  {
   "cell_type": "code",
   "execution_count": 17,
   "id": "7a762d28-1e72-4cdf-b143-19a7783f749c",
   "metadata": {},
   "outputs": [],
   "source": [
    "## making it stationary by taking difference of 1\n",
    "data1=data.diff(periods=1) #This means calculating the change in your row(s)/column(s) over a set number of periods. Or simply, \n",
    "#pandas diff will subtract 1 cell value from another cell value within the same index."
   ]
  },
  {
   "cell_type": "code",
   "execution_count": 18,
   "id": "b67236f1-a57f-4cdd-bc58-2bdf22a069dd",
   "metadata": {},
   "outputs": [
    {
     "data": {
      "text/html": [
       "<div>\n",
       "<style scoped>\n",
       "    .dataframe tbody tr th:only-of-type {\n",
       "        vertical-align: middle;\n",
       "    }\n",
       "\n",
       "    .dataframe tbody tr th {\n",
       "        vertical-align: top;\n",
       "    }\n",
       "\n",
       "    .dataframe thead th {\n",
       "        text-align: right;\n",
       "    }\n",
       "</style>\n",
       "<table border=\"1\" class=\"dataframe\">\n",
       "  <thead>\n",
       "    <tr style=\"text-align: right;\">\n",
       "      <th></th>\n",
       "      <th>value</th>\n",
       "    </tr>\n",
       "    <tr>\n",
       "      <th>timestamp</th>\n",
       "      <th></th>\n",
       "    </tr>\n",
       "  </thead>\n",
       "  <tbody>\n",
       "    <tr>\n",
       "      <th>2014-03-01 17:34:00</th>\n",
       "      <td>NaN</td>\n",
       "    </tr>\n",
       "    <tr>\n",
       "      <th>2014-03-01 17:39:00</th>\n",
       "      <td>0.0</td>\n",
       "    </tr>\n",
       "    <tr>\n",
       "      <th>2014-03-01 17:44:00</th>\n",
       "      <td>0.0</td>\n",
       "    </tr>\n",
       "    <tr>\n",
       "      <th>2014-03-01 17:49:00</th>\n",
       "      <td>0.0</td>\n",
       "    </tr>\n",
       "    <tr>\n",
       "      <th>2014-03-01 17:54:00</th>\n",
       "      <td>0.0</td>\n",
       "    </tr>\n",
       "    <tr>\n",
       "      <th>...</th>\n",
       "      <td>...</td>\n",
       "    </tr>\n",
       "    <tr>\n",
       "      <th>2014-03-18 03:19:00</th>\n",
       "      <td>0.0</td>\n",
       "    </tr>\n",
       "    <tr>\n",
       "      <th>2014-03-18 03:24:00</th>\n",
       "      <td>0.0</td>\n",
       "    </tr>\n",
       "    <tr>\n",
       "      <th>2014-03-18 03:29:00</th>\n",
       "      <td>0.0</td>\n",
       "    </tr>\n",
       "    <tr>\n",
       "      <th>2014-03-18 03:34:00</th>\n",
       "      <td>0.0</td>\n",
       "    </tr>\n",
       "    <tr>\n",
       "      <th>2014-03-18 03:39:00</th>\n",
       "      <td>0.0</td>\n",
       "    </tr>\n",
       "  </tbody>\n",
       "</table>\n",
       "<p>4730 rows × 1 columns</p>\n",
       "</div>"
      ],
      "text/plain": [
       "                     value\n",
       "timestamp                 \n",
       "2014-03-01 17:34:00    NaN\n",
       "2014-03-01 17:39:00    0.0\n",
       "2014-03-01 17:44:00    0.0\n",
       "2014-03-01 17:49:00    0.0\n",
       "2014-03-01 17:54:00    0.0\n",
       "...                    ...\n",
       "2014-03-18 03:19:00    0.0\n",
       "2014-03-18 03:24:00    0.0\n",
       "2014-03-18 03:29:00    0.0\n",
       "2014-03-18 03:34:00    0.0\n",
       "2014-03-18 03:39:00    0.0\n",
       "\n",
       "[4730 rows x 1 columns]"
      ]
     },
     "execution_count": 18,
     "metadata": {},
     "output_type": "execute_result"
    }
   ],
   "source": [
    "data1 # Series integrated to the order of 1"
   ]
  },
  {
   "cell_type": "code",
   "execution_count": 19,
   "id": "5f91837d-6b2b-408b-9959-d70b9dff3328",
   "metadata": {},
   "outputs": [
    {
     "data": {
      "text/html": [
       "<div>\n",
       "<style scoped>\n",
       "    .dataframe tbody tr th:only-of-type {\n",
       "        vertical-align: middle;\n",
       "    }\n",
       "\n",
       "    .dataframe tbody tr th {\n",
       "        vertical-align: top;\n",
       "    }\n",
       "\n",
       "    .dataframe thead th {\n",
       "        text-align: right;\n",
       "    }\n",
       "</style>\n",
       "<table border=\"1\" class=\"dataframe\">\n",
       "  <thead>\n",
       "    <tr style=\"text-align: right;\">\n",
       "      <th></th>\n",
       "      <th>value</th>\n",
       "    </tr>\n",
       "    <tr>\n",
       "      <th>timestamp</th>\n",
       "      <th></th>\n",
       "    </tr>\n",
       "  </thead>\n",
       "  <tbody>\n",
       "    <tr>\n",
       "      <th>2014-03-01 17:39:00</th>\n",
       "      <td>0.0</td>\n",
       "    </tr>\n",
       "    <tr>\n",
       "      <th>2014-03-01 17:44:00</th>\n",
       "      <td>0.0</td>\n",
       "    </tr>\n",
       "    <tr>\n",
       "      <th>2014-03-01 17:49:00</th>\n",
       "      <td>0.0</td>\n",
       "    </tr>\n",
       "    <tr>\n",
       "      <th>2014-03-01 17:54:00</th>\n",
       "      <td>0.0</td>\n",
       "    </tr>\n",
       "    <tr>\n",
       "      <th>2014-03-01 17:59:00</th>\n",
       "      <td>0.0</td>\n",
       "    </tr>\n",
       "    <tr>\n",
       "      <th>...</th>\n",
       "      <td>...</td>\n",
       "    </tr>\n",
       "    <tr>\n",
       "      <th>2014-03-18 03:19:00</th>\n",
       "      <td>0.0</td>\n",
       "    </tr>\n",
       "    <tr>\n",
       "      <th>2014-03-18 03:24:00</th>\n",
       "      <td>0.0</td>\n",
       "    </tr>\n",
       "    <tr>\n",
       "      <th>2014-03-18 03:29:00</th>\n",
       "      <td>0.0</td>\n",
       "    </tr>\n",
       "    <tr>\n",
       "      <th>2014-03-18 03:34:00</th>\n",
       "      <td>0.0</td>\n",
       "    </tr>\n",
       "    <tr>\n",
       "      <th>2014-03-18 03:39:00</th>\n",
       "      <td>0.0</td>\n",
       "    </tr>\n",
       "  </tbody>\n",
       "</table>\n",
       "<p>4729 rows × 1 columns</p>\n",
       "</div>"
      ],
      "text/plain": [
       "                     value\n",
       "timestamp                 \n",
       "2014-03-01 17:39:00    0.0\n",
       "2014-03-01 17:44:00    0.0\n",
       "2014-03-01 17:49:00    0.0\n",
       "2014-03-01 17:54:00    0.0\n",
       "2014-03-01 17:59:00    0.0\n",
       "...                    ...\n",
       "2014-03-18 03:19:00    0.0\n",
       "2014-03-18 03:24:00    0.0\n",
       "2014-03-18 03:29:00    0.0\n",
       "2014-03-18 03:34:00    0.0\n",
       "2014-03-18 03:39:00    0.0\n",
       "\n",
       "[4729 rows x 1 columns]"
      ]
     },
     "execution_count": 19,
     "metadata": {},
     "output_type": "execute_result"
    }
   ],
   "source": [
    "data1=data1.iloc[1:] #null value discarded\n",
    "data1"
   ]
  },
  {
   "cell_type": "code",
   "execution_count": 20,
   "id": "bf3f5aa2-0cbf-4979-830e-bad51cc0bd3d",
   "metadata": {},
   "outputs": [
    {
     "data": {
      "image/png": "[encoded data removed]",
      "text/plain": [
       "<Figure size 640x480 with 1 Axes>"
      ]
     },
     "metadata": {},
     "output_type": "display_data"
    }
   ],
   "source": [
    "plot_acf(data1); # autocorrelation plot "
   ]
  },
  {
   "cell_type": "code",
   "execution_count": 21,
   "id": "398f4fb2-7552-4dcd-a828-3e19c1b9001c",
   "metadata": {},
   "outputs": [],
   "source": [
    "data2=data1.diff(periods=1) # differencing applied to data1"
   ]
  },
  {
   "cell_type": "code",
   "execution_count": 22,
   "id": "54ec995b-015a-4b09-acd7-1da1fef4b24c",
   "metadata": {},
   "outputs": [],
   "source": [
    "data2=data2.iloc[1:] # integrated to the order of 2"
   ]
  },
  {
   "cell_type": "code",
   "execution_count": 23,
   "id": "1d6c75c3-f540-4f3a-9a78-f5d06dbe8db2",
   "metadata": {},
   "outputs": [
    {
     "data": {
      "image/png": "[encoded data removed]",
      "text/plain": [
       "<Figure size 640x480 with 1 Axes>"
      ]
     },
     "metadata": {},
     "output_type": "display_data"
    }
   ],
   "source": [
    "plot_acf(data2);"
   ]
  },
  {
   "cell_type": "code",
   "execution_count": 24,
   "id": "2d501531-00c2-4503-96c7-a33a119121f5",
   "metadata": {},
   "outputs": [
    {
     "data": {
      "text/plain": [
       "(4728, 1)"
      ]
     },
     "execution_count": 24,
     "metadata": {},
     "output_type": "execute_result"
    }
   ],
   "source": [
    "data2.shape#shape of the data rows and columns"
   ]
  },
  {
   "cell_type": "code",
   "execution_count": 25,
   "id": "6c7b56d8-a85c-4a70-b928-3642df226a6e",
   "metadata": {},
   "outputs": [],
   "source": [
    "## Creating training and test sets\n",
    "train=data2[:100] #from 0th row to 99th row - traning data\n",
    "test=data2[100:] #from 100th row to end - testing data"
   ]
  },
  {
   "cell_type": "code",
   "execution_count": 26,
   "id": "a8c71a06-081e-4572-8558-14d0806f4124",
   "metadata": {},
   "outputs": [
    {
     "name": "stdout",
     "output_type": "stream",
     "text": [
      "<class 'pandas.core.frame.DataFrame'>\n",
      "DatetimeIndex: 4628 entries, 2014-03-02 02:04:00 to 2014-03-18 03:39:00\n",
      "Data columns (total 1 columns):\n",
      " #   Column  Non-Null Count  Dtype  \n",
      "---  ------  --------------  -----  \n",
      " 0   value   4628 non-null   float64\n",
      "dtypes: float64(1)\n",
      "memory usage: 72.3 KB\n"
     ]
    }
   ],
   "source": [
    "test.info()#info about datatype and null value"
   ]
  },
  {
   "cell_type": "code",
   "execution_count": 27,
   "id": "453bbb60-fb6e-4ba1-8596-bcbe8dc79adc",
   "metadata": {},
   "outputs": [],
   "source": [
    "## Applying autoregressive model\n",
    "#from statsmodels.tsa.ar_model import AR\n",
    "##from statsmodels.tsa.ar_model import AutoReg\n",
    "\n",
    "from statsmodels.tsa.ar_model import AutoReg\n",
    "import warnings\n",
    "warnings.filterwarnings('ignore')"
   ]
  },
  {
   "cell_type": "code",
   "execution_count": 29,
   "id": "bde80b4e-6ccc-4722-806d-aaa403bf1ef3",
   "metadata": {},
   "outputs": [
    {
     "data": {
      "text/plain": [
       "[1, 2, 3, 4, 5, 6, 7, 8, 9, 10]"
      ]
     },
     "execution_count": 29,
     "metadata": {},
     "output_type": "execute_result"
    }
   ],
   "source": [
    "from statsmodels.tsa.ar_model import ar_select_order\n",
    "mod = ar_select_order(data1,maxlag=15,glob=True)\n",
    "mod.ar_lags\n"
   ]
  },
  {
   "cell_type": "code",
   "execution_count": 30,
   "id": "3ca5d9e9-c31c-4a21-9018-09c5846cb773",
   "metadata": {},
   "outputs": [],
   "source": [
    "ar_model=AutoReg(train,lags=[1, 2, 3, 4, 5, 6, 7, 8, 9, 10]) ## object creation with lags specified\n",
    "ar_model_fit=ar_model.fit() #training the model"
   ]
  },
  {
   "cell_type": "code",
   "execution_count": 31,
   "id": "e44b6920-9b9d-447f-8409-06fbeb0510f1",
   "metadata": {},
   "outputs": [],
   "source": [
    "##making prediction\n",
    "prediction=ar_model_fit.predict(start=100,end=142)"
   ]
  },
  {
   "cell_type": "code",
   "execution_count": 32,
   "id": "c0b425d4-b792-435d-b767-6bdba3791352",
   "metadata": {},
   "outputs": [
    {
     "data": {
      "text/plain": [
       "[<matplotlib.lines.Line2D at 0x1e458fa8fd0>]"
      ]
     },
     "execution_count": 32,
     "metadata": {},
     "output_type": "execute_result"
    },
    {
     "data": {
      "image/png": "[encoded data removed]",
      "text/plain": [
       "<Figure size 640x480 with 1 Axes>"
      ]
     },
     "metadata": {},
     "output_type": "display_data"
    }
   ],
   "source": [
    "import matplotlib.pyplot as plt\n",
    "\n",
    "plt.plot(test)\n",
    "plt.plot(prediction,color='green') #graph of test vs prediction"
   ]
  },
  {
   "cell_type": "code",
   "execution_count": 41,
   "id": "d81c33e7-9a09-44e6-a5fd-25749ae8b436",
   "metadata": {},
   "outputs": [],
   "source": [
    "## importing the library\n",
    "from statsmodels.tsa.arima.model import ARIMA"
   ]
  },
  {
   "cell_type": "code",
   "execution_count": 42,
   "id": "ea4bd995-495d-4b61-b344-5a86e3cf6f1e",
   "metadata": {},
   "outputs": [],
   "source": [
    "##Model object creation and fitting the model\n",
    "model_arima = ARIMA(train, order=(1,1,0))#order= p,d,q\n",
    "\n",
    "model_arima_fit = model_arima.fit()#training"
   ]
  },
  {
   "cell_type": "code",
   "execution_count": 43,
   "id": "dcc54e9e-c47d-462b-a278-92db2ac5a2c6",
   "metadata": {},
   "outputs": [
    {
     "name": "stdout",
     "output_type": "stream",
     "text": [
      "-2502.102558953023\n"
     ]
    }
   ],
   "source": [
    "## evaluate the model\n",
    "print(model_arima_fit.aic)"
   ]
  },
  {
   "cell_type": "code",
   "execution_count": 44,
   "id": "f463d44e-0727-4d20-88fb-e54ef4aa0e5e",
   "metadata": {},
   "outputs": [],
   "source": [
    "## predicting the output of sample points\n",
    "# predictions = model_arima_fit.forecast(steps=9)\n",
    "prediction=model_arima_fit.predict(start=100,end=142)"
   ]
  },
  {
   "cell_type": "code",
   "execution_count": 45,
   "id": "64402e4c-457f-48c2-ada3-60b488f0c498",
   "metadata": {},
   "outputs": [
    {
     "data": {
      "text/plain": [
       "2014-03-02 02:04:00    0.0\n",
       "2014-03-02 02:09:00    0.0\n",
       "2014-03-02 02:14:00    0.0\n",
       "2014-03-02 02:19:00    0.0\n",
       "2014-03-02 02:24:00    0.0\n",
       "2014-03-02 02:29:00    0.0\n",
       "2014-03-02 02:34:00    0.0\n",
       "2014-03-02 02:39:00    0.0\n",
       "2014-03-02 02:44:00    0.0\n",
       "2014-03-02 02:49:00    0.0\n",
       "2014-03-02 02:54:00    0.0\n",
       "2014-03-02 02:59:00    0.0\n",
       "2014-03-02 03:04:00    0.0\n",
       "2014-03-02 03:09:00    0.0\n",
       "2014-03-02 03:14:00    0.0\n",
       "2014-03-02 03:19:00    0.0\n",
       "2014-03-02 03:24:00    0.0\n",
       "2014-03-02 03:29:00    0.0\n",
       "2014-03-02 03:34:00    0.0\n",
       "2014-03-02 03:39:00    0.0\n",
       "2014-03-02 03:44:00    0.0\n",
       "2014-03-02 03:49:00    0.0\n",
       "2014-03-02 03:54:00    0.0\n",
       "2014-03-02 03:59:00    0.0\n",
       "2014-03-02 04:04:00    0.0\n",
       "2014-03-02 04:09:00    0.0\n",
       "2014-03-02 04:14:00    0.0\n",
       "2014-03-02 04:19:00    0.0\n",
       "2014-03-02 04:24:00    0.0\n",
       "2014-03-02 04:29:00    0.0\n",
       "2014-03-02 04:34:00    0.0\n",
       "2014-03-02 04:39:00    0.0\n",
       "2014-03-02 04:44:00    0.0\n",
       "2014-03-02 04:49:00    0.0\n",
       "2014-03-02 04:54:00    0.0\n",
       "2014-03-02 04:59:00    0.0\n",
       "2014-03-02 05:04:00    0.0\n",
       "2014-03-02 05:09:00    0.0\n",
       "2014-03-02 05:14:00    0.0\n",
       "2014-03-02 05:19:00    0.0\n",
       "2014-03-02 05:24:00    0.0\n",
       "2014-03-02 05:29:00    0.0\n",
       "2014-03-02 05:34:00    0.0\n",
       "Freq: 5T, Name: predicted_mean, dtype: float64"
      ]
     },
     "execution_count": 45,
     "metadata": {},
     "output_type": "execute_result"
    }
   ],
   "source": [
    "prediction"
   ]
  },
  {
   "cell_type": "code",
   "execution_count": 46,
   "id": "f5441964-6892-4098-8eae-ecb02abe02c8",
   "metadata": {},
   "outputs": [
    {
     "data": {
      "text/plain": [
       "[<matplotlib.lines.Line2D at 0x1e45b024c90>]"
      ]
     },
     "execution_count": 46,
     "metadata": {},
     "output_type": "execute_result"
    },
    {
     "data": {
      "image/png": "[encoded data removed]",
      "text/plain": [
       "<Figure size 640x480 with 1 Axes>"
      ]
     },
     "metadata": {},
     "output_type": "display_data"
    }
   ],
   "source": [
    "import matplotlib.pyplot as plt\n",
    "\n",
    "plt.plot(test)\n",
    "plt.plot(prediction,color='green') #graph of test vs prediction"
   ]
  },
  {
   "cell_type": "code",
   "execution_count": 47,
   "id": "9d2605a4-f36d-4b5b-a245-7dcd5a2016ac",
   "metadata": {},
   "outputs": [
    {
     "data": {
      "text/plain": [
       "[(0, 0, 0),\n",
       " (0, 0, 1),\n",
       " (0, 0, 2),\n",
       " (0, 0, 3),\n",
       " (0, 0, 4),\n",
       " (0, 1, 0),\n",
       " (0, 1, 1),\n",
       " (0, 1, 2),\n",
       " (0, 1, 3),\n",
       " (0, 1, 4),\n",
       " (0, 2, 0),\n",
       " (0, 2, 1),\n",
       " (0, 2, 2),\n",
       " (0, 2, 3),\n",
       " (0, 2, 4),\n",
       " (0, 3, 0),\n",
       " (0, 3, 1),\n",
       " (0, 3, 2),\n",
       " (0, 3, 3),\n",
       " (0, 3, 4),\n",
       " (0, 4, 0),\n",
       " (0, 4, 1),\n",
       " (0, 4, 2),\n",
       " (0, 4, 3),\n",
       " (0, 4, 4),\n",
       " (1, 0, 0),\n",
       " (1, 0, 1),\n",
       " (1, 0, 2),\n",
       " (1, 0, 3),\n",
       " (1, 0, 4),\n",
       " (1, 1, 0),\n",
       " (1, 1, 1),\n",
       " (1, 1, 2),\n",
       " (1, 1, 3),\n",
       " (1, 1, 4),\n",
       " (1, 2, 0),\n",
       " (1, 2, 1),\n",
       " (1, 2, 2),\n",
       " (1, 2, 3),\n",
       " (1, 2, 4),\n",
       " (1, 3, 0),\n",
       " (1, 3, 1),\n",
       " (1, 3, 2),\n",
       " (1, 3, 3),\n",
       " (1, 3, 4),\n",
       " (1, 4, 0),\n",
       " (1, 4, 1),\n",
       " (1, 4, 2),\n",
       " (1, 4, 3),\n",
       " (1, 4, 4),\n",
       " (2, 0, 0),\n",
       " (2, 0, 1),\n",
       " (2, 0, 2),\n",
       " (2, 0, 3),\n",
       " (2, 0, 4),\n",
       " (2, 1, 0),\n",
       " (2, 1, 1),\n",
       " (2, 1, 2),\n",
       " (2, 1, 3),\n",
       " (2, 1, 4),\n",
       " (2, 2, 0),\n",
       " (2, 2, 1),\n",
       " (2, 2, 2),\n",
       " (2, 2, 3),\n",
       " (2, 2, 4),\n",
       " (2, 3, 0),\n",
       " (2, 3, 1),\n",
       " (2, 3, 2),\n",
       " (2, 3, 3),\n",
       " (2, 3, 4),\n",
       " (2, 4, 0),\n",
       " (2, 4, 1),\n",
       " (2, 4, 2),\n",
       " (2, 4, 3),\n",
       " (2, 4, 4),\n",
       " (3, 0, 0),\n",
       " (3, 0, 1),\n",
       " (3, 0, 2),\n",
       " (3, 0, 3),\n",
       " (3, 0, 4),\n",
       " (3, 1, 0),\n",
       " (3, 1, 1),\n",
       " (3, 1, 2),\n",
       " (3, 1, 3),\n",
       " (3, 1, 4),\n",
       " (3, 2, 0),\n",
       " (3, 2, 1),\n",
       " (3, 2, 2),\n",
       " (3, 2, 3),\n",
       " (3, 2, 4),\n",
       " (3, 3, 0),\n",
       " (3, 3, 1),\n",
       " (3, 3, 2),\n",
       " (3, 3, 3),\n",
       " (3, 3, 4),\n",
       " (3, 4, 0),\n",
       " (3, 4, 1),\n",
       " (3, 4, 2),\n",
       " (3, 4, 3),\n",
       " (3, 4, 4),\n",
       " (4, 0, 0),\n",
       " (4, 0, 1),\n",
       " (4, 0, 2),\n",
       " (4, 0, 3),\n",
       " (4, 0, 4),\n",
       " (4, 1, 0),\n",
       " (4, 1, 1),\n",
       " (4, 1, 2),\n",
       " (4, 1, 3),\n",
       " (4, 1, 4),\n",
       " (4, 2, 0),\n",
       " (4, 2, 1),\n",
       " (4, 2, 2),\n",
       " (4, 2, 3),\n",
       " (4, 2, 4),\n",
       " (4, 3, 0),\n",
       " (4, 3, 1),\n",
       " (4, 3, 2),\n",
       " (4, 3, 3),\n",
       " (4, 3, 4),\n",
       " (4, 4, 0),\n",
       " (4, 4, 1),\n",
       " (4, 4, 2),\n",
       " (4, 4, 3),\n",
       " (4, 4, 4)]"
      ]
     },
     "execution_count": 47,
     "metadata": {},
     "output_type": "execute_result"
    }
   ],
   "source": [
    "## Geeting the optimal values of p,q an d\n",
    "import itertools\n",
    "\n",
    "p =d= q=range(0,5)#values of p,d,q range from 0 to 4\n",
    "\n",
    "pdq = list(itertools.product(p,d,q))\n",
    "# is used to find the cartesian product from the given iterator, output is lexicographic ordered.\n",
    "pdq #number of combinaton of pdq"
   ]
  },
  {
   "cell_type": "code",
   "execution_count": 48,
   "id": "358bbda2-0904-4f62-ad11-e00489bead26",
   "metadata": {},
   "outputs": [
    {
     "name": "stdout",
     "output_type": "stream",
     "text": [
      "(0, 0, 0) -2123.5918361436934\n",
      "(0, 0, 1) -2121.5918361436943\n",
      "(0, 0, 2) -2119.5918361436916\n",
      "(0, 0, 3) -2117.591836143684\n",
      "(0, 0, 4) -2115.591836143697\n",
      "(0, 1, 0) -2504.103379672445\n",
      "(0, 1, 1) -2502.1025589501846\n",
      "(0, 1, 2) -2500.1025589501837\n",
      "(0, 1, 3) -2498.1025589501846\n",
      "(0, 1, 4) -2496.1025589501837\n",
      "(0, 2, 0) -2462.5795023831606\n",
      "(0, 2, 1) -2460.645958359674\n",
      "(0, 2, 2) -2458.645958359674\n",
      "(0, 2, 3) -2456.645958359674\n",
      "(0, 2, 4) -2454.645958359674\n",
      "(0, 3, 0) -1881.555219398772\n",
      "(0, 3, 1) -1941.7534416855503\n",
      "(0, 3, 2) -1737.093539212193\n",
      "(0, 3, 3) -1950.981902168309\n",
      "(0, 3, 4) -1932.4070015528907\n",
      "(0, 4, 0) -1761.3877648940042\n",
      "(0, 4, 1) -1745.6773611981362\n",
      "(0, 4, 2) -1735.1886391945554\n",
      "(0, 4, 3) -1743.4830499346094\n",
      "(0, 4, 4) -1937.0742429697812\n",
      "(1, 0, 0) -2121.5918361436893\n",
      "(1, 0, 1) -2119.5918361436934\n",
      "(1, 0, 2) -2117.591836143694\n",
      "(1, 0, 3) -2115.591836143689\n",
      "(1, 0, 4) -2113.591836143694\n",
      "(1, 1, 0) -2502.102558953023\n",
      "(1, 1, 1) -2500.10255985427\n",
      "(1, 1, 2) -2498.102559854273\n",
      "(1, 1, 3) -2496.10255985427\n",
      "(1, 1, 4) -2494.102559854273\n",
      "(1, 2, 0) -2460.5795023831606\n",
      "(1, 2, 1) -2458.645958359674\n",
      "(1, 2, 2) -2456.645958359674\n",
      "(1, 2, 3) -2454.645958359674\n",
      "(1, 2, 4) -2452.645958359674\n",
      "(1, 3, 0) -1698.4449785644135\n",
      "(1, 3, 1) -1733.513838138618\n",
      "(1, 3, 2) -1805.7377342560762\n",
      "(1, 3, 3) -1619.4081958526708\n",
      "(1, 3, 4) -1933.7983268365576\n",
      "(1, 4, 0) -1924.173600718982\n",
      "(1, 4, 1) -1680.9528262198091\n",
      "(1, 4, 2) -1724.4192580602125\n",
      "(1, 4, 3) -1708.527315099915\n",
      "(1, 4, 4) -1882.6633572111111\n",
      "(2, 0, 0) -2119.591836143695\n",
      "(2, 0, 1) -2117.591836143699\n",
      "(2, 0, 2) -2115.5918361436934\n",
      "(2, 0, 3) -2113.591836143691\n",
      "(2, 0, 4) -2111.591836143689\n",
      "(2, 1, 0) -2500.102558952989\n",
      "(2, 1, 1) -2498.1025598542556\n",
      "(2, 1, 2) -2496.1025598542574\n",
      "(2, 1, 3) -2494.1025598542556\n",
      "(2, 1, 4) -2492.1025598542574\n",
      "(2, 2, 0) -2458.645958359674\n",
      "(2, 2, 1) -2456.645958359674\n",
      "(2, 2, 2) -2454.645958359674\n",
      "(2, 2, 3) -2452.645958359674\n",
      "(2, 2, 4) -2450.645958359674\n",
      "(2, 3, 0) -1830.3682986425185\n",
      "(2, 3, 1) -1791.2727076575368\n",
      "(2, 3, 2) -1823.3930194563209\n",
      "(2, 3, 3) -1828.2130707585502\n",
      "(2, 3, 4) -1941.0143170754807\n",
      "(2, 4, 0) -1976.6326054506412\n",
      "(2, 4, 1) -1763.9707421266107\n",
      "(2, 4, 2) -1939.9395105519593\n",
      "(2, 4, 3) -1761.8905524778643\n",
      "(2, 4, 4) -1756.0082256560227\n",
      "(3, 0, 0) -2117.5918361436998\n",
      "(3, 0, 1) -2115.591836143697\n",
      "(3, 0, 2) -2113.5918361436948\n",
      "(3, 0, 3) -2111.591836143695\n",
      "(3, 0, 4) -2109.5918361436993\n",
      "(3, 1, 0) -2498.102558953003\n",
      "(3, 1, 1) -2496.102559854299\n",
      "(3, 1, 2) -2494.102559854284\n",
      "(3, 1, 3) -2492.1025598542933\n",
      "(3, 1, 4) -2490.102559854284\n",
      "(3, 2, 0) -2456.645958359576\n",
      "(3, 2, 1) -2454.645958359576\n",
      "(3, 2, 2) -2452.645958359576\n",
      "(3, 2, 3) -2450.645958359576\n",
      "(3, 2, 4) -2448.645958359576\n",
      "(3, 3, 0) -1826.6214703733801\n",
      "(3, 3, 1) -1889.681581226704\n",
      "(3, 3, 2) -1916.9050604707277\n",
      "(3, 3, 3) -1807.2745044398994\n",
      "(3, 3, 4) -1868.282794292524\n",
      "(3, 4, 0) -1721.5352553449452\n",
      "(3, 4, 1) -1725.6263599266103\n",
      "(3, 4, 2) -1756.5650691076012\n",
      "(3, 4, 3) -1945.3490009204304\n",
      "(3, 4, 4) -1745.1378550275454\n",
      "(4, 0, 0) -2115.591836143695\n",
      "(4, 0, 1) -2113.5918361436998\n",
      "(4, 0, 2) -2111.5918361437016\n",
      "(4, 0, 3) -2109.5918361436943\n",
      "(4, 0, 4) -2107.5918361436943\n",
      "(4, 1, 0) -2496.10255895306\n",
      "(4, 1, 1) -2494.1025598542574\n",
      "(4, 1, 2) -2492.1025598542574\n",
      "(4, 1, 3) -2490.1025598542737\n",
      "(4, 1, 4) -2488.1025598542574\n",
      "(4, 2, 0) -2454.645958359576\n",
      "(4, 2, 1) -2452.645958359576\n",
      "(4, 2, 2) -2450.645958359576\n",
      "(4, 2, 3) -2448.645958359576\n",
      "(4, 2, 4) -2446.645958359576\n",
      "(4, 3, 0) -1854.1411886697313\n",
      "(4, 3, 1) -1720.6331371918814\n",
      "(4, 3, 2) -1917.4239465385956\n",
      "(4, 3, 3) -1896.912093300103\n",
      "(4, 3, 4) -1721.9817267013143\n",
      "(4, 4, 0) -1710.0227931867466\n",
      "(4, 4, 1) -1895.1431410280688\n",
      "(4, 4, 2) -1853.7321268279663\n",
      "(4, 4, 3) -1643.8826811415115\n",
      "(4, 4, 4) -2220.8103090819095\n"
     ]
    }
   ],
   "source": [
    "##The Python try… except statement catches an exception. It is used to test code for an error which is written in the “try” statement.\n",
    "#If an error is encountered, the contents of the “except” block are run.\n",
    "list1=[]\n",
    "list2=[]\n",
    "for params in pdq: #iterating params over pdq\n",
    "        model_arima = ARIMA(train, order=params)#training model on various pdq values\n",
    "        model_arima_fit = model_arima.fit()#training\n",
    "        print(params, model_arima_fit.aic)#printing parameter and aic values\n",
    "        list1.append(params)\n",
    "        list2.append(model_arima_fit.aic)"
   ]
  },
  {
   "cell_type": "code",
   "execution_count": 49,
   "id": "7b9683c4-8e69-4878-8d00-a0de2c394eeb",
   "metadata": {},
   "outputs": [
    {
     "data": {
      "text/plain": [
       "-2504.103379672445"
      ]
     },
     "execution_count": 49,
     "metadata": {},
     "output_type": "execute_result"
    }
   ],
   "source": [
    "min(list2)  # lowest aic score"
   ]
  },
  {
   "cell_type": "code",
   "execution_count": 50,
   "id": "485be812-9a34-4cc4-978a-b7b7ea192b04",
   "metadata": {},
   "outputs": [
    {
     "data": {
      "text/plain": [
       "5"
      ]
     },
     "execution_count": 50,
     "metadata": {},
     "output_type": "execute_result"
    }
   ],
   "source": [
    "loc=list2.index(min(list2))\n",
    "loc"
   ]
  },
  {
   "cell_type": "code",
   "execution_count": 51,
   "id": "c1ad9d60-1010-4116-beb3-81f7d5dbf030",
   "metadata": {},
   "outputs": [
    {
     "data": {
      "text/plain": [
       "(0, 1, 0)"
      ]
     },
     "execution_count": 51,
     "metadata": {},
     "output_type": "execute_result"
    }
   ],
   "source": [
    "# pdq corresponding to lowest aic\n",
    "list1[loc]"
   ]
  },
  {
   "cell_type": "code",
   "execution_count": 52,
   "id": "40519588-5e92-4f81-8a97-77436db186e7",
   "metadata": {},
   "outputs": [],
   "source": [
    "## create the final model with lowest aic score parameter\n",
    "model_arima = ARIMA(train, order=(4, 0, 3))\n",
    "\n",
    "model_arima_fit = model_arima.fit() #training"
   ]
  },
  {
   "cell_type": "code",
   "execution_count": 53,
   "id": "dc348918-843a-437b-9184-9583214b7c78",
   "metadata": {},
   "outputs": [
    {
     "name": "stdout",
     "output_type": "stream",
     "text": [
      "-2109.5918361436943\n"
     ]
    }
   ],
   "source": [
    "print(model_arima_fit.aic) # confirm aic score"
   ]
  },
  {
   "cell_type": "code",
   "execution_count": 54,
   "id": "e093830d-594a-4d42-9e05-3a0f1c8a20fb",
   "metadata": {},
   "outputs": [
    {
     "data": {
      "text/plain": [
       "2014-03-02 02:04:00   -0.000005\n",
       "2014-03-02 02:09:00   -0.000005\n",
       "2014-03-02 02:14:00   -0.000005\n",
       "2014-03-02 02:19:00   -0.000005\n",
       "2014-03-02 02:24:00   -0.000005\n",
       "2014-03-02 02:29:00   -0.000005\n",
       "2014-03-02 02:34:00   -0.000005\n",
       "2014-03-02 02:39:00   -0.000005\n",
       "2014-03-02 02:44:00   -0.000005\n",
       "Freq: 5T, Name: predicted_mean, dtype: float64"
      ]
     },
     "execution_count": 54,
     "metadata": {},
     "output_type": "execute_result"
    }
   ],
   "source": [
    "forecast = model_arima_fit.forecast(steps=9)\n",
    "forecast "
   ]
  },
  {
   "cell_type": "code",
   "execution_count": 57,
   "id": "aeb4a068-9e6d-47ef-bd3b-858b8c7935e3",
   "metadata": {},
   "outputs": [],
   "source": [
    "prediction=model_arima_fit.predict(start=50,end=142)"
   ]
  },
  {
   "cell_type": "code",
   "execution_count": 59,
   "id": "d702d7e7-dc91-4869-bd89-300aadaaf8b8",
   "metadata": {},
   "outputs": [
    {
     "data": {
      "text/plain": [
       "[<matplotlib.lines.Line2D at 0x1e45af63bd0>]"
      ]
     },
     "execution_count": 59,
     "metadata": {},
     "output_type": "execute_result"
    },
    {
     "data": {
      "image/png": "[encoded data removed]",
      "text/plain": [
       "<Figure size 640x480 with 1 Axes>"
      ]
     },
     "metadata": {},
     "output_type": "display_data"
    }
   ],
   "source": [
    "plt.plot(test)\n",
    "plt.plot(prediction,color='black') "
   ]
  },
  {
   "cell_type": "code",
   "execution_count": 60,
   "id": "cfcf4514-0c7f-446e-9d36-f65d932febee",
   "metadata": {},
   "outputs": [
    {
     "data": {
      "text/plain": [
       "[<matplotlib.lines.Line2D at 0x1e45b333ad0>]"
      ]
     },
     "execution_count": 60,
     "metadata": {},
     "output_type": "execute_result"
    },
    {
     "data": {
      "image/png": "[encoded data removed]",
      "text/plain": [
       "<Figure size 640x480 with 1 Axes>"
      ]
     },
     "metadata": {},
     "output_type": "display_data"
    }
   ],
   "source": [
    "# Comparision of actual vs predicted for 9 values\n",
    "plt.plot(test[:9])\n",
    "plt.plot(forecast,color='green')#line plot for prediction"
   ]
  },
  {
   "cell_type": "code",
   "execution_count": 61,
   "id": "6e59690b-5e7f-49c4-9097-f2f7d38e8216",
   "metadata": {},
   "outputs": [
    {
     "data": {
      "text/plain": [
       "array([0., 0., 0., 0., 0., 0., 0., 0., 0., 0., 0., 0., 0., 0., 0., 0., 0.,\n",
       "       0., 0., 0., 0., 0., 0., 0., 0.])"
      ]
     },
     "execution_count": 61,
     "metadata": {},
     "output_type": "execute_result"
    }
   ],
   "source": [
    "forecast25 = model_arima_fit.forecast(steps=25)\n",
    "test1 = test[0:25].values.flatten()\n",
    "test1"
   ]
  },
  {
   "cell_type": "code",
   "execution_count": 62,
   "id": "b6ec68e8-aa71-42c7-b0af-19a1d26f71f1",
   "metadata": {},
   "outputs": [
    {
     "data": {
      "text/plain": [
       "[<matplotlib.lines.Line2D at 0x1e45b2d8b10>]"
      ]
     },
     "execution_count": 62,
     "metadata": {},
     "output_type": "execute_result"
    },
    {
     "data": {
      "image/png": "[encoded data removed]",
      "text/plain": [
       "<Figure size 640x480 with 1 Axes>"
      ]
     },
     "metadata": {},
     "output_type": "display_data"
    }
   ],
   "source": [
    "# Comparision of actual vs predicted for 25 values\n",
    "plt.plot(test[:25])\n",
    "plt.plot(forecast25,color='green') #line plot for prediction"
   ]
  },
  {
   "cell_type": "code",
   "execution_count": 63,
   "id": "aedb8de2-4a53-4f89-b27b-11b19135f1be",
   "metadata": {},
   "outputs": [
    {
     "data": {
      "text/plain": [
       "{'mse': 2.3276361496110884e-11,\n",
       " 'mae': 4.8245581658957e-06,\n",
       " 'rmse': 4.8245581658957e-06}"
      ]
     },
     "execution_count": 63,
     "metadata": {},
     "output_type": "execute_result"
    }
   ],
   "source": [
    "# Accuracy metrics\n",
    "import numpy as np\n",
    "def forecast_accuracy(forecast, actual):\n",
    "    mse = np.mean((forecast - actual)**2)        # MSE\n",
    "    mae = np.mean(np.abs(forecast - actual))    # MAE\n",
    "    rmse = np.mean((forecast - actual)**2)**.5  # RMSE\n",
    "    \n",
    " \n",
    "    return({'mse':mse, 'mae': mae, 'rmse':rmse})\n",
    "\n",
    "forecast_accuracy(forecast25, test1)"
   ]
  },
  {
   "cell_type": "code",
   "execution_count": 64,
   "id": "93f497ad-0eb0-4df6-bb7a-6fa866cd3d52",
   "metadata": {},
   "outputs": [
    {
     "name": "stdout",
     "output_type": "stream",
     "text": [
      "4.8245581658957e-06\n"
     ]
    },
    {
     "data": {
      "text/plain": [
       "2.3276361496110884e-11"
      ]
     },
     "execution_count": 64,
     "metadata": {},
     "output_type": "execute_result"
    }
   ],
   "source": [
    "from sklearn.metrics import mean_squared_error\n",
    "from statsmodels.tools.eval_measures import rmse\n",
    "\n",
    "# Calculate root mean squared error\n",
    "print(rmse(test1, forecast25))\n",
    "  \n",
    "# Calculate mean squared error\n",
    "mean_squared_error(test1, forecast25)\n"
   ]
  },
  {
   "cell_type": "markdown",
   "id": "2873dd83-921e-4120-9956-77ccf6111fb7",
   "metadata": {},
   "source": [
    "# Conclusion"
   ]
  },
  {
   "cell_type": "raw",
   "id": "38121b87-8424-4886-89fe-175ddc211ead",
   "metadata": {},
   "source": [
    "1.In the dataset the value of  'mse': 2.3276361496110884e-11,\n",
    " 'mae': 4.8245581658957e-06,\n",
    " 'rmse': 4.8245581658957e-06\n",
    " is shows which means model has high accuracy and which is properly trained.\n",
    "2.less error is generated.\n",
    "3.This is time seris model in which i used ARIMA to train model."
   ]
  },
  {
   "cell_type": "code",
   "execution_count": null,
   "id": "ee578c6a-fa4c-42a3-9352-51b7c54f41d3",
   "metadata": {},
   "outputs": [],
   "source": []
  }
 ],
 "metadata": {
  "kernelspec": {
   "display_name": "Python 3 (ipykernel)",
   "language": "python",
   "name": "python3"
  },
  "language_info": {
   "codemirror_mode": {
    "name": "ipython",
    "version": 3
   },
   "file_extension": ".py",
   "mimetype": "text/x-python",
   "name": "python",
   "nbconvert_exporter": "python",
   "pygments_lexer": "ipython3",
   "version": "3.12.4"
  },
  "widgets": {
   "application/vnd.jupyter.widget-state+json": {
    "state": {},
    "version_major": 2,
    "version_minor": 0
   }
  }
 },
 "nbformat": 4,
 "nbformat_minor": 5
}

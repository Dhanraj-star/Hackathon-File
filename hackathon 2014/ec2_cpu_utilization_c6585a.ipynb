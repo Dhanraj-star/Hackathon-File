{
 "cells": [
  {
   "cell_type": "code",
   "execution_count": 1,
   "id": "c358c533-af7d-4523-90a9-ad0bbbe6225a",
   "metadata": {},
   "outputs": [],
   "source": [
    "import pandas as pd\n",
    "import numpy as np\n",
    "import matplotlib.pyplot as plt\n",
    "import seaborn as sns\n",
    "#here we load library "
   ]
  },
  {
   "cell_type": "code",
   "execution_count": 7,
   "id": "e0710aa7-429a-4713-a73c-22e75e7af1ce",
   "metadata": {},
   "outputs": [],
   "source": [
    "data=pd.read_csv(\"ec2_cpu_utilization_c6585a.csv\")"
   ]
  },
  {
   "cell_type": "code",
   "execution_count": 9,
   "id": "da65638c-3785-4eae-aa21-ce2bbaf6be74",
   "metadata": {},
   "outputs": [
    {
     "data": {
      "text/html": [
       "<div>\n",
       "<style scoped>\n",
       "    .dataframe tbody tr th:only-of-type {\n",
       "        vertical-align: middle;\n",
       "    }\n",
       "\n",
       "    .dataframe tbody tr th {\n",
       "        vertical-align: top;\n",
       "    }\n",
       "\n",
       "    .dataframe thead th {\n",
       "        text-align: right;\n",
       "    }\n",
       "</style>\n",
       "<table border=\"1\" class=\"dataframe\">\n",
       "  <thead>\n",
       "    <tr style=\"text-align: right;\">\n",
       "      <th></th>\n",
       "      <th>timestamp</th>\n",
       "      <th>value</th>\n",
       "    </tr>\n",
       "  </thead>\n",
       "  <tbody>\n",
       "    <tr>\n",
       "      <th>0</th>\n",
       "      <td>2014-04-02 14:29:00</td>\n",
       "      <td>0.066</td>\n",
       "    </tr>\n",
       "    <tr>\n",
       "      <th>1</th>\n",
       "      <td>2014-04-02 14:34:00</td>\n",
       "      <td>0.066</td>\n",
       "    </tr>\n",
       "    <tr>\n",
       "      <th>2</th>\n",
       "      <td>2014-04-02 14:39:00</td>\n",
       "      <td>0.068</td>\n",
       "    </tr>\n",
       "    <tr>\n",
       "      <th>3</th>\n",
       "      <td>2014-04-02 14:44:00</td>\n",
       "      <td>0.134</td>\n",
       "    </tr>\n",
       "    <tr>\n",
       "      <th>4</th>\n",
       "      <td>2014-04-02 14:49:00</td>\n",
       "      <td>0.066</td>\n",
       "    </tr>\n",
       "    <tr>\n",
       "      <th>...</th>\n",
       "      <td>...</td>\n",
       "      <td>...</td>\n",
       "    </tr>\n",
       "    <tr>\n",
       "      <th>4027</th>\n",
       "      <td>2014-04-16 14:04:00</td>\n",
       "      <td>0.066</td>\n",
       "    </tr>\n",
       "    <tr>\n",
       "      <th>4028</th>\n",
       "      <td>2014-04-16 14:09:00</td>\n",
       "      <td>0.068</td>\n",
       "    </tr>\n",
       "    <tr>\n",
       "      <th>4029</th>\n",
       "      <td>2014-04-16 14:14:00</td>\n",
       "      <td>0.134</td>\n",
       "    </tr>\n",
       "    <tr>\n",
       "      <th>4030</th>\n",
       "      <td>2014-04-16 14:19:00</td>\n",
       "      <td>0.068</td>\n",
       "    </tr>\n",
       "    <tr>\n",
       "      <th>4031</th>\n",
       "      <td>2014-04-16 14:24:00</td>\n",
       "      <td>0.068</td>\n",
       "    </tr>\n",
       "  </tbody>\n",
       "</table>\n",
       "<p>4032 rows × 2 columns</p>\n",
       "</div>"
      ],
      "text/plain": [
       "                timestamp  value\n",
       "0     2014-04-02 14:29:00  0.066\n",
       "1     2014-04-02 14:34:00  0.066\n",
       "2     2014-04-02 14:39:00  0.068\n",
       "3     2014-04-02 14:44:00  0.134\n",
       "4     2014-04-02 14:49:00  0.066\n",
       "...                   ...    ...\n",
       "4027  2014-04-16 14:04:00  0.066\n",
       "4028  2014-04-16 14:09:00  0.068\n",
       "4029  2014-04-16 14:14:00  0.134\n",
       "4030  2014-04-16 14:19:00  0.068\n",
       "4031  2014-04-16 14:24:00  0.068\n",
       "\n",
       "[4032 rows x 2 columns]"
      ]
     },
     "execution_count": 9,
     "metadata": {},
     "output_type": "execute_result"
    }
   ],
   "source": [
    "data"
   ]
  },
  {
   "cell_type": "code",
   "execution_count": 11,
   "id": "9c07756a-bebe-42d6-80b0-57a674524486",
   "metadata": {},
   "outputs": [],
   "source": [
    "# Basic check"
   ]
  },
  {
   "cell_type": "code",
   "execution_count": 13,
   "id": "91e59a4f-7c16-4b08-b95d-1c5fff9af1a6",
   "metadata": {},
   "outputs": [
    {
     "data": {
      "text/html": [
       "<div>\n",
       "<style scoped>\n",
       "    .dataframe tbody tr th:only-of-type {\n",
       "        vertical-align: middle;\n",
       "    }\n",
       "\n",
       "    .dataframe tbody tr th {\n",
       "        vertical-align: top;\n",
       "    }\n",
       "\n",
       "    .dataframe thead th {\n",
       "        text-align: right;\n",
       "    }\n",
       "</style>\n",
       "<table border=\"1\" class=\"dataframe\">\n",
       "  <thead>\n",
       "    <tr style=\"text-align: right;\">\n",
       "      <th></th>\n",
       "      <th>timestamp</th>\n",
       "      <th>value</th>\n",
       "    </tr>\n",
       "  </thead>\n",
       "  <tbody>\n",
       "    <tr>\n",
       "      <th>0</th>\n",
       "      <td>2014-04-02 14:29:00</td>\n",
       "      <td>0.066</td>\n",
       "    </tr>\n",
       "    <tr>\n",
       "      <th>1</th>\n",
       "      <td>2014-04-02 14:34:00</td>\n",
       "      <td>0.066</td>\n",
       "    </tr>\n",
       "    <tr>\n",
       "      <th>2</th>\n",
       "      <td>2014-04-02 14:39:00</td>\n",
       "      <td>0.068</td>\n",
       "    </tr>\n",
       "    <tr>\n",
       "      <th>3</th>\n",
       "      <td>2014-04-02 14:44:00</td>\n",
       "      <td>0.134</td>\n",
       "    </tr>\n",
       "    <tr>\n",
       "      <th>4</th>\n",
       "      <td>2014-04-02 14:49:00</td>\n",
       "      <td>0.066</td>\n",
       "    </tr>\n",
       "  </tbody>\n",
       "</table>\n",
       "</div>"
      ],
      "text/plain": [
       "             timestamp  value\n",
       "0  2014-04-02 14:29:00  0.066\n",
       "1  2014-04-02 14:34:00  0.066\n",
       "2  2014-04-02 14:39:00  0.068\n",
       "3  2014-04-02 14:44:00  0.134\n",
       "4  2014-04-02 14:49:00  0.066"
      ]
     },
     "execution_count": 13,
     "metadata": {},
     "output_type": "execute_result"
    }
   ],
   "source": [
    "data.head()#first five rows"
   ]
  },
  {
   "cell_type": "code",
   "execution_count": 15,
   "id": "2f1e2cd9-c873-4804-87d5-5741b4ca20fa",
   "metadata": {},
   "outputs": [
    {
     "data": {
      "text/html": [
       "<div>\n",
       "<style scoped>\n",
       "    .dataframe tbody tr th:only-of-type {\n",
       "        vertical-align: middle;\n",
       "    }\n",
       "\n",
       "    .dataframe tbody tr th {\n",
       "        vertical-align: top;\n",
       "    }\n",
       "\n",
       "    .dataframe thead th {\n",
       "        text-align: right;\n",
       "    }\n",
       "</style>\n",
       "<table border=\"1\" class=\"dataframe\">\n",
       "  <thead>\n",
       "    <tr style=\"text-align: right;\">\n",
       "      <th></th>\n",
       "      <th>timestamp</th>\n",
       "      <th>value</th>\n",
       "    </tr>\n",
       "  </thead>\n",
       "  <tbody>\n",
       "    <tr>\n",
       "      <th>4027</th>\n",
       "      <td>2014-04-16 14:04:00</td>\n",
       "      <td>0.066</td>\n",
       "    </tr>\n",
       "    <tr>\n",
       "      <th>4028</th>\n",
       "      <td>2014-04-16 14:09:00</td>\n",
       "      <td>0.068</td>\n",
       "    </tr>\n",
       "    <tr>\n",
       "      <th>4029</th>\n",
       "      <td>2014-04-16 14:14:00</td>\n",
       "      <td>0.134</td>\n",
       "    </tr>\n",
       "    <tr>\n",
       "      <th>4030</th>\n",
       "      <td>2014-04-16 14:19:00</td>\n",
       "      <td>0.068</td>\n",
       "    </tr>\n",
       "    <tr>\n",
       "      <th>4031</th>\n",
       "      <td>2014-04-16 14:24:00</td>\n",
       "      <td>0.068</td>\n",
       "    </tr>\n",
       "  </tbody>\n",
       "</table>\n",
       "</div>"
      ],
      "text/plain": [
       "                timestamp  value\n",
       "4027  2014-04-16 14:04:00  0.066\n",
       "4028  2014-04-16 14:09:00  0.068\n",
       "4029  2014-04-16 14:14:00  0.134\n",
       "4030  2014-04-16 14:19:00  0.068\n",
       "4031  2014-04-16 14:24:00  0.068"
      ]
     },
     "execution_count": 15,
     "metadata": {},
     "output_type": "execute_result"
    }
   ],
   "source": [
    "data.tail() #last five rows"
   ]
  },
  {
   "cell_type": "code",
   "execution_count": 17,
   "id": "4de3d41f-867d-4338-8c0b-18039151e1df",
   "metadata": {},
   "outputs": [
    {
     "data": {
      "text/html": [
       "<div>\n",
       "<style scoped>\n",
       "    .dataframe tbody tr th:only-of-type {\n",
       "        vertical-align: middle;\n",
       "    }\n",
       "\n",
       "    .dataframe tbody tr th {\n",
       "        vertical-align: top;\n",
       "    }\n",
       "\n",
       "    .dataframe thead th {\n",
       "        text-align: right;\n",
       "    }\n",
       "</style>\n",
       "<table border=\"1\" class=\"dataframe\">\n",
       "  <thead>\n",
       "    <tr style=\"text-align: right;\">\n",
       "      <th></th>\n",
       "      <th>timestamp</th>\n",
       "      <th>value</th>\n",
       "    </tr>\n",
       "  </thead>\n",
       "  <tbody>\n",
       "    <tr>\n",
       "      <th>1195</th>\n",
       "      <td>2014-04-06 18:04:00</td>\n",
       "      <td>0.068</td>\n",
       "    </tr>\n",
       "    <tr>\n",
       "      <th>3625</th>\n",
       "      <td>2014-04-15 04:34:00</td>\n",
       "      <td>0.066</td>\n",
       "    </tr>\n",
       "    <tr>\n",
       "      <th>3775</th>\n",
       "      <td>2014-04-15 17:04:00</td>\n",
       "      <td>0.068</td>\n",
       "    </tr>\n",
       "    <tr>\n",
       "      <th>210</th>\n",
       "      <td>2014-04-03 07:59:00</td>\n",
       "      <td>0.132</td>\n",
       "    </tr>\n",
       "    <tr>\n",
       "      <th>2534</th>\n",
       "      <td>2014-04-11 09:39:00</td>\n",
       "      <td>0.068</td>\n",
       "    </tr>\n",
       "  </tbody>\n",
       "</table>\n",
       "</div>"
      ],
      "text/plain": [
       "                timestamp  value\n",
       "1195  2014-04-06 18:04:00  0.068\n",
       "3625  2014-04-15 04:34:00  0.066\n",
       "3775  2014-04-15 17:04:00  0.068\n",
       "210   2014-04-03 07:59:00  0.132\n",
       "2534  2014-04-11 09:39:00  0.068"
      ]
     },
     "execution_count": 17,
     "metadata": {},
     "output_type": "execute_result"
    }
   ],
   "source": [
    "data.sample(5) #random data used"
   ]
  },
  {
   "cell_type": "code",
   "execution_count": 19,
   "id": "3d7ad62d-ddf4-414a-a244-656e5be942ec",
   "metadata": {},
   "outputs": [
    {
     "name": "stdout",
     "output_type": "stream",
     "text": [
      "<class 'pandas.core.frame.DataFrame'>\n",
      "RangeIndex: 4032 entries, 0 to 4031\n",
      "Data columns (total 2 columns):\n",
      " #   Column     Non-Null Count  Dtype  \n",
      "---  ------     --------------  -----  \n",
      " 0   timestamp  4032 non-null   object \n",
      " 1   value      4032 non-null   float64\n",
      "dtypes: float64(1), object(1)\n",
      "memory usage: 63.1+ KB\n"
     ]
    }
   ],
   "source": [
    "data.info() #infomation of data its object or float"
   ]
  },
  {
   "cell_type": "code",
   "execution_count": 21,
   "id": "6719939a-ef8b-4ff5-b977-e91d6eba0f83",
   "metadata": {},
   "outputs": [
    {
     "data": {
      "text/html": [
       "<div>\n",
       "<style scoped>\n",
       "    .dataframe tbody tr th:only-of-type {\n",
       "        vertical-align: middle;\n",
       "    }\n",
       "\n",
       "    .dataframe tbody tr th {\n",
       "        vertical-align: top;\n",
       "    }\n",
       "\n",
       "    .dataframe thead th {\n",
       "        text-align: right;\n",
       "    }\n",
       "</style>\n",
       "<table border=\"1\" class=\"dataframe\">\n",
       "  <thead>\n",
       "    <tr style=\"text-align: right;\">\n",
       "      <th></th>\n",
       "      <th>value</th>\n",
       "    </tr>\n",
       "  </thead>\n",
       "  <tbody>\n",
       "    <tr>\n",
       "      <th>count</th>\n",
       "      <td>4032.000000</td>\n",
       "    </tr>\n",
       "    <tr>\n",
       "      <th>mean</th>\n",
       "      <td>0.086948</td>\n",
       "    </tr>\n",
       "    <tr>\n",
       "      <th>std</th>\n",
       "      <td>0.085212</td>\n",
       "    </tr>\n",
       "    <tr>\n",
       "      <th>min</th>\n",
       "      <td>0.062000</td>\n",
       "    </tr>\n",
       "    <tr>\n",
       "      <th>25%</th>\n",
       "      <td>0.066000</td>\n",
       "    </tr>\n",
       "    <tr>\n",
       "      <th>50%</th>\n",
       "      <td>0.066000</td>\n",
       "    </tr>\n",
       "    <tr>\n",
       "      <th>75%</th>\n",
       "      <td>0.068000</td>\n",
       "    </tr>\n",
       "    <tr>\n",
       "      <th>max</th>\n",
       "      <td>1.602000</td>\n",
       "    </tr>\n",
       "  </tbody>\n",
       "</table>\n",
       "</div>"
      ],
      "text/plain": [
       "             value\n",
       "count  4032.000000\n",
       "mean      0.086948\n",
       "std       0.085212\n",
       "min       0.062000\n",
       "25%       0.066000\n",
       "50%       0.066000\n",
       "75%       0.068000\n",
       "max       1.602000"
      ]
     },
     "execution_count": 21,
     "metadata": {},
     "output_type": "execute_result"
    }
   ],
   "source": [
    "data.describe()\n",
    "#here we get min ,max ,mean value"
   ]
  },
  {
   "cell_type": "code",
   "execution_count": 23,
   "id": "cc14a15d-1964-400e-8717-6ea5f75836a9",
   "metadata": {},
   "outputs": [
    {
     "data": {
      "text/plain": [
       "timestamp    0\n",
       "value        0\n",
       "dtype: int64"
      ]
     },
     "execution_count": 23,
     "metadata": {},
     "output_type": "execute_result"
    }
   ],
   "source": [
    "data.isnull().sum()\n",
    "#no data is null"
   ]
  },
  {
   "cell_type": "code",
   "execution_count": 25,
   "id": "e25a8af5-717a-4e79-b446-0a8152c190d6",
   "metadata": {},
   "outputs": [],
   "source": [
    "data=pd.read_csv('ec2_cpu_utilization_c6585a.csv',parse_dates=[0],index_col='timestamp')"
   ]
  },
  {
   "cell_type": "code",
   "execution_count": 27,
   "id": "e3c24e78-a63d-41d4-8bb5-3ac675f84fda",
   "metadata": {},
   "outputs": [],
   "source": [
    "# EDA"
   ]
  },
  {
   "cell_type": "code",
   "execution_count": 29,
   "id": "18932983-b28f-4509-a9c0-a4d98c9828ad",
   "metadata": {},
   "outputs": [
    {
     "data": {
      "image/png": "[encoded data removed]",
      "text/plain": [
       "<Figure size 2500x1500 with 1 Axes>"
      ]
     },
     "metadata": {},
     "output_type": "display_data"
    }
   ],
   "source": [
    "import matplotlib.pyplot as plt\n",
    "plt.figure(figsize=(25,15),facecolor='white')#canvas  size\n",
    "plt.plot(data)#line plot \n",
    "plt.tight_layout()"
   ]
  },
  {
   "cell_type": "code",
   "execution_count": 31,
   "id": "5e0e9c78-ec1f-4531-ac68-17162a64d456",
   "metadata": {},
   "outputs": [
    {
     "data": {
      "image/png": "[encoded data removed]",
      "text/plain": [
       "<Figure size 640x480 with 1 Axes>"
      ]
     },
     "execution_count": 31,
     "metadata": {},
     "output_type": "execute_result"
    },
    {
     "data": {
      "image/png": "[encoded data removed]",
      "text/plain": [
       "<Figure size 640x480 with 1 Axes>"
      ]
     },
     "metadata": {},
     "output_type": "display_data"
    }
   ],
   "source": [
    "from statsmodels.graphics.tsaplots import plot_acf\n",
    "plot_acf(data)"
   ]
  },
  {
   "cell_type": "code",
   "execution_count": 33,
   "id": "646a3357-78fa-46f8-808c-1e79fae3ffca",
   "metadata": {},
   "outputs": [],
   "source": [
    "#From the autocorrelation plot, it is clear that given series is not stationary."
   ]
  },
  {
   "cell_type": "code",
   "execution_count": 35,
   "id": "8ce580d7-c62b-4682-9229-35e1e48ef58e",
   "metadata": {},
   "outputs": [],
   "source": [
    "#We can perform the ADfuller test, a test based on hypothesis, where if the p-value is\n",
    "#less than 0.05, then we can consider the time series is stationary, and if the P-value is\n",
    "#greater than 0.05, then the time series is non-stationary."
   ]
  },
  {
   "cell_type": "code",
   "execution_count": 37,
   "id": "5b98290b-4c6d-4fe1-9316-41f53ed096d5",
   "metadata": {},
   "outputs": [
    {
     "name": "stdout",
     "output_type": "stream",
     "text": [
      "1. ADF :  -47.09936870158173\n",
      "2. P-Value :  0.0\n",
      "3. Num Of Lags :  1\n",
      "4. Num Of Observations Used For ADF Regression and Critical Values Calculation : 4030\n",
      "5. Critical Values :\n",
      "\t 1% :  -3.431973689863888\n",
      "\t 5% :  -2.862257457341372\n",
      "\t 10% :  -2.5671519099310998\n"
     ]
    }
   ],
   "source": [
    "# ADfuller Test to check stationarity \n",
    "\n",
    "from statsmodels.tsa.stattools import adfuller\n",
    "dftest = adfuller(data.value, autolag = 'AIC')\n",
    "print(\"1. ADF : \",dftest[0])\n",
    "print(\"2. P-Value : \", dftest[1])\n",
    "print(\"3. Num Of Lags : \", dftest[2])\n",
    "print(\"4. Num Of Observations Used For ADF Regression and Critical Values Calculation :\", dftest[3])\n",
    "print(\"5. Critical Values :\")\n",
    "for key, val in dftest[4].items():print(\"\\t\",key, \": \", val)"
   ]
  },
  {
   "cell_type": "code",
   "execution_count": 39,
   "id": "5564a64b-7d10-48b1-8fde-733cf9b214ff",
   "metadata": {},
   "outputs": [],
   "source": [
    "#P-value is higher for our dataset, and we can say that the evidence of rejecting the null\n",
    "#hypothesis is low; hence the time series is non-stationary."
   ]
  },
  {
   "cell_type": "code",
   "execution_count": 41,
   "id": "0b52d9b7-6e6d-4526-9700-7473df32459b",
   "metadata": {},
   "outputs": [
    {
     "data": {
      "text/html": [
       "<div>\n",
       "<style scoped>\n",
       "    .dataframe tbody tr th:only-of-type {\n",
       "        vertical-align: middle;\n",
       "    }\n",
       "\n",
       "    .dataframe tbody tr th {\n",
       "        vertical-align: top;\n",
       "    }\n",
       "\n",
       "    .dataframe thead th {\n",
       "        text-align: right;\n",
       "    }\n",
       "</style>\n",
       "<table border=\"1\" class=\"dataframe\">\n",
       "  <thead>\n",
       "    <tr style=\"text-align: right;\">\n",
       "      <th></th>\n",
       "      <th>value</th>\n",
       "    </tr>\n",
       "    <tr>\n",
       "      <th>timestamp</th>\n",
       "      <th></th>\n",
       "    </tr>\n",
       "  </thead>\n",
       "  <tbody>\n",
       "    <tr>\n",
       "      <th>2014-04-02 14:29:00</th>\n",
       "      <td>0.066</td>\n",
       "    </tr>\n",
       "    <tr>\n",
       "      <th>2014-04-02 14:34:00</th>\n",
       "      <td>0.066</td>\n",
       "    </tr>\n",
       "    <tr>\n",
       "      <th>2014-04-02 14:39:00</th>\n",
       "      <td>0.068</td>\n",
       "    </tr>\n",
       "    <tr>\n",
       "      <th>2014-04-02 14:44:00</th>\n",
       "      <td>0.134</td>\n",
       "    </tr>\n",
       "    <tr>\n",
       "      <th>2014-04-02 14:49:00</th>\n",
       "      <td>0.066</td>\n",
       "    </tr>\n",
       "    <tr>\n",
       "      <th>...</th>\n",
       "      <td>...</td>\n",
       "    </tr>\n",
       "    <tr>\n",
       "      <th>2014-04-16 14:04:00</th>\n",
       "      <td>0.066</td>\n",
       "    </tr>\n",
       "    <tr>\n",
       "      <th>2014-04-16 14:09:00</th>\n",
       "      <td>0.068</td>\n",
       "    </tr>\n",
       "    <tr>\n",
       "      <th>2014-04-16 14:14:00</th>\n",
       "      <td>0.134</td>\n",
       "    </tr>\n",
       "    <tr>\n",
       "      <th>2014-04-16 14:19:00</th>\n",
       "      <td>0.068</td>\n",
       "    </tr>\n",
       "    <tr>\n",
       "      <th>2014-04-16 14:24:00</th>\n",
       "      <td>0.068</td>\n",
       "    </tr>\n",
       "  </tbody>\n",
       "</table>\n",
       "<p>4032 rows × 1 columns</p>\n",
       "</div>"
      ],
      "text/plain": [
       "                     value\n",
       "timestamp                 \n",
       "2014-04-02 14:29:00  0.066\n",
       "2014-04-02 14:34:00  0.066\n",
       "2014-04-02 14:39:00  0.068\n",
       "2014-04-02 14:44:00  0.134\n",
       "2014-04-02 14:49:00  0.066\n",
       "...                    ...\n",
       "2014-04-16 14:04:00  0.066\n",
       "2014-04-16 14:09:00  0.068\n",
       "2014-04-16 14:14:00  0.134\n",
       "2014-04-16 14:19:00  0.068\n",
       "2014-04-16 14:24:00  0.068\n",
       "\n",
       "[4032 rows x 1 columns]"
      ]
     },
     "execution_count": 41,
     "metadata": {},
     "output_type": "execute_result"
    }
   ],
   "source": [
    "data"
   ]
  },
  {
   "cell_type": "code",
   "execution_count": 43,
   "id": "30174439-826f-40ca-80b1-e8773e3d3777",
   "metadata": {},
   "outputs": [],
   "source": [
    "## making it stationary by taking difference of 1\n",
    "data1=data.diff(periods=1) #This means calculating the change in your row(s)/column(s) over a set number of periods. Or simply, \n",
    "#pandas diff will subtract 1 cell value from another cell value within the same index."
   ]
  },
  {
   "cell_type": "code",
   "execution_count": 45,
   "id": "503bbcd8-fa96-4a53-87d7-c54b5cd48ee5",
   "metadata": {},
   "outputs": [
    {
     "data": {
      "text/html": [
       "<div>\n",
       "<style scoped>\n",
       "    .dataframe tbody tr th:only-of-type {\n",
       "        vertical-align: middle;\n",
       "    }\n",
       "\n",
       "    .dataframe tbody tr th {\n",
       "        vertical-align: top;\n",
       "    }\n",
       "\n",
       "    .dataframe thead th {\n",
       "        text-align: right;\n",
       "    }\n",
       "</style>\n",
       "<table border=\"1\" class=\"dataframe\">\n",
       "  <thead>\n",
       "    <tr style=\"text-align: right;\">\n",
       "      <th></th>\n",
       "      <th>value</th>\n",
       "    </tr>\n",
       "    <tr>\n",
       "      <th>timestamp</th>\n",
       "      <th></th>\n",
       "    </tr>\n",
       "  </thead>\n",
       "  <tbody>\n",
       "    <tr>\n",
       "      <th>2014-04-02 14:29:00</th>\n",
       "      <td>NaN</td>\n",
       "    </tr>\n",
       "    <tr>\n",
       "      <th>2014-04-02 14:34:00</th>\n",
       "      <td>0.000</td>\n",
       "    </tr>\n",
       "    <tr>\n",
       "      <th>2014-04-02 14:39:00</th>\n",
       "      <td>0.002</td>\n",
       "    </tr>\n",
       "    <tr>\n",
       "      <th>2014-04-02 14:44:00</th>\n",
       "      <td>0.066</td>\n",
       "    </tr>\n",
       "    <tr>\n",
       "      <th>2014-04-02 14:49:00</th>\n",
       "      <td>-0.068</td>\n",
       "    </tr>\n",
       "    <tr>\n",
       "      <th>...</th>\n",
       "      <td>...</td>\n",
       "    </tr>\n",
       "    <tr>\n",
       "      <th>2014-04-16 14:04:00</th>\n",
       "      <td>-0.068</td>\n",
       "    </tr>\n",
       "    <tr>\n",
       "      <th>2014-04-16 14:09:00</th>\n",
       "      <td>0.002</td>\n",
       "    </tr>\n",
       "    <tr>\n",
       "      <th>2014-04-16 14:14:00</th>\n",
       "      <td>0.066</td>\n",
       "    </tr>\n",
       "    <tr>\n",
       "      <th>2014-04-16 14:19:00</th>\n",
       "      <td>-0.066</td>\n",
       "    </tr>\n",
       "    <tr>\n",
       "      <th>2014-04-16 14:24:00</th>\n",
       "      <td>0.000</td>\n",
       "    </tr>\n",
       "  </tbody>\n",
       "</table>\n",
       "<p>4032 rows × 1 columns</p>\n",
       "</div>"
      ],
      "text/plain": [
       "                     value\n",
       "timestamp                 \n",
       "2014-04-02 14:29:00    NaN\n",
       "2014-04-02 14:34:00  0.000\n",
       "2014-04-02 14:39:00  0.002\n",
       "2014-04-02 14:44:00  0.066\n",
       "2014-04-02 14:49:00 -0.068\n",
       "...                    ...\n",
       "2014-04-16 14:04:00 -0.068\n",
       "2014-04-16 14:09:00  0.002\n",
       "2014-04-16 14:14:00  0.066\n",
       "2014-04-16 14:19:00 -0.066\n",
       "2014-04-16 14:24:00  0.000\n",
       "\n",
       "[4032 rows x 1 columns]"
      ]
     },
     "execution_count": 45,
     "metadata": {},
     "output_type": "execute_result"
    }
   ],
   "source": [
    "data1 # Series integrated to the order of 1"
   ]
  },
  {
   "cell_type": "code",
   "execution_count": 47,
   "id": "dbd53e6b-65be-49bd-9e5d-1434fc4f64b5",
   "metadata": {},
   "outputs": [],
   "source": [
    "## making it stationary by taking difference of 1\n",
    "data1=data.diff(periods=1) #This means calculating the change in your row(s)/column(s) over a set number of periods. Or simply, \n",
    "#pandas diff will subtract 1 cell value from another cell value within the same index."
   ]
  },
  {
   "cell_type": "code",
   "execution_count": 49,
   "id": "c107be94-7f04-49d8-968a-4ed37d6d3f6f",
   "metadata": {},
   "outputs": [
    {
     "data": {
      "text/html": [
       "<div>\n",
       "<style scoped>\n",
       "    .dataframe tbody tr th:only-of-type {\n",
       "        vertical-align: middle;\n",
       "    }\n",
       "\n",
       "    .dataframe tbody tr th {\n",
       "        vertical-align: top;\n",
       "    }\n",
       "\n",
       "    .dataframe thead th {\n",
       "        text-align: right;\n",
       "    }\n",
       "</style>\n",
       "<table border=\"1\" class=\"dataframe\">\n",
       "  <thead>\n",
       "    <tr style=\"text-align: right;\">\n",
       "      <th></th>\n",
       "      <th>value</th>\n",
       "    </tr>\n",
       "    <tr>\n",
       "      <th>timestamp</th>\n",
       "      <th></th>\n",
       "    </tr>\n",
       "  </thead>\n",
       "  <tbody>\n",
       "    <tr>\n",
       "      <th>2014-04-02 14:29:00</th>\n",
       "      <td>NaN</td>\n",
       "    </tr>\n",
       "    <tr>\n",
       "      <th>2014-04-02 14:34:00</th>\n",
       "      <td>0.000</td>\n",
       "    </tr>\n",
       "    <tr>\n",
       "      <th>2014-04-02 14:39:00</th>\n",
       "      <td>0.002</td>\n",
       "    </tr>\n",
       "    <tr>\n",
       "      <th>2014-04-02 14:44:00</th>\n",
       "      <td>0.066</td>\n",
       "    </tr>\n",
       "    <tr>\n",
       "      <th>2014-04-02 14:49:00</th>\n",
       "      <td>-0.068</td>\n",
       "    </tr>\n",
       "    <tr>\n",
       "      <th>...</th>\n",
       "      <td>...</td>\n",
       "    </tr>\n",
       "    <tr>\n",
       "      <th>2014-04-16 14:04:00</th>\n",
       "      <td>-0.068</td>\n",
       "    </tr>\n",
       "    <tr>\n",
       "      <th>2014-04-16 14:09:00</th>\n",
       "      <td>0.002</td>\n",
       "    </tr>\n",
       "    <tr>\n",
       "      <th>2014-04-16 14:14:00</th>\n",
       "      <td>0.066</td>\n",
       "    </tr>\n",
       "    <tr>\n",
       "      <th>2014-04-16 14:19:00</th>\n",
       "      <td>-0.066</td>\n",
       "    </tr>\n",
       "    <tr>\n",
       "      <th>2014-04-16 14:24:00</th>\n",
       "      <td>0.000</td>\n",
       "    </tr>\n",
       "  </tbody>\n",
       "</table>\n",
       "<p>4032 rows × 1 columns</p>\n",
       "</div>"
      ],
      "text/plain": [
       "                     value\n",
       "timestamp                 \n",
       "2014-04-02 14:29:00    NaN\n",
       "2014-04-02 14:34:00  0.000\n",
       "2014-04-02 14:39:00  0.002\n",
       "2014-04-02 14:44:00  0.066\n",
       "2014-04-02 14:49:00 -0.068\n",
       "...                    ...\n",
       "2014-04-16 14:04:00 -0.068\n",
       "2014-04-16 14:09:00  0.002\n",
       "2014-04-16 14:14:00  0.066\n",
       "2014-04-16 14:19:00 -0.066\n",
       "2014-04-16 14:24:00  0.000\n",
       "\n",
       "[4032 rows x 1 columns]"
      ]
     },
     "execution_count": 49,
     "metadata": {},
     "output_type": "execute_result"
    }
   ],
   "source": [
    "data1 # Series integrated to the order of 1"
   ]
  },
  {
   "cell_type": "code",
   "execution_count": 51,
   "id": "7fd54d08-e494-486e-96fc-fdd89f2f421c",
   "metadata": {},
   "outputs": [
    {
     "data": {
      "text/html": [
       "<div>\n",
       "<style scoped>\n",
       "    .dataframe tbody tr th:only-of-type {\n",
       "        vertical-align: middle;\n",
       "    }\n",
       "\n",
       "    .dataframe tbody tr th {\n",
       "        vertical-align: top;\n",
       "    }\n",
       "\n",
       "    .dataframe thead th {\n",
       "        text-align: right;\n",
       "    }\n",
       "</style>\n",
       "<table border=\"1\" class=\"dataframe\">\n",
       "  <thead>\n",
       "    <tr style=\"text-align: right;\">\n",
       "      <th></th>\n",
       "      <th>value</th>\n",
       "    </tr>\n",
       "    <tr>\n",
       "      <th>timestamp</th>\n",
       "      <th></th>\n",
       "    </tr>\n",
       "  </thead>\n",
       "  <tbody>\n",
       "    <tr>\n",
       "      <th>2014-04-02 14:34:00</th>\n",
       "      <td>0.000</td>\n",
       "    </tr>\n",
       "    <tr>\n",
       "      <th>2014-04-02 14:39:00</th>\n",
       "      <td>0.002</td>\n",
       "    </tr>\n",
       "    <tr>\n",
       "      <th>2014-04-02 14:44:00</th>\n",
       "      <td>0.066</td>\n",
       "    </tr>\n",
       "    <tr>\n",
       "      <th>2014-04-02 14:49:00</th>\n",
       "      <td>-0.068</td>\n",
       "    </tr>\n",
       "    <tr>\n",
       "      <th>2014-04-02 14:54:00</th>\n",
       "      <td>0.000</td>\n",
       "    </tr>\n",
       "    <tr>\n",
       "      <th>...</th>\n",
       "      <td>...</td>\n",
       "    </tr>\n",
       "    <tr>\n",
       "      <th>2014-04-16 14:04:00</th>\n",
       "      <td>-0.068</td>\n",
       "    </tr>\n",
       "    <tr>\n",
       "      <th>2014-04-16 14:09:00</th>\n",
       "      <td>0.002</td>\n",
       "    </tr>\n",
       "    <tr>\n",
       "      <th>2014-04-16 14:14:00</th>\n",
       "      <td>0.066</td>\n",
       "    </tr>\n",
       "    <tr>\n",
       "      <th>2014-04-16 14:19:00</th>\n",
       "      <td>-0.066</td>\n",
       "    </tr>\n",
       "    <tr>\n",
       "      <th>2014-04-16 14:24:00</th>\n",
       "      <td>0.000</td>\n",
       "    </tr>\n",
       "  </tbody>\n",
       "</table>\n",
       "<p>4031 rows × 1 columns</p>\n",
       "</div>"
      ],
      "text/plain": [
       "                     value\n",
       "timestamp                 \n",
       "2014-04-02 14:34:00  0.000\n",
       "2014-04-02 14:39:00  0.002\n",
       "2014-04-02 14:44:00  0.066\n",
       "2014-04-02 14:49:00 -0.068\n",
       "2014-04-02 14:54:00  0.000\n",
       "...                    ...\n",
       "2014-04-16 14:04:00 -0.068\n",
       "2014-04-16 14:09:00  0.002\n",
       "2014-04-16 14:14:00  0.066\n",
       "2014-04-16 14:19:00 -0.066\n",
       "2014-04-16 14:24:00  0.000\n",
       "\n",
       "[4031 rows x 1 columns]"
      ]
     },
     "execution_count": 51,
     "metadata": {},
     "output_type": "execute_result"
    }
   ],
   "source": [
    "data1=data1.iloc[1:] #null value discarded\n",
    "data1"
   ]
  },
  {
   "cell_type": "code",
   "execution_count": 53,
   "id": "dee7f3be-83e8-49c2-b1b7-0ad7464768ab",
   "metadata": {},
   "outputs": [
    {
     "data": {
      "image/png": "[encoded data removed]",
      "text/plain": [
       "<Figure size 640x480 with 1 Axes>"
      ]
     },
     "metadata": {},
     "output_type": "display_data"
    }
   ],
   "source": [
    "plot_acf(data1); # autocorrelation plot "
   ]
  },
  {
   "cell_type": "code",
   "execution_count": 55,
   "id": "e76d71ab-2d18-4a23-a5f3-15fd744c7f25",
   "metadata": {},
   "outputs": [],
   "source": [
    "data2=data1.diff(periods=1) # differencing applied to data1"
   ]
  },
  {
   "cell_type": "code",
   "execution_count": 57,
   "id": "1d638949-8d54-4065-af8f-8cb3a65c5d49",
   "metadata": {},
   "outputs": [],
   "source": [
    "data2=data2.iloc[1:] # integrated to the order of 2"
   ]
  },
  {
   "cell_type": "code",
   "execution_count": 59,
   "id": "d8dc5414-aaad-408a-a7c9-ce80136314cb",
   "metadata": {},
   "outputs": [
    {
     "data": {
      "image/png": "[encoded data removed]",
      "text/plain": [
       "<Figure size 640x480 with 1 Axes>"
      ]
     },
     "metadata": {},
     "output_type": "display_data"
    }
   ],
   "source": [
    "plot_acf(data2);"
   ]
  },
  {
   "cell_type": "code",
   "execution_count": 61,
   "id": "aad8f09b-5e74-459e-b6ab-3fd59db5765b",
   "metadata": {},
   "outputs": [
    {
     "data": {
      "text/plain": [
       "(4030, 1)"
      ]
     },
     "execution_count": 61,
     "metadata": {},
     "output_type": "execute_result"
    }
   ],
   "source": [
    "data2.shape#shape of the data rows and columns"
   ]
  },
  {
   "cell_type": "code",
   "execution_count": 63,
   "id": "c09276ae-ac91-492c-849c-206269989fcf",
   "metadata": {},
   "outputs": [],
   "source": [
    "## Creating training and test sets\n",
    "train=data2[:100] #from 0th row to 99th row - traning data\n",
    "test=data2[100:] #from 100th row to end - testing data"
   ]
  },
  {
   "cell_type": "code",
   "execution_count": 65,
   "id": "b9e87df7-e479-47b0-a665-dae6a1b31326",
   "metadata": {},
   "outputs": [
    {
     "name": "stdout",
     "output_type": "stream",
     "text": [
      "<class 'pandas.core.frame.DataFrame'>\n",
      "DatetimeIndex: 3930 entries, 2014-04-02 22:59:00 to 2014-04-16 14:24:00\n",
      "Data columns (total 1 columns):\n",
      " #   Column  Non-Null Count  Dtype  \n",
      "---  ------  --------------  -----  \n",
      " 0   value   3930 non-null   float64\n",
      "dtypes: float64(1)\n",
      "memory usage: 61.4 KB\n"
     ]
    }
   ],
   "source": [
    "test.info()#info about datatype and null value"
   ]
  },
  {
   "cell_type": "code",
   "execution_count": 67,
   "id": "b0d159fd-4188-4bbd-b606-83e24023cdb1",
   "metadata": {},
   "outputs": [],
   "source": [
    "## Applying autoregressive model\n",
    "#from statsmodels.tsa.ar_model import AR\n",
    "##from statsmodels.tsa.ar_model import AutoReg\n",
    "\n",
    "from statsmodels.tsa.ar_model import AutoReg\n",
    "import warnings\n",
    "warnings.filterwarnings('ignore')"
   ]
  },
  {
   "cell_type": "code",
   "execution_count": 69,
   "id": "a6238a04-fa77-446c-a63f-ae003218e218",
   "metadata": {},
   "outputs": [
    {
     "data": {
      "text/plain": [
       "[1, 2, 3, 4, 5, 6, 7, 8, 9, 10, 11, 12, 13, 14, 15]"
      ]
     },
     "execution_count": 69,
     "metadata": {},
     "output_type": "execute_result"
    }
   ],
   "source": [
    "\n",
    "#ar_select_order : gives the best lags ordered as an array\n",
    "\n",
    "# to select the optimal values for lags\n",
    "from statsmodels.tsa.ar_model import ar_select_order\n",
    "mod = ar_select_order(data1,maxlag=15,glob=True)\n",
    "mod.ar_lags\n",
    "\n",
    "# select_order: selects the best number of lags\n",
    "# maxlag: The maximum lag to consider\n",
    "# glob: global search across all combinations of lags"
   ]
  },
  {
   "cell_type": "code",
   "execution_count": 79,
   "id": "d0149ccd-f848-4302-83ed-aab7b051ad83",
   "metadata": {},
   "outputs": [],
   "source": [
    "## model creation\n",
    "ar_model=AutoReg(train,lags=[1, 2, 3, 4, 5, 6, 7, 8, 9, 10, 11, 12, 13, 14, 15]) ## object creation with lags specified\n",
    "ar_model_fit=ar_model.fit() #training the model"
   ]
  },
  {
   "cell_type": "code",
   "execution_count": 81,
   "id": "b968f733-0242-458c-9ffe-4a671b725e39",
   "metadata": {},
   "outputs": [],
   "source": [
    "##making prediction\n",
    "prediction=ar_model_fit.predict(start=100,end=142)"
   ]
  },
  {
   "cell_type": "code",
   "execution_count": 83,
   "id": "3e69d3f5-576d-4b0f-9125-6e776df09a01",
   "metadata": {},
   "outputs": [
    {
     "data": {
      "text/plain": [
       "[<matplotlib.lines.Line2D at 0x20b30dd1be0>]"
      ]
     },
     "execution_count": 83,
     "metadata": {},
     "output_type": "execute_result"
    },
    {
     "data": {
      "image/png": "[encoded data removed]",
      "text/plain": [
       "<Figure size 640x480 with 1 Axes>"
      ]
     },
     "metadata": {},
     "output_type": "display_data"
    }
   ],
   "source": [
    "plt.plot(test)\n",
    "plt.plot(prediction,color='green') #graph of test vs prediction"
   ]
  },
  {
   "cell_type": "code",
   "execution_count": 85,
   "id": "1ce28009-fdb7-46f2-8cfd-84ac7ce7cfbe",
   "metadata": {},
   "outputs": [],
   "source": [
    "## ARIMA Model"
   ]
  },
  {
   "cell_type": "code",
   "execution_count": 87,
   "id": "2d9daaf0-1703-4267-a032-fcd4e2f0fc74",
   "metadata": {},
   "outputs": [],
   "source": [
    "## importing the library\n",
    "from statsmodels.tsa.arima.model import ARIMA"
   ]
  },
  {
   "cell_type": "code",
   "execution_count": 89,
   "id": "02eaba7f-b5f8-4d1d-9244-4f8ccb40de52",
   "metadata": {},
   "outputs": [],
   "source": [
    "##Model object creation and fitting the model\n",
    "model_arima = ARIMA(train, order=(1,1,0))#order= p,d,q\n",
    "\n",
    "model_arima_fit = model_arima.fit()#training"
   ]
  },
  {
   "cell_type": "code",
   "execution_count": 91,
   "id": "98fd5d98-0f27-428d-ae0b-0ce54c05f12e",
   "metadata": {},
   "outputs": [
    {
     "name": "stdout",
     "output_type": "stream",
     "text": [
      "-157.07095771155426\n"
     ]
    }
   ],
   "source": [
    "## evaluate the model\n",
    "print(model_arima_fit.aic)"
   ]
  },
  {
   "cell_type": "code",
   "execution_count": 93,
   "id": "77ba4ff2-756a-4510-84e9-389013dfac45",
   "metadata": {},
   "outputs": [],
   "source": [
    "## predicting the output of sample points\n",
    "# predictions = model_arima_fit.forecast(steps=9)\n",
    "prediction=model_arima_fit.predict(start=1,end=142)"
   ]
  },
  {
   "cell_type": "code",
   "execution_count": 95,
   "id": "a494b8f7-87b2-4476-b5c5-7f0fc165962e",
   "metadata": {},
   "outputs": [
    {
     "data": {
      "text/plain": [
       "2014-04-02 14:44:00    0.002000\n",
       "2014-04-02 14:49:00    0.016801\n",
       "2014-04-02 14:54:00    0.016731\n",
       "2014-04-02 14:59:00   -0.085776\n",
       "2014-04-02 15:04:00    0.068000\n",
       "                         ...   \n",
       "2014-04-03 02:09:00   -0.021583\n",
       "2014-04-03 02:14:00   -0.021579\n",
       "2014-04-03 02:19:00   -0.021582\n",
       "2014-04-03 02:24:00   -0.021580\n",
       "2014-04-03 02:29:00   -0.021582\n",
       "Freq: 5min, Name: predicted_mean, Length: 142, dtype: float64"
      ]
     },
     "execution_count": 95,
     "metadata": {},
     "output_type": "execute_result"
    }
   ],
   "source": [
    "prediction"
   ]
  },
  {
   "cell_type": "code",
   "execution_count": 97,
   "id": "ffcfc2de-f766-4fad-8324-fccffb7ff798",
   "metadata": {},
   "outputs": [
    {
     "data": {
      "text/plain": [
       "[<matplotlib.lines.Line2D at 0x20b345b6bd0>]"
      ]
     },
     "execution_count": 97,
     "metadata": {},
     "output_type": "execute_result"
    },
    {
     "data": {
      "image/png": "[encoded data removed]",
      "text/plain": [
       "<Figure size 640x480 with 1 Axes>"
      ]
     },
     "metadata": {},
     "output_type": "display_data"
    }
   ],
   "source": [
    "plt.plot(test)\n",
    "plt.plot(prediction,color='green') #graph of test vs prediction"
   ]
  },
  {
   "cell_type": "code",
   "execution_count": 99,
   "id": "d65f16eb-687a-4d71-a28e-240135af7efb",
   "metadata": {},
   "outputs": [
    {
     "data": {
      "text/plain": [
       "[(0, 0, 0),\n",
       " (0, 0, 1),\n",
       " (0, 0, 2),\n",
       " (0, 0, 3),\n",
       " (0, 0, 4),\n",
       " (0, 1, 0),\n",
       " (0, 1, 1),\n",
       " (0, 1, 2),\n",
       " (0, 1, 3),\n",
       " (0, 1, 4),\n",
       " (0, 2, 0),\n",
       " (0, 2, 1),\n",
       " (0, 2, 2),\n",
       " (0, 2, 3),\n",
       " (0, 2, 4),\n",
       " (0, 3, 0),\n",
       " (0, 3, 1),\n",
       " (0, 3, 2),\n",
       " (0, 3, 3),\n",
       " (0, 3, 4),\n",
       " (0, 4, 0),\n",
       " (0, 4, 1),\n",
       " (0, 4, 2),\n",
       " (0, 4, 3),\n",
       " (0, 4, 4),\n",
       " (1, 0, 0),\n",
       " (1, 0, 1),\n",
       " (1, 0, 2),\n",
       " (1, 0, 3),\n",
       " (1, 0, 4),\n",
       " (1, 1, 0),\n",
       " (1, 1, 1),\n",
       " (1, 1, 2),\n",
       " (1, 1, 3),\n",
       " (1, 1, 4),\n",
       " (1, 2, 0),\n",
       " (1, 2, 1),\n",
       " (1, 2, 2),\n",
       " (1, 2, 3),\n",
       " (1, 2, 4),\n",
       " (1, 3, 0),\n",
       " (1, 3, 1),\n",
       " (1, 3, 2),\n",
       " (1, 3, 3),\n",
       " (1, 3, 4),\n",
       " (1, 4, 0),\n",
       " (1, 4, 1),\n",
       " (1, 4, 2),\n",
       " (1, 4, 3),\n",
       " (1, 4, 4),\n",
       " (2, 0, 0),\n",
       " (2, 0, 1),\n",
       " (2, 0, 2),\n",
       " (2, 0, 3),\n",
       " (2, 0, 4),\n",
       " (2, 1, 0),\n",
       " (2, 1, 1),\n",
       " (2, 1, 2),\n",
       " (2, 1, 3),\n",
       " (2, 1, 4),\n",
       " (2, 2, 0),\n",
       " (2, 2, 1),\n",
       " (2, 2, 2),\n",
       " (2, 2, 3),\n",
       " (2, 2, 4),\n",
       " (2, 3, 0),\n",
       " (2, 3, 1),\n",
       " (2, 3, 2),\n",
       " (2, 3, 3),\n",
       " (2, 3, 4),\n",
       " (2, 4, 0),\n",
       " (2, 4, 1),\n",
       " (2, 4, 2),\n",
       " (2, 4, 3),\n",
       " (2, 4, 4),\n",
       " (3, 0, 0),\n",
       " (3, 0, 1),\n",
       " (3, 0, 2),\n",
       " (3, 0, 3),\n",
       " (3, 0, 4),\n",
       " (3, 1, 0),\n",
       " (3, 1, 1),\n",
       " (3, 1, 2),\n",
       " (3, 1, 3),\n",
       " (3, 1, 4),\n",
       " (3, 2, 0),\n",
       " (3, 2, 1),\n",
       " (3, 2, 2),\n",
       " (3, 2, 3),\n",
       " (3, 2, 4),\n",
       " (3, 3, 0),\n",
       " (3, 3, 1),\n",
       " (3, 3, 2),\n",
       " (3, 3, 3),\n",
       " (3, 3, 4),\n",
       " (3, 4, 0),\n",
       " (3, 4, 1),\n",
       " (3, 4, 2),\n",
       " (3, 4, 3),\n",
       " (3, 4, 4),\n",
       " (4, 0, 0),\n",
       " (4, 0, 1),\n",
       " (4, 0, 2),\n",
       " (4, 0, 3),\n",
       " (4, 0, 4),\n",
       " (4, 1, 0),\n",
       " (4, 1, 1),\n",
       " (4, 1, 2),\n",
       " (4, 1, 3),\n",
       " (4, 1, 4),\n",
       " (4, 2, 0),\n",
       " (4, 2, 1),\n",
       " (4, 2, 2),\n",
       " (4, 2, 3),\n",
       " (4, 2, 4),\n",
       " (4, 3, 0),\n",
       " (4, 3, 1),\n",
       " (4, 3, 2),\n",
       " (4, 3, 3),\n",
       " (4, 3, 4),\n",
       " (4, 4, 0),\n",
       " (4, 4, 1),\n",
       " (4, 4, 2),\n",
       " (4, 4, 3),\n",
       " (4, 4, 4)]"
      ]
     },
     "execution_count": 99,
     "metadata": {},
     "output_type": "execute_result"
    }
   ],
   "source": [
    "## Geeting the optimal values of p,q an d\n",
    "import itertools\n",
    "\n",
    "p =d= q=range(0,5)#values of p,d,q range from 0 to 4\n",
    "\n",
    "pdq = list(itertools.product(p,d,q))\n",
    "# is used to find the cartesian product from the given iterator, output is lexicographic ordered.\n",
    "pdq #number of combinaton of pdq"
   ]
  },
  {
   "cell_type": "code",
   "execution_count": 101,
   "id": "0e105195-d19c-410a-b268-6e11e37d73eb",
   "metadata": {},
   "outputs": [
    {
     "name": "stdout",
     "output_type": "stream",
     "text": [
      "(0, 0, 0) -194.3267471714529\n",
      "(0, 0, 1) -301.050451352055\n",
      "(0, 0, 2) -387.173112783368\n",
      "(0, 0, 3) -391.5270331217264\n",
      "(0, 0, 4) -382.70725157395367\n",
      "(0, 1, 0) -73.59595779235363\n",
      "(0, 1, 1) -186.743325232002\n",
      "(0, 1, 2) -288.1253445343227\n",
      "(0, 1, 3) -367.87420856287616\n",
      "(0, 1, 4) -384.98666449104616\n",
      "(0, 2, 0) 50.867119487533664\n",
      "(0, 2, 1) -65.24255157849872\n",
      "(0, 2, 2) -173.31088307346204\n",
      "(0, 2, 3) -270.25482340582005\n",
      "(0, 2, 4) -342.4758010016746\n",
      "(0, 3, 0) 175.32649570454595\n",
      "(0, 3, 1) 57.947076100031936\n",
      "(0, 3, 2) -53.220385584288536\n",
      "(0, 3, 3) -156.8458397499149\n",
      "(0, 3, 4) -249.11671687733934\n",
      "(0, 4, 0) 298.9745539195801\n",
      "(0, 4, 1) 181.1035620275576\n",
      "(0, 4, 2) 68.66806879168522\n",
      "(0, 4, 3) -38.03163019560077\n",
      "(0, 4, 4) -137.25555753075832\n",
      "(1, 0, 0) -253.8762152093973\n",
      "(1, 0, 1) -309.35349233820284\n",
      "(1, 0, 2) -310.6239020647101\n",
      "(1, 0, 3) -381.14848436314566\n",
      "(1, 0, 4) -399.744631998547\n",
      "(1, 1, 0) -157.07095771155426\n",
      "(1, 1, 1) -244.6437026879717\n",
      "(1, 1, 2) -320.11573067699373\n",
      "(1, 1, 3) -374.7173747629509\n",
      "(1, 1, 4) -363.6835552326651\n",
      "(1, 2, 0) -53.726962988456854\n",
      "(1, 2, 1) -146.72921740590562\n",
      "(1, 2, 2) -229.41216014355328\n",
      "(1, 2, 3) -258.3364499309714\n",
      "(1, 2, 4) -266.23882507795264\n",
      "(1, 3, 0) 53.11221956539363\n",
      "(1, 3, 1) -44.36647120174271\n",
      "(1, 3, 2) -132.46814891936845\n",
      "(1, 3, 3) -210.6863644478971\n",
      "(1, 3, 4) -152.67305661650104\n",
      "(1, 4, 0) 162.61570897512584\n",
      "(1, 4, 1) 61.41632063347914\n",
      "(1, 4, 2) -30.826084108135547\n",
      "(1, 4, 3) -114.8382263568873\n",
      "(1, 4, 4) -187.9973565091572\n",
      "(2, 0, 0) -279.2544274745714\n",
      "(2, 0, 1) -352.89419319455146\n",
      "(2, 0, 2) -332.46839658249866\n",
      "(2, 0, 3) -384.22283536709085\n",
      "(2, 0, 4) -382.28176215016373\n",
      "(2, 1, 0) -189.41517375058396\n",
      "(2, 1, 1) -268.9455624653313\n",
      "(2, 1, 2) -337.664306576942\n",
      "(2, 1, 3) -316.70226942168915\n",
      "(2, 1, 4) -310.0011538273628\n",
      "(2, 2, 0) -95.13486942279043\n",
      "(2, 2, 1) -177.8569131977453\n",
      "(2, 2, 2) -252.52003871685628\n",
      "(2, 2, 3) -226.7395993120023\n",
      "(2, 2, 4) -292.8911861019825\n",
      "(2, 3, 0) 0.2347671279986958\n",
      "(2, 3, 1) -84.38510590121373\n",
      "(2, 3, 2) -162.30090397930772\n",
      "(2, 3, 3) -232.56116756299073\n",
      "(2, 3, 4) -207.28826881820467\n",
      "(2, 4, 0) 95.9274698399352\n",
      "(2, 4, 1) 10.1152721607752\n",
      "(2, 4, 2) -69.70873569301014\n",
      "(2, 4, 3) -143.25459001274845\n",
      "(2, 4, 4) -111.7074497717146\n",
      "(3, 0, 0) -316.5265378734793\n",
      "(3, 0, 1) -380.63124232753324\n",
      "(3, 0, 2) -348.3954108709571\n",
      "(3, 0, 3) -368.5467018154908\n",
      "(3, 0, 4) -370.7754102040996\n",
      "(3, 1, 0) -227.1538549907966\n",
      "(3, 1, 1) -304.92144319253663\n",
      "(3, 1, 2) -352.7067049163587\n",
      "(3, 1, 3) -339.23164335832604\n",
      "(3, 1, 4) -314.81099441438334\n",
      "(3, 2, 0) -132.76583478606142\n",
      "(3, 2, 1) -214.27072431785894\n",
      "(3, 2, 2) -286.9537016775732\n",
      "(3, 2, 3) -327.33797986850584\n",
      "(3, 2, 4) -307.9618959509322\n",
      "(3, 3, 0) -37.46695115322773\n",
      "(3, 3, 1) -120.68413468030036\n",
      "(3, 3, 2) -196.77355253839283\n",
      "(3, 3, 3) -254.88115048662297\n",
      "(3, 3, 4) -228.51008947348626\n",
      "(3, 4, 0) 57.444902251007534\n",
      "(3, 4, 1) -26.202354363292642\n",
      "(3, 4, 2) -103.43402336982933\n",
      "(3, 4, 3) -167.8565388366266\n",
      "(3, 4, 4) -139.26857453317473\n",
      "(4, 0, 0) -346.0981227929197\n",
      "(4, 0, 1) -385.50280620885883\n",
      "(4, 0, 2) -378.0363633109256\n",
      "(4, 0, 3) -365.75596720266606\n",
      "(4, 0, 4) -365.91682056281394\n",
      "(4, 1, 0) -270.2205794889\n",
      "(4, 1, 1) -332.71514581371173\n",
      "(4, 1, 2) -373.84964772267375\n",
      "(4, 1, 3) -356.6769395303112\n",
      "(4, 1, 4) -338.0573731952098\n",
      "(4, 2, 0) -181.35243289764605\n",
      "(4, 2, 1) -255.88999278035976\n",
      "(4, 2, 2) -299.0012933472649\n",
      "(4, 2, 3) -339.44511788339\n",
      "(4, 2, 4) -336.1962000652918\n",
      "(4, 3, 0) -86.76006182867584\n",
      "(4, 3, 1) -167.73594674612508\n",
      "(4, 3, 2) -237.21053889954376\n",
      "(4, 3, 3) -281.03974383432063\n",
      "(4, 3, 4) -262.7690219735398\n",
      "(4, 4, 0) 9.84503869412015\n",
      "(4, 4, 1) -73.99505923292374\n",
      "(4, 4, 2) -149.0498684505324\n",
      "(4, 4, 3) -215.11907024889516\n",
      "(4, 4, 4) -174.47717804013644\n"
     ]
    }
   ],
   "source": [
    "#The Python try… except statement catches an exception. It is used to test code for an error which is written in the “try” statement.\n",
    "#If an error is encountered, the contents of the “except” block are run.\n",
    "list1=[]\n",
    "list2=[]\n",
    "for params in pdq: #iterating params over pdq\n",
    "        model_arima = ARIMA(train, order=params)#training model on various pdq values\n",
    "        model_arima_fit = model_arima.fit()#training\n",
    "        print(params, model_arima_fit.aic)#printing parameter and aic values\n",
    "        list1.append(params)\n",
    "        list2.append(model_arima_fit.aic)"
   ]
  },
  {
   "cell_type": "code",
   "execution_count": 102,
   "id": "4ad659fd-cd5b-4777-92f0-d8a40a1405c7",
   "metadata": {},
   "outputs": [
    {
     "data": {
      "text/plain": [
       "-399.744631998547"
      ]
     },
     "execution_count": 102,
     "metadata": {},
     "output_type": "execute_result"
    }
   ],
   "source": [
    "min(list2)  # lowest aic score"
   ]
  },
  {
   "cell_type": "code",
   "execution_count": 103,
   "id": "71225dd9-33d4-429d-bda5-935e489063e2",
   "metadata": {},
   "outputs": [
    {
     "data": {
      "text/plain": [
       "29"
      ]
     },
     "execution_count": 103,
     "metadata": {},
     "output_type": "execute_result"
    }
   ],
   "source": [
    "loc=list2.index(min(list2))\n",
    "loc"
   ]
  },
  {
   "cell_type": "code",
   "execution_count": 104,
   "id": "b2d7c861-e2d5-4966-b575-43f4d4c03cf6",
   "metadata": {},
   "outputs": [
    {
     "data": {
      "text/plain": [
       "(1, 0, 4)"
      ]
     },
     "execution_count": 104,
     "metadata": {},
     "output_type": "execute_result"
    }
   ],
   "source": [
    "# pdq corresponding to lowest aic\n",
    "list1[loc]"
   ]
  },
  {
   "cell_type": "code",
   "execution_count": 109,
   "id": "ea100347-d7c1-4fef-b4a6-fb0a657c43a6",
   "metadata": {},
   "outputs": [],
   "source": [
    "## create the final model with lowest aic score parameter\n",
    "model_arima = ARIMA(train, order=(4, 0, 3))\n",
    "\n",
    "model_arima_fit = model_arima.fit() #training"
   ]
  },
  {
   "cell_type": "code",
   "execution_count": 111,
   "id": "9aa4aa4f-b223-49dc-80e9-f7f22f331e38",
   "metadata": {},
   "outputs": [
    {
     "name": "stdout",
     "output_type": "stream",
     "text": [
      "-365.75596720266606\n"
     ]
    }
   ],
   "source": [
    "print(model_arima_fit.aic) # confirm aic score"
   ]
  },
  {
   "cell_type": "code",
   "execution_count": 113,
   "id": "59832f8a-1c91-4806-b4b0-2d06ba3621ed",
   "metadata": {},
   "outputs": [
    {
     "data": {
      "text/plain": [
       "2014-04-02 22:59:00    0.037295\n",
       "2014-04-02 23:04:00   -0.038460\n",
       "2014-04-02 23:09:00   -0.021411\n",
       "2014-04-02 23:14:00    0.026277\n",
       "2014-04-02 23:19:00    0.029929\n",
       "2014-04-02 23:24:00   -0.055453\n",
       "2014-04-02 23:29:00    0.015891\n",
       "2014-04-02 23:34:00    0.023493\n",
       "2014-04-02 23:39:00   -0.011056\n",
       "Freq: 5min, Name: predicted_mean, dtype: float64"
      ]
     },
     "execution_count": 113,
     "metadata": {},
     "output_type": "execute_result"
    }
   ],
   "source": [
    "forecast = model_arima_fit.forecast(steps=9)\n",
    "forecast"
   ]
  },
  {
   "cell_type": "code",
   "execution_count": 115,
   "id": "d107b60f-361e-48ee-84e4-4867892acf12",
   "metadata": {},
   "outputs": [],
   "source": [
    "prediction=model_arima_fit.predict(start=1,end=142)"
   ]
  },
  {
   "cell_type": "code",
   "execution_count": 119,
   "id": "98debd14-39a8-444d-b5fb-528d2c9dc711",
   "metadata": {},
   "outputs": [
    {
     "data": {
      "text/plain": [
       "[<matplotlib.lines.Line2D at 0x20b34754d10>]"
      ]
     },
     "execution_count": 119,
     "metadata": {},
     "output_type": "execute_result"
    },
    {
     "data": {
      "image/png": "[encoded data removed]",
      "text/plain": [
       "<Figure size 640x480 with 1 Axes>"
      ]
     },
     "metadata": {},
     "output_type": "display_data"
    }
   ],
   "source": [
    "plt.plot(test)\n",
    "plt.plot(prediction,color='green')"
   ]
  },
  {
   "cell_type": "code",
   "execution_count": 121,
   "id": "00ed28a3-c3c1-41b4-8a67-529ddcc8040c",
   "metadata": {},
   "outputs": [
    {
     "data": {
      "text/plain": [
       "[<matplotlib.lines.Line2D at 0x20b347c0fb0>]"
      ]
     },
     "execution_count": 121,
     "metadata": {},
     "output_type": "execute_result"
    },
    {
     "data": {
      "image/png": "[encoded data removed]",
      "text/plain": [
       "<Figure size 640x480 with 1 Axes>"
      ]
     },
     "metadata": {},
     "output_type": "display_data"
    }
   ],
   "source": [
    "# Comparision of actual vs predicted for 9 values\n",
    "plt.plot(test[:9])\n",
    "plt.plot(forecast,color='green')#line plot for prediction"
   ]
  },
  {
   "cell_type": "code",
   "execution_count": 123,
   "id": "0990cb82-1233-48a2-bcf0-0f47acddad14",
   "metadata": {},
   "outputs": [
    {
     "data": {
      "text/plain": [
       "array([ 0.07 , -0.136,  0.068,  0.   ,  0.   ,  0.068, -0.136,  0.068,\n",
       "        0.   ,  0.   ,  0.068, -0.14 ,  0.142, -0.136,  0.068, -0.004,\n",
       "        0.002,  0.068, -0.134,  0.064,  0.002,  0.   ,  0.068, -0.134,\n",
       "        0.066])"
      ]
     },
     "execution_count": 123,
     "metadata": {},
     "output_type": "execute_result"
    }
   ],
   "source": [
    "forecast25 = model_arima_fit.forecast(steps=25)\n",
    "test1 = test[0:25].values.flatten()\n",
    "test1"
   ]
  },
  {
   "cell_type": "code",
   "execution_count": 125,
   "id": "a607bc2c-8175-42fc-a3b5-9092ef2393df",
   "metadata": {},
   "outputs": [
    {
     "data": {
      "text/plain": [
       "[<matplotlib.lines.Line2D at 0x20b3484e810>]"
      ]
     },
     "execution_count": 125,
     "metadata": {},
     "output_type": "execute_result"
    },
    {
     "data": {
      "image/png": "[encoded data removed]",
      "text/plain": [
       "<Figure size 640x480 with 1 Axes>"
      ]
     },
     "metadata": {},
     "output_type": "display_data"
    }
   ],
   "source": [
    "# Comparision of actual vs predicted for 25 values\n",
    "plt.plot(test[:25])\n",
    "plt.plot(forecast25,color='green') #line plot for prediction"
   ]
  },
  {
   "cell_type": "code",
   "execution_count": 127,
   "id": "ba5fe886-a14c-4cb1-af5c-4d2e25b7df8b",
   "metadata": {},
   "outputs": [
    {
     "data": {
      "text/plain": [
       "{'mse': 0.007662059062018166,\n",
       " 'mae': 0.07020651949473486,\n",
       " 'rmse': 0.08753318834601061}"
      ]
     },
     "execution_count": 127,
     "metadata": {},
     "output_type": "execute_result"
    }
   ],
   "source": [
    "def forecast_accuracy(forecast, actual):\n",
    "    mse = np.mean((forecast - actual)**2)        # MSE\n",
    "    mae = np.mean(np.abs(forecast - actual))    # MAE\n",
    "    rmse = np.mean((forecast - actual)**2)**.5  # RMSE\n",
    "    \n",
    " \n",
    "    return({'mse':mse, 'mae': mae, 'rmse':rmse})\n",
    "\n",
    "forecast_accuracy(forecast25, test1)"
   ]
  },
  {
   "cell_type": "code",
   "execution_count": 129,
   "id": "311b7feb-0028-4286-ac8b-5a7e92e2f843",
   "metadata": {},
   "outputs": [
    {
     "name": "stdout",
     "output_type": "stream",
     "text": [
      "0.08753318834601061\n"
     ]
    },
    {
     "data": {
      "text/plain": [
       "0.007662059062018166"
      ]
     },
     "execution_count": 129,
     "metadata": {},
     "output_type": "execute_result"
    }
   ],
   "source": [
    "from sklearn.metrics import mean_squared_error\n",
    "from statsmodels.tools.eval_measures import rmse\n",
    "\n",
    "# Calculate root mean squared error\n",
    "print(rmse(test1, forecast25))\n",
    "  \n",
    "# Calculate mean squared error\n",
    "mean_squared_error(test1, forecast25)"
   ]
  },
  {
   "cell_type": "markdown",
   "id": "56d53a0f-df31-4f6c-b641-42a1b67180c1",
   "metadata": {},
   "source": [
    "# Conclusion"
   ]
  },
  {
   "cell_type": "raw",
   "id": "54779cb8-8dd5-4a14-823f-686feccf7b3b",
   "metadata": {},
   "source": [
    "1.In the dataset the value of  'mse': 0.007662059062018166,\n",
    " 'mae': 0.07020651949473486,\n",
    " 'rmse': 0.08753318834601061\n",
    " is shows which means model has high accuracy and which is properly trained.\n",
    "2.less error is generated.\n",
    "3.This is time seris model in which i used ARIMA to train model."
   ]
  },
  {
   "cell_type": "code",
   "execution_count": null,
   "id": "52465c41-d743-4d6a-ace5-ac6bfdb13207",
   "metadata": {},
   "outputs": [],
   "source": []
  }
 ],
 "metadata": {
  "kernelspec": {
   "display_name": "Python 3 (ipykernel)",
   "language": "python",
   "name": "python3"
  },
  "language_info": {
   "codemirror_mode": {
    "name": "ipython",
    "version": 3
   },
   "file_extension": ".py",
   "mimetype": "text/x-python",
   "name": "python",
   "nbconvert_exporter": "python",
   "pygments_lexer": "ipython3",
   "version": "3.12.4"
  }
 },
 "nbformat": 4,
 "nbformat_minor": 5
}
